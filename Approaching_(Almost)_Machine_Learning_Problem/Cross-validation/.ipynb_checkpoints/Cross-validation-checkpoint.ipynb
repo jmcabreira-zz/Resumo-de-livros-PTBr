{
 "cells": [
  {
   "cell_type": "markdown",
   "metadata": {},
   "source": [
    "### Resumo livro - Approaching (almost) any Machine Learning Problem\n"
   ]
  },
  {
   "cell_type": "markdown",
   "metadata": {},
   "source": [
    "## Cross-Validation"
   ]
  },
  {
   "cell_type": "markdown",
   "metadata": {},
   "source": [
    "Antes de começar a modelar qualquer algoritmo de machine learning, devemos saber o que é cross-validation e qual tipo devemos utilizar de acordo com seus dados e seus problemas de negócio."
   ]
  },
  {
   "cell_type": "markdown",
   "metadata": {},
   "source": [
    "## Definição:"
   ]
  },
  {
   "cell_type": "markdown",
   "metadata": {},
   "source": [
    "De acordo com o autor, **cross-validation** é o step no processo de modelagem de um algorítmo de machine learning que nos ajuda a garantir que nosso modelo define com acurácia os dados e também nos garante a não ter **overfitit**."
   ]
  },
  {
   "cell_type": "markdown",
   "metadata": {},
   "source": [
    "### Overfitting:\n",
    "\n"
   ]
  },
  {
   "cell_type": "markdown",
   "metadata": {},
   "source": [
    "Para explicar overfitting, vamos dar uma analisada no **red wine-quality dataset**\n",
    "\n"
   ]
  },
  {
   "cell_type": "markdown",
   "metadata": {},
   "source": [
    "> ### O dataset:\n",
    "\n",
    "[Clique aqui para download dos dados](https://www.kaggle.com/uciml/red-wine-quality-cortez-et-al-2009)\n",
    "\n",
    "- 11 atributos que definem a qualidade do vinho:\n",
    "   - 1 - fixed acidity\n",
    "   - 2 - volatile acidity\n",
    "   - 3 - citric acid\n",
    "   - 4 - residual sugar\n",
    "   - 5 - chlorides\n",
    "   - 6 - free sulfur dioxide\n",
    "   - 7 - total sulfur dioxide\n",
    "   - 8 - density\n",
    "   - 9 - pH\n",
    "   - 10 - sulphates\n",
    "   - 11 - alcohol\n",
    "- A variável target, ou seja, que queremos prever :\n",
    "    - 12 - quality (score entre 0 e 10)"
   ]
  },
  {
   "cell_type": "code",
   "execution_count": 69,
   "metadata": {},
   "outputs": [],
   "source": [
    "import warnings\n",
    "warnings.filterwarnings('ignore')"
   ]
  },
  {
   "cell_type": "code",
   "execution_count": 1,
   "metadata": {},
   "outputs": [
    {
     "data": {
      "text/html": [
       "<div>\n",
       "<style scoped>\n",
       "    .dataframe tbody tr th:only-of-type {\n",
       "        vertical-align: middle;\n",
       "    }\n",
       "\n",
       "    .dataframe tbody tr th {\n",
       "        vertical-align: top;\n",
       "    }\n",
       "\n",
       "    .dataframe thead th {\n",
       "        text-align: right;\n",
       "    }\n",
       "</style>\n",
       "<table border=\"1\" class=\"dataframe\">\n",
       "  <thead>\n",
       "    <tr style=\"text-align: right;\">\n",
       "      <th></th>\n",
       "      <th>fixed acidity</th>\n",
       "      <th>volatile acidity</th>\n",
       "      <th>citric acid</th>\n",
       "      <th>residual sugar</th>\n",
       "      <th>chlorides</th>\n",
       "      <th>free sulfur dioxide</th>\n",
       "      <th>total sulfur dioxide</th>\n",
       "      <th>density</th>\n",
       "      <th>pH</th>\n",
       "      <th>sulphates</th>\n",
       "      <th>alcohol</th>\n",
       "      <th>quality</th>\n",
       "    </tr>\n",
       "  </thead>\n",
       "  <tbody>\n",
       "    <tr>\n",
       "      <th>0</th>\n",
       "      <td>7.4</td>\n",
       "      <td>0.70</td>\n",
       "      <td>0.00</td>\n",
       "      <td>1.9</td>\n",
       "      <td>0.076</td>\n",
       "      <td>11.0</td>\n",
       "      <td>34.0</td>\n",
       "      <td>0.9978</td>\n",
       "      <td>3.51</td>\n",
       "      <td>0.56</td>\n",
       "      <td>9.4</td>\n",
       "      <td>5</td>\n",
       "    </tr>\n",
       "    <tr>\n",
       "      <th>1</th>\n",
       "      <td>7.8</td>\n",
       "      <td>0.88</td>\n",
       "      <td>0.00</td>\n",
       "      <td>2.6</td>\n",
       "      <td>0.098</td>\n",
       "      <td>25.0</td>\n",
       "      <td>67.0</td>\n",
       "      <td>0.9968</td>\n",
       "      <td>3.20</td>\n",
       "      <td>0.68</td>\n",
       "      <td>9.8</td>\n",
       "      <td>5</td>\n",
       "    </tr>\n",
       "    <tr>\n",
       "      <th>2</th>\n",
       "      <td>7.8</td>\n",
       "      <td>0.76</td>\n",
       "      <td>0.04</td>\n",
       "      <td>2.3</td>\n",
       "      <td>0.092</td>\n",
       "      <td>15.0</td>\n",
       "      <td>54.0</td>\n",
       "      <td>0.9970</td>\n",
       "      <td>3.26</td>\n",
       "      <td>0.65</td>\n",
       "      <td>9.8</td>\n",
       "      <td>5</td>\n",
       "    </tr>\n",
       "    <tr>\n",
       "      <th>3</th>\n",
       "      <td>11.2</td>\n",
       "      <td>0.28</td>\n",
       "      <td>0.56</td>\n",
       "      <td>1.9</td>\n",
       "      <td>0.075</td>\n",
       "      <td>17.0</td>\n",
       "      <td>60.0</td>\n",
       "      <td>0.9980</td>\n",
       "      <td>3.16</td>\n",
       "      <td>0.58</td>\n",
       "      <td>9.8</td>\n",
       "      <td>6</td>\n",
       "    </tr>\n",
       "    <tr>\n",
       "      <th>4</th>\n",
       "      <td>7.4</td>\n",
       "      <td>0.70</td>\n",
       "      <td>0.00</td>\n",
       "      <td>1.9</td>\n",
       "      <td>0.076</td>\n",
       "      <td>11.0</td>\n",
       "      <td>34.0</td>\n",
       "      <td>0.9978</td>\n",
       "      <td>3.51</td>\n",
       "      <td>0.56</td>\n",
       "      <td>9.4</td>\n",
       "      <td>5</td>\n",
       "    </tr>\n",
       "  </tbody>\n",
       "</table>\n",
       "</div>"
      ],
      "text/plain": [
       "   fixed acidity  volatile acidity  citric acid  residual sugar  chlorides  \\\n",
       "0            7.4              0.70         0.00             1.9      0.076   \n",
       "1            7.8              0.88         0.00             2.6      0.098   \n",
       "2            7.8              0.76         0.04             2.3      0.092   \n",
       "3           11.2              0.28         0.56             1.9      0.075   \n",
       "4            7.4              0.70         0.00             1.9      0.076   \n",
       "\n",
       "   free sulfur dioxide  total sulfur dioxide  density    pH  sulphates  \\\n",
       "0                 11.0                  34.0   0.9978  3.51       0.56   \n",
       "1                 25.0                  67.0   0.9968  3.20       0.68   \n",
       "2                 15.0                  54.0   0.9970  3.26       0.65   \n",
       "3                 17.0                  60.0   0.9980  3.16       0.58   \n",
       "4                 11.0                  34.0   0.9978  3.51       0.56   \n",
       "\n",
       "   alcohol  quality  \n",
       "0      9.4        5  \n",
       "1      9.8        5  \n",
       "2      9.8        5  \n",
       "3      9.8        6  \n",
       "4      9.4        5  "
      ]
     },
     "execution_count": 1,
     "metadata": {},
     "output_type": "execute_result"
    }
   ],
   "source": [
    "import pandas as pd\n",
    "df = pd.read_csv('winequality-red.csv')\n",
    "df.head()"
   ]
  },
  {
   "cell_type": "markdown",
   "metadata": {},
   "source": [
    "Como a qualidade do vinho é um valor que varia de 0 a 10, podemos tratar esse problema como uma regressão ou classificação. No caso de classificação ( que é o que iremos fazer por simplicidade), teremos 10 classes porém podemos condensa-las em 5.\n",
    "\n",
    "Apesar das 10 classes, podemos notar que o dataset só apresenta as classes a seguir:"
   ]
  },
  {
   "cell_type": "code",
   "execution_count": 20,
   "metadata": {},
   "outputs": [
    {
     "data": {
      "text/plain": [
       "array([5, 6, 7, 4, 8, 3], dtype=int64)"
      ]
     },
     "execution_count": 20,
     "metadata": {},
     "output_type": "execute_result"
    }
   ],
   "source": [
    "# valores unicos para qualidade\n",
    "df.quality.unique()"
   ]
  },
  {
   "cell_type": "code",
   "execution_count": 22,
   "metadata": {},
   "outputs": [],
   "source": [
    "qualidade_map = {\n",
    "                    3 : 0,\n",
    "                    4 : 1,\n",
    "                    5 : 2,\n",
    "                    6 : 3,\n",
    "                    7 : 4,\n",
    "                    8 : 5,\n",
    "                }\n"
   ]
  },
  {
   "cell_type": "code",
   "execution_count": 25,
   "metadata": {},
   "outputs": [],
   "source": [
    "df.loc[:, 'quality'] = df.quality.map(qualidade_map)"
   ]
  },
  {
   "cell_type": "code",
   "execution_count": 26,
   "metadata": {},
   "outputs": [
    {
     "data": {
      "text/plain": [
       "array([2, 3, 4, 1, 5, 0], dtype=int64)"
      ]
     },
     "execution_count": 26,
     "metadata": {},
     "output_type": "execute_result"
    }
   ],
   "source": [
    "df.quality.unique()"
   ]
  },
  {
   "cell_type": "markdown",
   "metadata": {},
   "source": [
    "Vamos dividir o dataset em duas partes. Podemos ver abaixo que nosso dataframe possui 1599 linhas e 12 colunas. Vamos separar 1000 para treino e 599 para teste e modelar uma decision tree simples."
   ]
  },
  {
   "cell_type": "code",
   "execution_count": 28,
   "metadata": {},
   "outputs": [
    {
     "data": {
      "text/plain": [
       "(1599, 12)"
      ]
     },
     "execution_count": 28,
     "metadata": {},
     "output_type": "execute_result"
    }
   ],
   "source": [
    "# Número de linhas e colunas do dataframe\n",
    "df.shape"
   ]
  },
  {
   "cell_type": "markdown",
   "metadata": {},
   "source": [
    "#### Separar os dados em treino e teste"
   ]
  },
  {
   "cell_type": "code",
   "execution_count": 39,
   "metadata": {},
   "outputs": [],
   "source": [
    "# frac = 1 para embaralhar o dataframe\n",
    "# reset_index para resetar os indeces\n",
    "df = df.sample(frac = 1).reset_index(drop=True)\n",
    "\n",
    "# dataset de treinamento\n",
    "df_treino = df.head(1000)\n",
    "\n",
    "# dataset de teste/validação\n",
    "df_teste = df.tail(599)"
   ]
  },
  {
   "cell_type": "markdown",
   "metadata": {},
   "source": [
    "#### Treinando uma Decision Tree"
   ]
  },
  {
   "cell_type": "markdown",
   "metadata": {},
   "source": [
    "Agora que já separamos os datasets, podemos treinar da decision tree com os dados de treino. Vamos selecionar o max_depth = 3 e os demais parametros como valor default. Iremos também selecionar algumas colunas para usar como feature do modelo."
   ]
  },
  {
   "cell_type": "code",
   "execution_count": 40,
   "metadata": {},
   "outputs": [
    {
     "data": {
      "text/plain": [
       "Index(['fixed acidity', 'volatile acidity', 'citric acid', 'residual sugar',\n",
       "       'chlorides', 'free sulfur dioxide', 'total sulfur dioxide', 'density',\n",
       "       'pH', 'sulphates', 'alcohol', 'quality'],\n",
       "      dtype='object')"
      ]
     },
     "execution_count": 40,
     "metadata": {},
     "output_type": "execute_result"
    }
   ],
   "source": [
    "df.columns"
   ]
  },
  {
   "cell_type": "markdown",
   "metadata": {},
   "source": [
    "#### max_depth = 3"
   ]
  },
  {
   "cell_type": "code",
   "execution_count": 41,
   "metadata": {},
   "outputs": [
    {
     "data": {
      "text/plain": [
       "DecisionTreeClassifier(max_depth=3)"
      ]
     },
     "execution_count": 41,
     "metadata": {},
     "output_type": "execute_result"
    }
   ],
   "source": [
    "# Importando decision tree e metrics do scikit learn\n",
    "from sklearn import tree\n",
    "from sklearn import metrics\n",
    "\n",
    "clf = tree.DecisionTreeClassifier(max_depth = 3)\n",
    "\n",
    "# Separando algumas colunas para treinar o dataset\n",
    "cols = ['fixed acidity', 'volatile acidity', 'citric acid', 'residual sugar',\n",
    "       'chlorides', 'free sulfur dioxide', 'total sulfur dioxide', 'density',\n",
    "       'pH', 'sulphates', 'alcohol']\n",
    "\n",
    "# treinando o modelo\n",
    "clf.fit(df_treino[cols], df_treino['quality'])"
   ]
  },
  {
   "cell_type": "markdown",
   "metadata": {},
   "source": [
    "#### Testando acurácia do modelo "
   ]
  },
  {
   "cell_type": "code",
   "execution_count": 43,
   "metadata": {},
   "outputs": [
    {
     "name": "stdout",
     "output_type": "stream",
     "text": [
      "Acurácia no treinamento: 0.625\n",
      "Acurácia no teste: 0.5609348914858097\n"
     ]
    }
   ],
   "source": [
    "# Realizar previsão com os dados de treino\n",
    "previsao_treino = clf.predict(df_treino[cols])\n",
    "\n",
    "# Realizar previsão com os dados de teste\n",
    "previsao_teste = clf.predict(df_teste[cols])\n",
    "\n",
    "# Calculando acurácia nos dados de treino\n",
    "acuracia_treino = metrics.accuracy_score(df_treino['quality'], previsao_treino)\n",
    "print('Acurácia no treinamento: {}'.format(acuracia_treino))\n",
    "\n",
    "# Calculando acurácia nos dados de teste\n",
    "acuracia_teste = metrics.accuracy_score(df_teste['quality'], previsao_teste)\n",
    "print('Acurácia no teste: {}'.format(acuracia_teste))\n"
   ]
  },
  {
   "cell_type": "markdown",
   "metadata": {},
   "source": [
    "Como mostrado no código acima, a acurácia com os dados de treino é de 62,5% e com os dados de teste é de cerca de 56,1%. Vamos então aumentrar a profundidade das árvores, dando uma maior complexidade ao modelo e repetir o processo."
   ]
  },
  {
   "cell_type": "markdown",
   "metadata": {},
   "source": [
    "#### max_depth = 7"
   ]
  },
  {
   "cell_type": "markdown",
   "metadata": {},
   "source": [
    "O cídogo abaixo mostra o resultado do treinamento do modelo com max_depth = 7. Podemos notar que a acurácia com dados de treino é de cerca de 74%  e com dados de teste é de 59%. "
   ]
  },
  {
   "cell_type": "code",
   "execution_count": 44,
   "metadata": {},
   "outputs": [
    {
     "name": "stdout",
     "output_type": "stream",
     "text": [
      "Acurácia no treinamento com max_depth = 7 : 0.746\n",
      "Acurácia no teste com max_depth = 7: 0.5959933222036727\n"
     ]
    }
   ],
   "source": [
    "# Importando decision tree e metrics do scikit learn\n",
    "from sklearn import tree\n",
    "from sklearn import metrics\n",
    "\n",
    "clf = tree.DecisionTreeClassifier(max_depth = 7)\n",
    "\n",
    "# Separando algumas colunas para treinar o dataset\n",
    "cols = ['fixed acidity', 'volatile acidity', 'citric acid', 'residual sugar',\n",
    "       'chlorides', 'free sulfur dioxide', 'total sulfur dioxide', 'density',\n",
    "       'pH', 'sulphates', 'alcohol']\n",
    "\n",
    "# treinando o modelo\n",
    "clf.fit(df_treino[cols], df_treino['quality'])\n",
    "\n",
    "# Realizar previsão com os dados de treino\n",
    "previsao_treino = clf.predict(df_treino[cols])\n",
    "\n",
    "# Realizar previsão com os dados de teste\n",
    "previsao_teste = clf.predict(df_teste[cols])\n",
    "\n",
    "# Calculando acurácia nos dados de treino\n",
    "acuracia_treino = metrics.accuracy_score(df_treino['quality'], previsao_treino)\n",
    "print('Acurácia no treinamento com max_depth = 7 : {}'.format(acuracia_treino))\n",
    "\n",
    "# Calculando acurácia nos dados de teste\n",
    "acuracia_teste = metrics.accuracy_score(df_teste['quality'], previsao_teste)\n",
    "print('Acurácia no teste com max_depth = 7: {}'.format(acuracia_teste))\n"
   ]
  },
  {
   "cell_type": "markdown",
   "metadata": {},
   "source": [
    "Note que estamos usando acurácia por ser a métrica com maior simplicidade de análise, porém essa pode não ser a melhor métrica para resolver esse problema.Dito isso, vamos calcular as acurácias para diferentes valores de max_depth e fazer um plot para ver o comportamento do nosso modelo."
   ]
  },
  {
   "cell_type": "code",
   "execution_count": 50,
   "metadata": {},
   "outputs": [
    {
     "data": {
      "image/png": "[encoded data removed]",
      "text/plain": [
       "<Figure size 720x360 with 1 Axes>"
      ]
     },
     "metadata": {
      "needs_background": "light"
     },
     "output_type": "display_data"
    }
   ],
   "source": [
    "from sklearn import tree, metrics\n",
    "\n",
    "import matplotlib\n",
    "import matplotlib.pyplot as plt\n",
    "import seaborn as sns\n",
    "\n",
    "# Definir tamanho do label do nosso plot\n",
    "matplotlib.rc('xtick' , labelsize = 20)\n",
    "matplotlib.rc('ytick', labelsize = 20)\n",
    "\n",
    "# Mostrar o gráfico no notebook\n",
    "%matplotlib inline\n",
    "\n",
    "# Iniciar listas de acurácia de treino e teste - começando com 50%\n",
    "acuracias_treino = [0.5]\n",
    "acuracias_teste = [0.5]\n",
    "\n",
    "# coluna com as features\n",
    "cols = ['fixed acidity', 'volatile acidity', 'citric acid', 'residual sugar',\n",
    "       'chlorides', 'free sulfur dioxide', 'total sulfur dioxide', 'density',\n",
    "       'pH', 'sulphates', 'alcohol']\n",
    "\n",
    "# loop para diferentes valores de profundidade\n",
    "for depth in range(1,25):\n",
    "    # iniciando o modelo\n",
    "    clf = tree.DecisionTreeClassifier(max_depth = depth)\n",
    "    \n",
    "    #fit no modelo\n",
    "    clf.fit(df_treino[cols], df_treino['quality'])\n",
    "    \n",
    "    # Criar previsão de treino e teste\n",
    "    previsao_treino = clf.predict(df_treino[cols])\n",
    "    previsao_teste = clf.predict(df_teste[cols])\n",
    "    \n",
    "    # Calcular acurácia de treino e teste\n",
    "    acuracia_treino = metrics.accuracy_score(df_treino['quality'], previsao_treino)\n",
    "    acuracia_teste = metrics.accuracy_score(df_teste['quality'], previsao_teste)\n",
    "    \n",
    "    # Adicionar acurácia calculada na nossa lista de acurácia\n",
    "    acuracias_treino.append(acuracia_treino)\n",
    "    acuracias_teste.append(acuracia_teste)\n",
    "\n",
    "\n",
    "# Criar o plot com matplotlib e seaborn\n",
    "plt.figure(figsize = (10,5))\n",
    "sns.set_style('whitegrid')\n",
    "plt.plot(acuracias_treino, label = ' Acurácia de Treino')\n",
    "plt.plot(acuracias_teste, label = ' Acurácia de Teste')\n",
    "\n",
    "plt.legend(loc = 'upper left', prop ={'size': 15})\n",
    "plt.xticks(range(0,26,5))\n",
    "plt.xlabel('max_depth', size = 20) \n",
    "plt.ylabel('Acurácia', size = 20)\n",
    "plt.show()"
   ]
  },
  {
   "cell_type": "markdown",
   "metadata": {},
   "source": [
    "O plot acima nos mostra que nosso modelo aprende cada vez melhor os dados de treinamento com um maior valor de max_depth até chegar ao valor que o mesmo possui 100% de acurácia. Já os valores de acurácia para o teste, apresentam o maior valor quando o max_depth igual a 14 ( desconsiderando o valor após acurácia ser 100% nos dados de treino). Isso mostra que apesar da melhora da performance do modelo com os dados de treino, quando vamos analisar o desempenho do mesmo modelo com dados desconhecido, esse modelo encontra-se com *overfitting*. Ou seja, ele aprende muito os padrões dos dados de treino porém não consegue generalizar bem quando é testado ou avaliado em dados que não viu antes."
   ]
  },
  {
   "cell_type": "markdown",
   "metadata": {},
   "source": [
    "- Modelo aprende bem os padrões dos dados de treino\n",
    "- Performance limitada com dados novos (teste ou validação)\n",
    "- Podemos dizer que modelo apresenta grande bias, pois memorizou o comportamento dos dados de treino\n",
    "- Modelo possui dificuldade de generalizar\n",
    "- Grande performance no treino e performance fraca no teste/validação\n",
    "- Devemos usar técnicas e estratégias para evitar overffiting\n",
    "    - Controlar a profundidade das árvores\n",
    "    - Cross-validation\n",
    "    - Controlar a complexidade do modelo de acordo com as escolhas dos parâmetros \n",
    "    - etc...\n",
    "    "
   ]
  },
  {
   "cell_type": "markdown",
   "metadata": {},
   "source": [
    "Importante notar que algumas pessoas podem não considerar esse caso como overfitting pelo simples fato da acurácia nos dados de teste permanecer mais ou menos a mesma. Para eses, o overfitting ocorre quando a performance de teste cai quando a perfoamnce de treino melhora."
   ]
  },
  {
   "cell_type": "markdown",
   "metadata": {},
   "source": [
    "No que diz respeito a deep learning, devemos monitorar a loss durante a fase de treinamento tanto para os dados de treinoq quanto para os dados de teste. Se tivermos uma grande complexidade no modelo, ou grande profundidade, com dados relativamente pequenos, iremos observar que o valor de loss para os dois datasets (treino e teste) irão crescer ao longo do treinamento. Porém, em algum momento ou ponto, o valor de loss para os dados de teste irá atingir seu valor mínimo e , apartir desse momento, irá começar a crescer apesar dos valores para os dados de treinamento continuem diminuindo. É nesse momento em que devemos para o treinamento para garantir que o modelo não tenha *overfitting.*"
   ]
  },
  {
   "cell_type": "markdown",
   "metadata": {},
   "source": [
    "O gráfico de complexidade do modelo abaixo nos mostra o comportamento do modelo quando vamos aumentando sua complexidade. **Underfitting** é quando o modelo não consegue desempenhar bem tanto com os dados de treino quanto com os dados de teste ( Erro grande). A região circulada mostra o momento em que o teste error atinge seu máximo e a partir desse ponto, o desempenho do modelo começar a cair e o erro a crescer - dando início a fase de overfitting da modelage. "
   ]
  },
  {
   "cell_type": "markdown",
   "metadata": {},
   "source": [
    "<img src = 'complexity_curve.png'  />"
   ]
  },
  {
   "cell_type": "markdown",
   "metadata": {},
   "source": [
    "# Cross-Validation"
   ]
  },
  {
   "cell_type": "markdown",
   "metadata": {},
   "source": [
    "Agora podemos falar de fato de cross-validation."
   ]
  },
  {
   "cell_type": "markdown",
   "metadata": {},
   "source": [
    "No exemplo anterior, nós dividimos os dados em treino e test/validação. Treinamos o modelo com a primeira parte e avaliamos o modelo na segunda. Esse é um tipo de cross-validation e é conhecido como **hold-out set**.\n",
    "- Usamos o **hold-out set** quando temos muitos dados e o a inferencia do modelo é um processo demorado.\n",
    "\n",
    "Existem diferentes maneiras de fazer *cross-validation*. Essa é uma etapada crucial para construção de algoritmos de machine learning que generalizam quando aplicados em dados novos. Escolher a melhor Cross-Validation depende do dataset em questão.\n",
    "\n",
    "Abaixo, as Cross-validation mais comumns:\n",
    "- K-fold cross-validation\n",
    "- stratified k-fold cross-validation\n",
    "- Hout-out based validation\n",
    "- Leave-one-out cross-validation\n",
    "- group k-fold cross-validation"
   ]
  },
  {
   "cell_type": "markdown",
   "metadata": {},
   "source": [
    "Cross-validation é basicamente dividir o dataset em algumas partes. Nós então treinamos o modelo em algumas dessas partes e o testamo nas partes restantes.                                                                                                                                                                                                                                                                                                                                                                                                                                                                                                                                                                                                                                                                                                                                                                                                                                                                                                                                                                                                                                                                                                                                                                                                                                                                                                                                                                                                                                                                                                                                                                                                                     "
   ]
  },
  {
   "cell_type": "markdown",
   "metadata": {},
   "source": [
    "## K-fold cross-validatio"
   ]
  },
  {
   "cell_type": "markdown",
   "metadata": {},
   "source": [
    "Os dados são separados em **k** diferentes sets que são exclusivos entre si. Na figura abaixo dividimos o dataset em 5 partes iguais. Separamos então uma parte desses 5 para teste e o restante para treinar o modelo. Avaliamos o modelo então nos dados de teste (acurácia, por exemplo). Na segunda parte, separamos para teste a mesma quantidade de dados, porém uma outra porção - diferente da que foi usado para teste na primeira iteração. Treinamos o modelo nos dados de treino e o avaliamos com os novos dados de teste. Realizamos isso durante 5 iterções e em seguida fazemos a média da métrica usada nas avaliações.\n",
    "\n",
    "Note que devemos realizar uma randomização desses dados. Caso contrário, podemos separar para teste dados de mesma classe ou similares entre sí porém com significante diferença dos dados de treino. Gerar essa aleatoriedade é importante para termos generalização.\n",
    "\n",
    "Note ainda que, podemos avaliar a média de cada iteração mas também podemos simplesmente analisar o menor e o maior valor. A escolha vai depender da métrica que irá fazer mais sentido para o seu problema de negócio."
   ]
  },
  {
   "cell_type": "markdown",
   "metadata": {},
   "source": [
    "<img src = 'k-fold.png'  />"
   ]
  },
  {
   "cell_type": "markdown",
   "metadata": {},
   "source": [
    "Podemos separar os dados em k partes iguais através do **KFold** do scikit-learn. Cada amostra recebe um valor de 0 a k-1."
   ]
  },
  {
   "cell_type": "code",
   "execution_count": 16,
   "metadata": {},
   "outputs": [
    {
     "data": {
      "text/html": [
       "<div>\n",
       "<style scoped>\n",
       "    .dataframe tbody tr th:only-of-type {\n",
       "        vertical-align: middle;\n",
       "    }\n",
       "\n",
       "    .dataframe tbody tr th {\n",
       "        vertical-align: top;\n",
       "    }\n",
       "\n",
       "    .dataframe thead th {\n",
       "        text-align: right;\n",
       "    }\n",
       "</style>\n",
       "<table border=\"1\" class=\"dataframe\">\n",
       "  <thead>\n",
       "    <tr style=\"text-align: right;\">\n",
       "      <th></th>\n",
       "      <th>fixed acidity</th>\n",
       "      <th>volatile acidity</th>\n",
       "      <th>citric acid</th>\n",
       "      <th>residual sugar</th>\n",
       "      <th>chlorides</th>\n",
       "      <th>free sulfur dioxide</th>\n",
       "      <th>total sulfur dioxide</th>\n",
       "      <th>density</th>\n",
       "      <th>pH</th>\n",
       "      <th>sulphates</th>\n",
       "      <th>alcohol</th>\n",
       "      <th>quality</th>\n",
       "      <th>kfold</th>\n",
       "    </tr>\n",
       "  </thead>\n",
       "  <tbody>\n",
       "    <tr>\n",
       "      <th>0</th>\n",
       "      <td>7.1</td>\n",
       "      <td>0.60</td>\n",
       "      <td>0.00</td>\n",
       "      <td>1.8</td>\n",
       "      <td>0.074</td>\n",
       "      <td>16.0</td>\n",
       "      <td>34.0</td>\n",
       "      <td>0.99720</td>\n",
       "      <td>3.47</td>\n",
       "      <td>0.70</td>\n",
       "      <td>9.9</td>\n",
       "      <td>3</td>\n",
       "      <td>0</td>\n",
       "    </tr>\n",
       "    <tr>\n",
       "      <th>1</th>\n",
       "      <td>6.1</td>\n",
       "      <td>0.60</td>\n",
       "      <td>0.08</td>\n",
       "      <td>1.8</td>\n",
       "      <td>0.071</td>\n",
       "      <td>14.0</td>\n",
       "      <td>45.0</td>\n",
       "      <td>0.99336</td>\n",
       "      <td>3.38</td>\n",
       "      <td>0.54</td>\n",
       "      <td>11.0</td>\n",
       "      <td>2</td>\n",
       "      <td>0</td>\n",
       "    </tr>\n",
       "    <tr>\n",
       "      <th>2</th>\n",
       "      <td>6.2</td>\n",
       "      <td>0.70</td>\n",
       "      <td>0.15</td>\n",
       "      <td>5.1</td>\n",
       "      <td>0.076</td>\n",
       "      <td>13.0</td>\n",
       "      <td>27.0</td>\n",
       "      <td>0.99622</td>\n",
       "      <td>3.54</td>\n",
       "      <td>0.60</td>\n",
       "      <td>11.9</td>\n",
       "      <td>3</td>\n",
       "      <td>0</td>\n",
       "    </tr>\n",
       "    <tr>\n",
       "      <th>3</th>\n",
       "      <td>9.2</td>\n",
       "      <td>0.52</td>\n",
       "      <td>1.00</td>\n",
       "      <td>3.4</td>\n",
       "      <td>0.610</td>\n",
       "      <td>32.0</td>\n",
       "      <td>69.0</td>\n",
       "      <td>0.99960</td>\n",
       "      <td>2.74</td>\n",
       "      <td>2.00</td>\n",
       "      <td>9.4</td>\n",
       "      <td>1</td>\n",
       "      <td>0</td>\n",
       "    </tr>\n",
       "    <tr>\n",
       "      <th>4</th>\n",
       "      <td>7.2</td>\n",
       "      <td>0.37</td>\n",
       "      <td>0.32</td>\n",
       "      <td>2.0</td>\n",
       "      <td>0.062</td>\n",
       "      <td>15.0</td>\n",
       "      <td>28.0</td>\n",
       "      <td>0.99470</td>\n",
       "      <td>3.23</td>\n",
       "      <td>0.73</td>\n",
       "      <td>11.3</td>\n",
       "      <td>4</td>\n",
       "      <td>0</td>\n",
       "    </tr>\n",
       "    <tr>\n",
       "      <th>...</th>\n",
       "      <td>...</td>\n",
       "      <td>...</td>\n",
       "      <td>...</td>\n",
       "      <td>...</td>\n",
       "      <td>...</td>\n",
       "      <td>...</td>\n",
       "      <td>...</td>\n",
       "      <td>...</td>\n",
       "      <td>...</td>\n",
       "      <td>...</td>\n",
       "      <td>...</td>\n",
       "      <td>...</td>\n",
       "      <td>...</td>\n",
       "    </tr>\n",
       "    <tr>\n",
       "      <th>1594</th>\n",
       "      <td>6.7</td>\n",
       "      <td>0.48</td>\n",
       "      <td>0.02</td>\n",
       "      <td>2.2</td>\n",
       "      <td>0.080</td>\n",
       "      <td>36.0</td>\n",
       "      <td>111.0</td>\n",
       "      <td>0.99524</td>\n",
       "      <td>3.10</td>\n",
       "      <td>0.53</td>\n",
       "      <td>9.7</td>\n",
       "      <td>2</td>\n",
       "      <td>4</td>\n",
       "    </tr>\n",
       "    <tr>\n",
       "      <th>1595</th>\n",
       "      <td>9.1</td>\n",
       "      <td>0.34</td>\n",
       "      <td>0.42</td>\n",
       "      <td>1.8</td>\n",
       "      <td>0.058</td>\n",
       "      <td>9.0</td>\n",
       "      <td>18.0</td>\n",
       "      <td>0.99392</td>\n",
       "      <td>3.18</td>\n",
       "      <td>0.55</td>\n",
       "      <td>11.4</td>\n",
       "      <td>2</td>\n",
       "      <td>4</td>\n",
       "    </tr>\n",
       "    <tr>\n",
       "      <th>1596</th>\n",
       "      <td>7.2</td>\n",
       "      <td>0.34</td>\n",
       "      <td>0.21</td>\n",
       "      <td>2.5</td>\n",
       "      <td>0.075</td>\n",
       "      <td>41.0</td>\n",
       "      <td>68.0</td>\n",
       "      <td>0.99586</td>\n",
       "      <td>3.37</td>\n",
       "      <td>0.54</td>\n",
       "      <td>10.1</td>\n",
       "      <td>3</td>\n",
       "      <td>4</td>\n",
       "    </tr>\n",
       "    <tr>\n",
       "      <th>1597</th>\n",
       "      <td>7.1</td>\n",
       "      <td>0.43</td>\n",
       "      <td>0.42</td>\n",
       "      <td>5.5</td>\n",
       "      <td>0.071</td>\n",
       "      <td>28.0</td>\n",
       "      <td>128.0</td>\n",
       "      <td>0.99730</td>\n",
       "      <td>3.42</td>\n",
       "      <td>0.71</td>\n",
       "      <td>10.5</td>\n",
       "      <td>2</td>\n",
       "      <td>4</td>\n",
       "    </tr>\n",
       "    <tr>\n",
       "      <th>1598</th>\n",
       "      <td>7.7</td>\n",
       "      <td>0.57</td>\n",
       "      <td>0.21</td>\n",
       "      <td>1.5</td>\n",
       "      <td>0.069</td>\n",
       "      <td>4.0</td>\n",
       "      <td>9.0</td>\n",
       "      <td>0.99458</td>\n",
       "      <td>3.16</td>\n",
       "      <td>0.54</td>\n",
       "      <td>9.8</td>\n",
       "      <td>3</td>\n",
       "      <td>4</td>\n",
       "    </tr>\n",
       "  </tbody>\n",
       "</table>\n",
       "<p>1599 rows × 13 columns</p>\n",
       "</div>"
      ],
      "text/plain": [
       "      fixed acidity  volatile acidity  citric acid  residual sugar  chlorides  \\\n",
       "0               7.1              0.60         0.00             1.8      0.074   \n",
       "1               6.1              0.60         0.08             1.8      0.071   \n",
       "2               6.2              0.70         0.15             5.1      0.076   \n",
       "3               9.2              0.52         1.00             3.4      0.610   \n",
       "4               7.2              0.37         0.32             2.0      0.062   \n",
       "...             ...               ...          ...             ...        ...   \n",
       "1594            6.7              0.48         0.02             2.2      0.080   \n",
       "1595            9.1              0.34         0.42             1.8      0.058   \n",
       "1596            7.2              0.34         0.21             2.5      0.075   \n",
       "1597            7.1              0.43         0.42             5.5      0.071   \n",
       "1598            7.7              0.57         0.21             1.5      0.069   \n",
       "\n",
       "      free sulfur dioxide  total sulfur dioxide  density    pH  sulphates  \\\n",
       "0                    16.0                  34.0  0.99720  3.47       0.70   \n",
       "1                    14.0                  45.0  0.99336  3.38       0.54   \n",
       "2                    13.0                  27.0  0.99622  3.54       0.60   \n",
       "3                    32.0                  69.0  0.99960  2.74       2.00   \n",
       "4                    15.0                  28.0  0.99470  3.23       0.73   \n",
       "...                   ...                   ...      ...   ...        ...   \n",
       "1594                 36.0                 111.0  0.99524  3.10       0.53   \n",
       "1595                  9.0                  18.0  0.99392  3.18       0.55   \n",
       "1596                 41.0                  68.0  0.99586  3.37       0.54   \n",
       "1597                 28.0                 128.0  0.99730  3.42       0.71   \n",
       "1598                  4.0                   9.0  0.99458  3.16       0.54   \n",
       "\n",
       "      alcohol  quality  kfold  \n",
       "0         9.9        3      0  \n",
       "1        11.0        2      0  \n",
       "2        11.9        3      0  \n",
       "3         9.4        1      0  \n",
       "4        11.3        4      0  \n",
       "...       ...      ...    ...  \n",
       "1594      9.7        2      4  \n",
       "1595     11.4        2      4  \n",
       "1596     10.1        3      4  \n",
       "1597     10.5        2      4  \n",
       "1598      9.8        3      4  \n",
       "\n",
       "[1599 rows x 13 columns]"
      ]
     },
     "execution_count": 16,
     "metadata": {},
     "output_type": "execute_result"
    }
   ],
   "source": [
    "import pandas as pd\n",
    "from sklearn.model_selection import KFold\n",
    "\n",
    "df = pd.read_csv('winequality-red.csv')\n",
    "\n",
    "qualidade_map = {\n",
    "                    3 : 0,\n",
    "                    4 : 1,\n",
    "                    5 : 2,\n",
    "                    6 : 3,\n",
    "                    7 : 4,\n",
    "                    8 : 5,\n",
    "                }\n",
    "\n",
    "df.loc[:, 'quality'] = df.quality.map(qualidade_map)\n",
    "\n",
    "# Criar uma nova coluna chamada kfold e preencher com -1\n",
    "df['kfold'] = -1 \n",
    "\n",
    "# Randomizar as linhas do dos dados\n",
    "df = df.sample(frac=1).reset_index(drop = True)\n",
    "\n",
    "# Inicializar a classe kfold do modulo model_selecion\n",
    "kf = KFold(n_splits = 5)\n",
    "\n",
    "# Preencher a coluna kfold\n",
    "for fold, (treino, val) in enumerate(kf.split(X=df)):\n",
    "    df.loc[val, 'kfold'] = fold\n",
    "    \n",
    "df.to_csv('winequality-red_kfolds.csv', index = False)\n",
    "\n",
    "df"
   ]
  },
  {
   "cell_type": "code",
   "execution_count": 8,
   "metadata": {},
   "outputs": [
    {
     "data": {
      "text/plain": [
       "array([0, 1, 2, 3, 4], dtype=int64)"
      ]
     },
     "execution_count": 8,
     "metadata": {},
     "output_type": "execute_result"
    }
   ],
   "source": [
    "df.kfold.unique()"
   ]
  },
  {
   "cell_type": "markdown",
   "metadata": {},
   "source": [
    "- Kfold pode ser usado em praticamente todos os tipos de dados\n"
   ]
  },
  {
   "cell_type": "markdown",
   "metadata": {},
   "source": [
    "---"
   ]
  },
  {
   "cell_type": "markdown",
   "metadata": {},
   "source": [
    "## Stratified k-fold Cross-validation"
   ]
  },
  {
   "cell_type": "markdown",
   "metadata": {},
   "source": [
    "Imagine que vc tenha dados desbalanceados para uma terefa de  classificação binária. Imagine ainda que 90% desses dados sao classe 1 e 10% classe 0. Nesse contexto, você provavelmente não irá utilizar k-fold cross-validation randomizada (como vimos acima). Se usarmos a o k-fold padrão, podemos gerar folds com todos dados da classe 0. Evitamos esse problema utilizando o **Stratified k-fold cross-validation**."
   ]
  },
  {
   "cell_type": "markdown",
   "metadata": {},
   "source": [
    "**Stratified k-fold cross-validation** faz com que a proporção das classes seja mantida para cada fold. Considerando o caso acima, se os nossos dados possuem 90% com label positivo e 10% com label negativo, essa proporção será mantida em cada fold após a divisão dos dados. Se dividirmos os dados em 5 folds, para cada um dos 5, teremos 90% dos dados da classe 1 e 10% da classe 0. Então para qualquer métrica que for utilizada para avaliação, será gerado resultdos similares para todos os folds."
   ]
  },
  {
   "cell_type": "markdown",
   "metadata": {},
   "source": [
    "- Para aplicar o **Stratified k-fold cross-validation**, devemos apenas substituir o *KFold()* por *StratifiedKFold()* no código que usamos no winequality dataset."
   ]
  },
  {
   "cell_type": "code",
   "execution_count": 15,
   "metadata": {},
   "outputs": [
    {
     "data": {
      "text/html": [
       "<div>\n",
       "<style scoped>\n",
       "    .dataframe tbody tr th:only-of-type {\n",
       "        vertical-align: middle;\n",
       "    }\n",
       "\n",
       "    .dataframe tbody tr th {\n",
       "        vertical-align: top;\n",
       "    }\n",
       "\n",
       "    .dataframe thead th {\n",
       "        text-align: right;\n",
       "    }\n",
       "</style>\n",
       "<table border=\"1\" class=\"dataframe\">\n",
       "  <thead>\n",
       "    <tr style=\"text-align: right;\">\n",
       "      <th></th>\n",
       "      <th>fixed acidity</th>\n",
       "      <th>volatile acidity</th>\n",
       "      <th>citric acid</th>\n",
       "      <th>residual sugar</th>\n",
       "      <th>chlorides</th>\n",
       "      <th>free sulfur dioxide</th>\n",
       "      <th>total sulfur dioxide</th>\n",
       "      <th>density</th>\n",
       "      <th>pH</th>\n",
       "      <th>sulphates</th>\n",
       "      <th>alcohol</th>\n",
       "      <th>quality</th>\n",
       "      <th>kfold</th>\n",
       "    </tr>\n",
       "  </thead>\n",
       "  <tbody>\n",
       "    <tr>\n",
       "      <th>0</th>\n",
       "      <td>7.0</td>\n",
       "      <td>0.560</td>\n",
       "      <td>0.17</td>\n",
       "      <td>1.7</td>\n",
       "      <td>0.065</td>\n",
       "      <td>15.0</td>\n",
       "      <td>24.0</td>\n",
       "      <td>0.99514</td>\n",
       "      <td>3.44</td>\n",
       "      <td>0.68</td>\n",
       "      <td>10.55</td>\n",
       "      <td>4</td>\n",
       "      <td>0</td>\n",
       "    </tr>\n",
       "    <tr>\n",
       "      <th>1</th>\n",
       "      <td>6.9</td>\n",
       "      <td>0.520</td>\n",
       "      <td>0.25</td>\n",
       "      <td>2.6</td>\n",
       "      <td>0.081</td>\n",
       "      <td>10.0</td>\n",
       "      <td>37.0</td>\n",
       "      <td>0.99685</td>\n",
       "      <td>3.46</td>\n",
       "      <td>0.50</td>\n",
       "      <td>11.00</td>\n",
       "      <td>2</td>\n",
       "      <td>0</td>\n",
       "    </tr>\n",
       "    <tr>\n",
       "      <th>2</th>\n",
       "      <td>10.5</td>\n",
       "      <td>0.240</td>\n",
       "      <td>0.42</td>\n",
       "      <td>1.8</td>\n",
       "      <td>0.077</td>\n",
       "      <td>6.0</td>\n",
       "      <td>22.0</td>\n",
       "      <td>0.99760</td>\n",
       "      <td>3.21</td>\n",
       "      <td>1.05</td>\n",
       "      <td>10.80</td>\n",
       "      <td>4</td>\n",
       "      <td>0</td>\n",
       "    </tr>\n",
       "    <tr>\n",
       "      <th>3</th>\n",
       "      <td>8.7</td>\n",
       "      <td>0.480</td>\n",
       "      <td>0.30</td>\n",
       "      <td>2.8</td>\n",
       "      <td>0.066</td>\n",
       "      <td>10.0</td>\n",
       "      <td>28.0</td>\n",
       "      <td>0.99640</td>\n",
       "      <td>3.33</td>\n",
       "      <td>0.67</td>\n",
       "      <td>11.20</td>\n",
       "      <td>4</td>\n",
       "      <td>0</td>\n",
       "    </tr>\n",
       "    <tr>\n",
       "      <th>4</th>\n",
       "      <td>9.5</td>\n",
       "      <td>0.460</td>\n",
       "      <td>0.24</td>\n",
       "      <td>2.7</td>\n",
       "      <td>0.092</td>\n",
       "      <td>14.0</td>\n",
       "      <td>44.0</td>\n",
       "      <td>0.99800</td>\n",
       "      <td>3.12</td>\n",
       "      <td>0.74</td>\n",
       "      <td>10.00</td>\n",
       "      <td>3</td>\n",
       "      <td>0</td>\n",
       "    </tr>\n",
       "    <tr>\n",
       "      <th>...</th>\n",
       "      <td>...</td>\n",
       "      <td>...</td>\n",
       "      <td>...</td>\n",
       "      <td>...</td>\n",
       "      <td>...</td>\n",
       "      <td>...</td>\n",
       "      <td>...</td>\n",
       "      <td>...</td>\n",
       "      <td>...</td>\n",
       "      <td>...</td>\n",
       "      <td>...</td>\n",
       "      <td>...</td>\n",
       "      <td>...</td>\n",
       "    </tr>\n",
       "    <tr>\n",
       "      <th>1594</th>\n",
       "      <td>11.3</td>\n",
       "      <td>0.370</td>\n",
       "      <td>0.41</td>\n",
       "      <td>2.3</td>\n",
       "      <td>0.088</td>\n",
       "      <td>6.0</td>\n",
       "      <td>16.0</td>\n",
       "      <td>0.99880</td>\n",
       "      <td>3.09</td>\n",
       "      <td>0.80</td>\n",
       "      <td>9.30</td>\n",
       "      <td>2</td>\n",
       "      <td>4</td>\n",
       "    </tr>\n",
       "    <tr>\n",
       "      <th>1595</th>\n",
       "      <td>5.4</td>\n",
       "      <td>0.420</td>\n",
       "      <td>0.27</td>\n",
       "      <td>2.0</td>\n",
       "      <td>0.092</td>\n",
       "      <td>23.0</td>\n",
       "      <td>55.0</td>\n",
       "      <td>0.99471</td>\n",
       "      <td>3.78</td>\n",
       "      <td>0.64</td>\n",
       "      <td>12.30</td>\n",
       "      <td>4</td>\n",
       "      <td>4</td>\n",
       "    </tr>\n",
       "    <tr>\n",
       "      <th>1596</th>\n",
       "      <td>6.6</td>\n",
       "      <td>0.725</td>\n",
       "      <td>0.20</td>\n",
       "      <td>7.8</td>\n",
       "      <td>0.073</td>\n",
       "      <td>29.0</td>\n",
       "      <td>79.0</td>\n",
       "      <td>0.99770</td>\n",
       "      <td>3.29</td>\n",
       "      <td>0.54</td>\n",
       "      <td>9.20</td>\n",
       "      <td>2</td>\n",
       "      <td>4</td>\n",
       "    </tr>\n",
       "    <tr>\n",
       "      <th>1597</th>\n",
       "      <td>9.0</td>\n",
       "      <td>0.820</td>\n",
       "      <td>0.05</td>\n",
       "      <td>2.4</td>\n",
       "      <td>0.081</td>\n",
       "      <td>26.0</td>\n",
       "      <td>96.0</td>\n",
       "      <td>0.99814</td>\n",
       "      <td>3.36</td>\n",
       "      <td>0.53</td>\n",
       "      <td>10.00</td>\n",
       "      <td>2</td>\n",
       "      <td>4</td>\n",
       "    </tr>\n",
       "    <tr>\n",
       "      <th>1598</th>\n",
       "      <td>6.6</td>\n",
       "      <td>0.840</td>\n",
       "      <td>0.03</td>\n",
       "      <td>2.3</td>\n",
       "      <td>0.059</td>\n",
       "      <td>32.0</td>\n",
       "      <td>48.0</td>\n",
       "      <td>0.99520</td>\n",
       "      <td>3.52</td>\n",
       "      <td>0.56</td>\n",
       "      <td>12.30</td>\n",
       "      <td>4</td>\n",
       "      <td>4</td>\n",
       "    </tr>\n",
       "  </tbody>\n",
       "</table>\n",
       "<p>1599 rows × 13 columns</p>\n",
       "</div>"
      ],
      "text/plain": [
       "      fixed acidity  volatile acidity  citric acid  residual sugar  chlorides  \\\n",
       "0               7.0             0.560         0.17             1.7      0.065   \n",
       "1               6.9             0.520         0.25             2.6      0.081   \n",
       "2              10.5             0.240         0.42             1.8      0.077   \n",
       "3               8.7             0.480         0.30             2.8      0.066   \n",
       "4               9.5             0.460         0.24             2.7      0.092   \n",
       "...             ...               ...          ...             ...        ...   \n",
       "1594           11.3             0.370         0.41             2.3      0.088   \n",
       "1595            5.4             0.420         0.27             2.0      0.092   \n",
       "1596            6.6             0.725         0.20             7.8      0.073   \n",
       "1597            9.0             0.820         0.05             2.4      0.081   \n",
       "1598            6.6             0.840         0.03             2.3      0.059   \n",
       "\n",
       "      free sulfur dioxide  total sulfur dioxide  density    pH  sulphates  \\\n",
       "0                    15.0                  24.0  0.99514  3.44       0.68   \n",
       "1                    10.0                  37.0  0.99685  3.46       0.50   \n",
       "2                     6.0                  22.0  0.99760  3.21       1.05   \n",
       "3                    10.0                  28.0  0.99640  3.33       0.67   \n",
       "4                    14.0                  44.0  0.99800  3.12       0.74   \n",
       "...                   ...                   ...      ...   ...        ...   \n",
       "1594                  6.0                  16.0  0.99880  3.09       0.80   \n",
       "1595                 23.0                  55.0  0.99471  3.78       0.64   \n",
       "1596                 29.0                  79.0  0.99770  3.29       0.54   \n",
       "1597                 26.0                  96.0  0.99814  3.36       0.53   \n",
       "1598                 32.0                  48.0  0.99520  3.52       0.56   \n",
       "\n",
       "      alcohol  quality  kfold  \n",
       "0       10.55        4      0  \n",
       "1       11.00        2      0  \n",
       "2       10.80        4      0  \n",
       "3       11.20        4      0  \n",
       "4       10.00        3      0  \n",
       "...       ...      ...    ...  \n",
       "1594     9.30        2      4  \n",
       "1595    12.30        4      4  \n",
       "1596     9.20        2      4  \n",
       "1597    10.00        2      4  \n",
       "1598    12.30        4      4  \n",
       "\n",
       "[1599 rows x 13 columns]"
      ]
     },
     "execution_count": 15,
     "metadata": {},
     "output_type": "execute_result"
    }
   ],
   "source": [
    "import pandas as pd\n",
    "from sklearn.model_selection import StratifiedKFold\n",
    "\n",
    "df = pd.read_csv('winequality-red.csv')\n",
    "\n",
    "qualidade_map = {\n",
    "                    3 : 0,\n",
    "                    4 : 1,\n",
    "                    5 : 2,\n",
    "                    6 : 3,\n",
    "                    7 : 4,\n",
    "                    8 : 5,\n",
    "                }\n",
    "df.loc[:, 'quality'] = df.quality.map(qualidade_map)\n",
    "\n",
    "# Criar uma nova coluna chamada kfold e preencher com -1\n",
    "df['kfold'] = -1 \n",
    "\n",
    "# Randomizar as linhas do dos dados\n",
    "df = df.sample(frac=1).reset_index(drop = True)\n",
    "\n",
    "#Pegando a coluna quality\n",
    "y = df['quality'].values\n",
    "\n",
    "# Inicializar a classe kfold do modulo model_selecion\n",
    "strat_kf = StratifiedKFold(n_splits = 5)\n",
    "\n",
    "# Preencher a coluna kfold\n",
    "for fold, (treino, val) in enumerate(strat_kf.split(X=df, y=y )):\n",
    "    df.loc[val, 'kfold'] = fold\n",
    "    \n",
    "df.to_csv('winequality-red_strat_kfold.csv', index = False)\n",
    "\n",
    "df"
   ]
  },
  {
   "cell_type": "markdown",
   "metadata": {},
   "source": [
    "> #### Vamos verificar a bistribuição das classes do winequality dataset.\n"
   ]
  },
  {
   "cell_type": "markdown",
   "metadata": {},
   "source": [
    "O gráfico de barras abaixo mostra a distribuição das classes no winequality dataset. Podemos ver a que existem muito mais dados das classes 2 e 3 quando comparada com as demais. Nesse caso, se usarmos o k-fold cross-validation não teremos uma distribuição dessa forma em cada fold. **Por isso nós devemos usar o stratified k-fold cross-validation.**"
   ]
  },
  {
   "cell_type": "code",
   "execution_count": 27,
   "metadata": {},
   "outputs": [
    {
     "data": {
      "text/plain": [
       "Text(0, 0.5, 'count')"
      ]
     },
     "execution_count": 27,
     "metadata": {},
     "output_type": "execute_result"
    },
    {
     "data": {
      "image/png": "[encoded data removed]",
      "text/plain": [
       "<Figure size 842.4x595.44 with 1 Axes>"
      ]
     },
     "metadata": {
      "needs_background": "light"
     },
     "output_type": "display_data"
    }
   ],
   "source": [
    "\n",
    "import seaborn as sns\n",
    "import matplotlib.pyplot as plt\n",
    "dimensao = (11.7, 8.27)\n",
    "fig, ax = plt.subplots(figsize=dimensao)\n",
    "bar = sns.countplot(x = 'quality', data = df)\n",
    "bar.set_xlabel('qualidade do vinho', fontsize = 20)\n",
    "bar.set_ylabel('count', fontsize = 20)"
   ]
  },
  {
   "cell_type": "markdown",
   "metadata": {},
   "source": [
    "> #### Analisando distribuição das classes para o fold = 4"
   ]
  },
  {
   "cell_type": "markdown",
   "metadata": {},
   "source": [
    "Se filtrarmos somente os dados que foram para o fold = 4, veremos que eles possuem a mesma proporção na distribuição das classes. Imagem abaixo"
   ]
  },
  {
   "cell_type": "code",
   "execution_count": 31,
   "metadata": {},
   "outputs": [
    {
     "data": {
      "text/plain": [
       "Text(0, 0.5, 'count')"
      ]
     },
     "execution_count": 31,
     "metadata": {},
     "output_type": "execute_result"
    },
    {
     "data": {
      "image/png": "[encoded data removed]",
      "text/plain": [
       "<Figure size 842.4x595.44 with 1 Axes>"
      ]
     },
     "metadata": {
      "needs_background": "light"
     },
     "output_type": "display_data"
    }
   ],
   "source": [
    "fold_4 = df.loc[df.kfold == 4, :]\n",
    "\n",
    "import seaborn as sns\n",
    "import matplotlib.pyplot as plt\n",
    "dimensao = (11.7, 8.27)\n",
    "fig, ax = plt.subplots(figsize=dimensao)\n",
    "bar = sns.countplot(x = 'quality', data = fold_4)\n",
    "bar.set_xlabel('qualidade do vinho', fontsize = 20)\n",
    "bar.set_ylabel('count', fontsize = 20)"
   ]
  },
  {
   "cell_type": "markdown",
   "metadata": {},
   "source": [
    "### Conclusão:\n",
    "- Stratified kfold cross-validation faz com que cada fold tenha proporção na distribuição de classes similar ao dataset completo\n",
    "- Se for trabalhar com um problema de classificação padrão, escolha stratified kfold cross-validation"
   ]
  },
  {
   "cell_type": "markdown",
   "metadata": {},
   "source": [
    "---"
   ]
  },
  {
   "cell_type": "markdown",
   "metadata": {},
   "source": [
    "## Hold-out based Validation"
   ]
  },
  {
   "cell_type": "markdown",
   "metadata": {},
   "source": [
    "O que devemos fazer se tivermos um dataset muito grande ?! Vamos supor que tenhamos um dataset com 1 milhão de dados. Aplicar k-fold cross-validation resultaria em 800k dados de treino e 200k para validação. Dependendo de qual algoritmo for escolhido para a modelagem, o processo de treino e validação pode ser muito caro. Nesses casos nós podemos utilizar o **hold-out based validation**"
   ]
  },
  {
   "cell_type": "markdown",
   "metadata": {},
   "source": [
    "O processo de criação do hold-out é o mesmo do stratified k-fold. Para o caso do dataset com 1 milhão de dados, podemos criar 10 folds ao invés de 5, e deixar 1 desses folds separados (hold-out). Isso significa que teremos 100k dados nesse fold que vamos chamar de hold-out. Sempre iremos calcular loss, acurácia ou qualquer outra métrica nesses dados que foram separados e treinar com os outros 900k remanescentes.\n",
    "\n",
    "**Hold-out** é frequentemente usado em *time series*. Vamos supor que foi nos designado a tarefa de prever as vendas de uma determinada loja para o ano de 2020 e recebemos dados de 2015 - 2019. Nesse caso, nós podemos separar os dados de 2019 como o **hold-out** e treinar o modelo com os outros dados dos anos de 2015-2018.\n"
   ]
  },
  {
   "cell_type": "markdown",
   "metadata": {},
   "source": [
    "**Importante notar** que quando formos fazer a previsão para o ano de 2020, devemos incluir os dados que foram deixados de hold-out (2019) no modelo. Se isso não for feito, o modelo pode perder informações relevantes de padrões dos dados."
   ]
  },
  {
   "cell_type": "markdown",
   "metadata": {},
   "source": [
    "* Add : Gráfico de ilustração"
   ]
  },
  {
   "cell_type": "markdown",
   "metadata": {},
   "source": [
    "---"
   ]
  },
  {
   "cell_type": "markdown",
   "metadata": {},
   "source": [
    "## Lidando com Datasets Pequenos"
   ]
  },
  {
   "cell_type": "markdown",
   "metadata": {},
   "source": [
    "Muitas vezes, somos obrigados a trabalhar com datasets pequenos. Nesses casos, criar grandes sets de validação significa perder muita informação - o modelo pode não aprender os padrões corretos dos dados e apresentar péssima performance em produção. Em casos como esses, podemos optar por um tipo de cross-validation em que k = N, onde N representa a quantidade de dados no dataset. Isso significa que em todos os folds de treino, nós iremos treinar em todos os dados menos 1. \n",
    "\n",
    "Note que esse tipo de cross-validation pode consumir muito tempo caso a quantidade de dados seja grande, por isso é aconselhavel usar essa técnica somente quando a quantidade de dados for relativamente pequena."
   ]
  },
  {
   "cell_type": "markdown",
   "metadata": {},
   "source": [
    "## Regressão"
   ]
  },
  {
   "cell_type": "markdown",
   "metadata": {},
   "source": [
    "Nós podemos usar quase todas as cross-validation apresentadas anteriormente, com excessão da stratified k-fold. Na verdade, não podemos usar stratified k-fold diretamente porém podemos fazer pequenas modificações para utilizar essa técnicas em problemas de regressão.\n",
    "\n",
    "Na maioria dos casos, um simples **k-fold cross-validation** pode gerar bons resultados para problemas de regressão. Porém, se for observado que a distribuição dos targets ( variaveis que queremos prever) não são consistentes, podemos usar **strafified k-fold** ."
   ]
  },
  {
   "cell_type": "markdown",
   "metadata": {},
   "source": [
    "###  Stratified Cross-validation em problemas de Regressão"
   ]
  },
  {
   "cell_type": "markdown",
   "metadata": {},
   "source": [
    "Para utilizar **stratified k-fold cross-validation**,  nós devemos que,primeiramente, dividir o target em bins( pequenos grupos ou caixas) para então podermos aplicar o stratied k-fold nos mesmos moldes que fizemos no caso anterior.\n",
    "\n",
    "**Se tivermos muitos dados (>10k, >100k)**, não precisamos ter tanto tanto cuidado para determinar o número de bins. Apensa dividimos os dados em 10 ou 20 bins e não teremos problemas. **Porém, se não tivermos uma quantidade signigicativa de dados** podemos usar a **regra de Stunger** para calcular o número de bins ideal"
   ]
  },
  {
   "cell_type": "markdown",
   "metadata": {},
   "source": [
    "> ### Regra de Stunger"
   ]
  },
  {
   "cell_type": "markdown",
   "metadata": {},
   "source": [
    "Regra de Stunger:$$ NúmeroDeBins = 1 + log_2(N) $$"
   ]
  },
  {
   "cell_type": "markdown",
   "metadata": {},
   "source": [
    "Onde N é o número de dados no dataset."
   ]
  },
  {
   "cell_type": "code",
   "execution_count": 54,
   "metadata": {},
   "outputs": [],
   "source": [
    "import math\n",
    "n = [i for i in range(1,100000)]\n",
    "Number_of_Bins = [1 + math.log(x,2) for x in n]"
   ]
  },
  {
   "cell_type": "code",
   "execution_count": 60,
   "metadata": {},
   "outputs": [
    {
     "data": {
      "image/png": "[encoded data removed]",
      "text/plain": [
       "<Figure size 576x432 with 1 Axes>"
      ]
     },
     "metadata": {
      "needs_background": "light"
     },
     "output_type": "display_data"
    }
   ],
   "source": [
    "fig = plt.figure(figsize=(8, 6))\n",
    "plt.plot(Number_of_Bins,n)\n",
    "plt.xlabel('Numero de Bins')\n",
    "plt.ylabel('quantidade de Dados')\n",
    "plt.grid()\n",
    "plt.show()"
   ]
  },
  {
   "cell_type": "markdown",
   "metadata": {},
   "source": [
    "> ### Vamos aplicar stratified k-fold cross-validation na prática:\n",
    "    "
   ]
  },
  {
   "cell_type": "code",
   "execution_count": 67,
   "metadata": {},
   "outputs": [],
   "source": [
    "import numpy as np\n",
    "import pandas as pd\n",
    "\n",
    "from sklearn import datasets\n",
    "from sklearn import model_selection\n",
    "\n",
    "def create_folds(data):\n",
    "    # Cria coluna kfold com -1\n",
    "    data[\"kfold\"] = 1\n",
    "    \n",
    "    # Calcula Número de Bins utilizando regra de Sturger. Vamos usar floor para arredondar os valores\n",
    "    num_bins = int(np.floor(1 + np.log2(len(data))))\n",
    "    \n",
    "    # bin Targets\n",
    "    data.loc[:,'bins'] = pd.cut(\n",
    "                                data['targets'], bins = num_bins, labels = False)\n",
    "    \n",
    "    \n",
    "    # Inicializa a classe kfold do model_selection\n",
    "    kf = model_selection.StratifiedKFold(n_splits = 5)\n",
    "    \n",
    "    # Preenche a coluna kfold\n",
    "    # note que no lugar de targets, iremos usar os bins\n",
    "    for f, (t_, v_ ) in enumerate(kf.split(X=data, y = data.bins.values)):\n",
    "        data.loc[v_, 'kfold'] = f\n",
    "        \n",
    "    # Deleta a coluna Bins\n",
    "    data = data.drop('bins', axis = 1)\n",
    "    \n",
    "    # retorna o dataframe com os folds\n",
    "    \n",
    "    return data"
   ]
  },
  {
   "cell_type": "code",
   "execution_count": 72,
   "metadata": {},
   "outputs": [
    {
     "data": {
      "text/html": [
       "<div>\n",
       "<style scoped>\n",
       "    .dataframe tbody tr th:only-of-type {\n",
       "        vertical-align: middle;\n",
       "    }\n",
       "\n",
       "    .dataframe tbody tr th {\n",
       "        vertical-align: top;\n",
       "    }\n",
       "\n",
       "    .dataframe thead th {\n",
       "        text-align: right;\n",
       "    }\n",
       "</style>\n",
       "<table border=\"1\" class=\"dataframe\">\n",
       "  <thead>\n",
       "    <tr style=\"text-align: right;\">\n",
       "      <th></th>\n",
       "      <th>feature_0</th>\n",
       "      <th>feature_1</th>\n",
       "      <th>feature_2</th>\n",
       "      <th>feature_3</th>\n",
       "      <th>feature_4</th>\n",
       "      <th>feature_5</th>\n",
       "      <th>feature_6</th>\n",
       "      <th>feature_7</th>\n",
       "      <th>feature_8</th>\n",
       "      <th>feature_9</th>\n",
       "      <th>...</th>\n",
       "      <th>feature_992</th>\n",
       "      <th>feature_993</th>\n",
       "      <th>feature_994</th>\n",
       "      <th>feature_995</th>\n",
       "      <th>feature_996</th>\n",
       "      <th>feature_997</th>\n",
       "      <th>feature_998</th>\n",
       "      <th>feature_999</th>\n",
       "      <th>targets</th>\n",
       "      <th>kfold</th>\n",
       "    </tr>\n",
       "  </thead>\n",
       "  <tbody>\n",
       "    <tr>\n",
       "      <th>0</th>\n",
       "      <td>1.221270</td>\n",
       "      <td>-0.534638</td>\n",
       "      <td>-0.208135</td>\n",
       "      <td>0.035767</td>\n",
       "      <td>0.765112</td>\n",
       "      <td>1.186246</td>\n",
       "      <td>1.522513</td>\n",
       "      <td>-0.261441</td>\n",
       "      <td>-0.891212</td>\n",
       "      <td>-0.656054</td>\n",
       "      <td>...</td>\n",
       "      <td>0.117402</td>\n",
       "      <td>-0.183712</td>\n",
       "      <td>-0.230661</td>\n",
       "      <td>0.488696</td>\n",
       "      <td>0.995560</td>\n",
       "      <td>-1.814138</td>\n",
       "      <td>1.249855</td>\n",
       "      <td>1.455666</td>\n",
       "      <td>19.460287</td>\n",
       "      <td>0</td>\n",
       "    </tr>\n",
       "    <tr>\n",
       "      <th>1</th>\n",
       "      <td>-0.222295</td>\n",
       "      <td>1.216755</td>\n",
       "      <td>0.683318</td>\n",
       "      <td>0.040857</td>\n",
       "      <td>-1.560009</td>\n",
       "      <td>0.489496</td>\n",
       "      <td>-0.571114</td>\n",
       "      <td>0.814492</td>\n",
       "      <td>-0.991500</td>\n",
       "      <td>-0.232991</td>\n",
       "      <td>...</td>\n",
       "      <td>-0.739795</td>\n",
       "      <td>-0.661157</td>\n",
       "      <td>0.001149</td>\n",
       "      <td>0.719200</td>\n",
       "      <td>-0.085421</td>\n",
       "      <td>-0.535842</td>\n",
       "      <td>-0.299324</td>\n",
       "      <td>-1.519505</td>\n",
       "      <td>-20.352965</td>\n",
       "      <td>0</td>\n",
       "    </tr>\n",
       "    <tr>\n",
       "      <th>2</th>\n",
       "      <td>-0.891247</td>\n",
       "      <td>0.057395</td>\n",
       "      <td>2.220964</td>\n",
       "      <td>-0.985127</td>\n",
       "      <td>-0.730061</td>\n",
       "      <td>0.601962</td>\n",
       "      <td>-1.441281</td>\n",
       "      <td>-1.370525</td>\n",
       "      <td>-1.244861</td>\n",
       "      <td>-0.204075</td>\n",
       "      <td>...</td>\n",
       "      <td>0.358034</td>\n",
       "      <td>1.596502</td>\n",
       "      <td>0.174934</td>\n",
       "      <td>0.718622</td>\n",
       "      <td>-1.020755</td>\n",
       "      <td>0.040637</td>\n",
       "      <td>-0.689074</td>\n",
       "      <td>0.140167</td>\n",
       "      <td>-48.610082</td>\n",
       "      <td>0</td>\n",
       "    </tr>\n",
       "    <tr>\n",
       "      <th>3</th>\n",
       "      <td>2.920502</td>\n",
       "      <td>-0.452557</td>\n",
       "      <td>-0.189822</td>\n",
       "      <td>-0.133726</td>\n",
       "      <td>-0.183944</td>\n",
       "      <td>0.070585</td>\n",
       "      <td>1.673078</td>\n",
       "      <td>0.731290</td>\n",
       "      <td>-0.793165</td>\n",
       "      <td>-0.533385</td>\n",
       "      <td>...</td>\n",
       "      <td>-0.568846</td>\n",
       "      <td>1.701056</td>\n",
       "      <td>-1.229773</td>\n",
       "      <td>1.172874</td>\n",
       "      <td>-0.654641</td>\n",
       "      <td>-0.397122</td>\n",
       "      <td>0.691996</td>\n",
       "      <td>0.362853</td>\n",
       "      <td>31.513794</td>\n",
       "      <td>0</td>\n",
       "    </tr>\n",
       "    <tr>\n",
       "      <th>4</th>\n",
       "      <td>-0.429305</td>\n",
       "      <td>-0.393294</td>\n",
       "      <td>0.078246</td>\n",
       "      <td>1.001205</td>\n",
       "      <td>0.349472</td>\n",
       "      <td>-0.955617</td>\n",
       "      <td>-0.133874</td>\n",
       "      <td>1.521472</td>\n",
       "      <td>0.733738</td>\n",
       "      <td>-0.494503</td>\n",
       "      <td>...</td>\n",
       "      <td>0.639915</td>\n",
       "      <td>-0.530140</td>\n",
       "      <td>-0.032007</td>\n",
       "      <td>0.942059</td>\n",
       "      <td>0.746894</td>\n",
       "      <td>-0.260209</td>\n",
       "      <td>-0.825988</td>\n",
       "      <td>0.887317</td>\n",
       "      <td>55.389470</td>\n",
       "      <td>0</td>\n",
       "    </tr>\n",
       "    <tr>\n",
       "      <th>...</th>\n",
       "      <td>...</td>\n",
       "      <td>...</td>\n",
       "      <td>...</td>\n",
       "      <td>...</td>\n",
       "      <td>...</td>\n",
       "      <td>...</td>\n",
       "      <td>...</td>\n",
       "      <td>...</td>\n",
       "      <td>...</td>\n",
       "      <td>...</td>\n",
       "      <td>...</td>\n",
       "      <td>...</td>\n",
       "      <td>...</td>\n",
       "      <td>...</td>\n",
       "      <td>...</td>\n",
       "      <td>...</td>\n",
       "      <td>...</td>\n",
       "      <td>...</td>\n",
       "      <td>...</td>\n",
       "      <td>...</td>\n",
       "      <td>...</td>\n",
       "    </tr>\n",
       "    <tr>\n",
       "      <th>14995</th>\n",
       "      <td>-0.002106</td>\n",
       "      <td>-1.151249</td>\n",
       "      <td>-1.130782</td>\n",
       "      <td>-1.962744</td>\n",
       "      <td>0.636868</td>\n",
       "      <td>-1.136193</td>\n",
       "      <td>-2.141191</td>\n",
       "      <td>0.204794</td>\n",
       "      <td>1.430905</td>\n",
       "      <td>0.766017</td>\n",
       "      <td>...</td>\n",
       "      <td>-1.246125</td>\n",
       "      <td>1.161995</td>\n",
       "      <td>-1.008786</td>\n",
       "      <td>-0.448905</td>\n",
       "      <td>0.205836</td>\n",
       "      <td>1.180127</td>\n",
       "      <td>-0.531862</td>\n",
       "      <td>-2.363726</td>\n",
       "      <td>13.141277</td>\n",
       "      <td>4</td>\n",
       "    </tr>\n",
       "    <tr>\n",
       "      <th>14996</th>\n",
       "      <td>-1.483762</td>\n",
       "      <td>-0.055477</td>\n",
       "      <td>0.389201</td>\n",
       "      <td>-0.849175</td>\n",
       "      <td>0.063838</td>\n",
       "      <td>-0.320071</td>\n",
       "      <td>-2.538590</td>\n",
       "      <td>0.036953</td>\n",
       "      <td>0.622489</td>\n",
       "      <td>0.771968</td>\n",
       "      <td>...</td>\n",
       "      <td>-0.739632</td>\n",
       "      <td>-0.225200</td>\n",
       "      <td>1.196177</td>\n",
       "      <td>-1.623190</td>\n",
       "      <td>1.118450</td>\n",
       "      <td>0.312163</td>\n",
       "      <td>-2.023163</td>\n",
       "      <td>-0.656284</td>\n",
       "      <td>-352.095007</td>\n",
       "      <td>4</td>\n",
       "    </tr>\n",
       "    <tr>\n",
       "      <th>14997</th>\n",
       "      <td>-2.359436</td>\n",
       "      <td>-2.181186</td>\n",
       "      <td>-0.634409</td>\n",
       "      <td>-0.704277</td>\n",
       "      <td>1.071928</td>\n",
       "      <td>1.441112</td>\n",
       "      <td>-0.667220</td>\n",
       "      <td>2.637248</td>\n",
       "      <td>0.998406</td>\n",
       "      <td>-1.145329</td>\n",
       "      <td>...</td>\n",
       "      <td>1.010585</td>\n",
       "      <td>0.853082</td>\n",
       "      <td>-0.309751</td>\n",
       "      <td>-0.754563</td>\n",
       "      <td>0.715426</td>\n",
       "      <td>-0.066950</td>\n",
       "      <td>0.650473</td>\n",
       "      <td>-0.021171</td>\n",
       "      <td>-82.739111</td>\n",
       "      <td>4</td>\n",
       "    </tr>\n",
       "    <tr>\n",
       "      <th>14998</th>\n",
       "      <td>-0.267198</td>\n",
       "      <td>-0.733648</td>\n",
       "      <td>-0.187327</td>\n",
       "      <td>0.833502</td>\n",
       "      <td>-0.848166</td>\n",
       "      <td>0.562897</td>\n",
       "      <td>-2.776928</td>\n",
       "      <td>1.037254</td>\n",
       "      <td>1.236238</td>\n",
       "      <td>-0.417491</td>\n",
       "      <td>...</td>\n",
       "      <td>-0.831741</td>\n",
       "      <td>1.517040</td>\n",
       "      <td>-0.137849</td>\n",
       "      <td>0.905673</td>\n",
       "      <td>1.333203</td>\n",
       "      <td>1.657524</td>\n",
       "      <td>-0.218285</td>\n",
       "      <td>3.174166</td>\n",
       "      <td>-114.094199</td>\n",
       "      <td>4</td>\n",
       "    </tr>\n",
       "    <tr>\n",
       "      <th>14999</th>\n",
       "      <td>0.823674</td>\n",
       "      <td>-1.622819</td>\n",
       "      <td>-0.085933</td>\n",
       "      <td>-0.815071</td>\n",
       "      <td>-0.063388</td>\n",
       "      <td>1.836488</td>\n",
       "      <td>0.489340</td>\n",
       "      <td>0.472779</td>\n",
       "      <td>2.036477</td>\n",
       "      <td>-0.188466</td>\n",
       "      <td>...</td>\n",
       "      <td>1.240109</td>\n",
       "      <td>0.945435</td>\n",
       "      <td>0.693227</td>\n",
       "      <td>-0.769263</td>\n",
       "      <td>-1.438087</td>\n",
       "      <td>1.323053</td>\n",
       "      <td>0.643505</td>\n",
       "      <td>-0.338714</td>\n",
       "      <td>55.099470</td>\n",
       "      <td>4</td>\n",
       "    </tr>\n",
       "  </tbody>\n",
       "</table>\n",
       "<p>15000 rows × 1002 columns</p>\n",
       "</div>"
      ],
      "text/plain": [
       "       feature_0  feature_1  feature_2  feature_3  feature_4  feature_5  \\\n",
       "0       1.221270  -0.534638  -0.208135   0.035767   0.765112   1.186246   \n",
       "1      -0.222295   1.216755   0.683318   0.040857  -1.560009   0.489496   \n",
       "2      -0.891247   0.057395   2.220964  -0.985127  -0.730061   0.601962   \n",
       "3       2.920502  -0.452557  -0.189822  -0.133726  -0.183944   0.070585   \n",
       "4      -0.429305  -0.393294   0.078246   1.001205   0.349472  -0.955617   \n",
       "...          ...        ...        ...        ...        ...        ...   \n",
       "14995  -0.002106  -1.151249  -1.130782  -1.962744   0.636868  -1.136193   \n",
       "14996  -1.483762  -0.055477   0.389201  -0.849175   0.063838  -0.320071   \n",
       "14997  -2.359436  -2.181186  -0.634409  -0.704277   1.071928   1.441112   \n",
       "14998  -0.267198  -0.733648  -0.187327   0.833502  -0.848166   0.562897   \n",
       "14999   0.823674  -1.622819  -0.085933  -0.815071  -0.063388   1.836488   \n",
       "\n",
       "       feature_6  feature_7  feature_8  feature_9  ...  feature_992  \\\n",
       "0       1.522513  -0.261441  -0.891212  -0.656054  ...     0.117402   \n",
       "1      -0.571114   0.814492  -0.991500  -0.232991  ...    -0.739795   \n",
       "2      -1.441281  -1.370525  -1.244861  -0.204075  ...     0.358034   \n",
       "3       1.673078   0.731290  -0.793165  -0.533385  ...    -0.568846   \n",
       "4      -0.133874   1.521472   0.733738  -0.494503  ...     0.639915   \n",
       "...          ...        ...        ...        ...  ...          ...   \n",
       "14995  -2.141191   0.204794   1.430905   0.766017  ...    -1.246125   \n",
       "14996  -2.538590   0.036953   0.622489   0.771968  ...    -0.739632   \n",
       "14997  -0.667220   2.637248   0.998406  -1.145329  ...     1.010585   \n",
       "14998  -2.776928   1.037254   1.236238  -0.417491  ...    -0.831741   \n",
       "14999   0.489340   0.472779   2.036477  -0.188466  ...     1.240109   \n",
       "\n",
       "       feature_993  feature_994  feature_995  feature_996  feature_997  \\\n",
       "0        -0.183712    -0.230661     0.488696     0.995560    -1.814138   \n",
       "1        -0.661157     0.001149     0.719200    -0.085421    -0.535842   \n",
       "2         1.596502     0.174934     0.718622    -1.020755     0.040637   \n",
       "3         1.701056    -1.229773     1.172874    -0.654641    -0.397122   \n",
       "4        -0.530140    -0.032007     0.942059     0.746894    -0.260209   \n",
       "...            ...          ...          ...          ...          ...   \n",
       "14995     1.161995    -1.008786    -0.448905     0.205836     1.180127   \n",
       "14996    -0.225200     1.196177    -1.623190     1.118450     0.312163   \n",
       "14997     0.853082    -0.309751    -0.754563     0.715426    -0.066950   \n",
       "14998     1.517040    -0.137849     0.905673     1.333203     1.657524   \n",
       "14999     0.945435     0.693227    -0.769263    -1.438087     1.323053   \n",
       "\n",
       "       feature_998  feature_999     targets  kfold  \n",
       "0         1.249855     1.455666   19.460287      0  \n",
       "1        -0.299324    -1.519505  -20.352965      0  \n",
       "2        -0.689074     0.140167  -48.610082      0  \n",
       "3         0.691996     0.362853   31.513794      0  \n",
       "4        -0.825988     0.887317   55.389470      0  \n",
       "...            ...          ...         ...    ...  \n",
       "14995    -0.531862    -2.363726   13.141277      4  \n",
       "14996    -2.023163    -0.656284 -352.095007      4  \n",
       "14997     0.650473    -0.021171  -82.739111      4  \n",
       "14998    -0.218285     3.174166 -114.094199      4  \n",
       "14999     0.643505    -0.338714   55.099470      4  \n",
       "\n",
       "[15000 rows x 1002 columns]"
      ]
     },
     "execution_count": 72,
     "metadata": {},
     "output_type": "execute_result"
    }
   ],
   "source": [
    "# vamos criar 15000 dados, 100 features e 1 target\n",
    "X, y = datasets.make_regression(\n",
    "                                n_samples = 15000,\n",
    "                                n_features = 1000,\n",
    "                                n_targets = 1)\n",
    "\n",
    "# Criar um dataframe\n",
    "df = pd.DataFrame(X, columns = [f'feature_{i}' for i in range(X.shape[1])])\n",
    "\n",
    "df.loc[:, 'targets'] = y\n",
    "\n",
    "df = create_folds(df)\n",
    "df"
   ]
  },
  {
   "cell_type": "markdown",
   "metadata": {},
   "source": [
    "---"
   ]
  },
  {
   "cell_type": "markdown",
   "metadata": {},
   "source": [
    "Cross-validation é a primeira coisa que devemos fazer quando vamos criar um modelo de machine learning. Se fizermos o cross-validation de forma adequada no qual os dados de validação possuem representatividade dos dados de treino e dados de produção, seremos capazes de gerar bons modelos de machine learning com capacidade significativa de genealizar. "
   ]
  },
  {
   "cell_type": "markdown",
   "metadata": {},
   "source": [
    "Os tipos de cross-validation apresentados nesse notebook, podem ser utilizados em quase todos tipos de problemas de machine learning. Importante notar que o tipo de cross-validation adotado deve sempre levar em consideração a natureza dos seus dados e do problema em questão.\n",
    "\n",
    "For exemplo, vamos supor que a gente queira criar um modelo que indique cancer de pele de acordo com a imagem do paciente. Nesse caso, nossa terefa será criar um modelo com classificação binária que recebe como input a imagem do paciente e preve a probabilidade do cancer ser benigno ou maligno. \n",
    "\n",
    "Nesses casos, teremos várias imagens de um mesmo paciente nos dados de treino. Logo, para aplicarmos cross-validation, devemos usar stratified kfold, porém devemos garantir que pacientes dos dados de treinamento não apareçam nos dados de validação. Para esses casos, o scikit-learn oferece um tipo de cross-validation conhecido como **GroupKFold**. Aqui, os paciente podem considerados grupos. Porém, infelizmente não podemos utilizar GroupKFold com StratifiedKFold no scikit-learn. Apesar disso, podemos fazer nós mesmos e aplicar as duas técnicas de associadas e garantir uma melhor performance e generalibilidade do modelo criado."
   ]
  },
  {
   "cell_type": "code",
   "execution_count": null,
   "metadata": {},
   "outputs": [],
   "source": []
  },
  {
   "cell_type": "code",
   "execution_count": null,
   "metadata": {},
   "outputs": [],
   "source": []
  },
  {
   "cell_type": "code",
   "execution_count": null,
   "metadata": {},
   "outputs": [],
   "source": []
  }
 ],
 "metadata": {
  "kernelspec": {
   "display_name": "Python 3",
   "language": "python",
   "name": "python3"
  },
  "language_info": {
   "codemirror_mode": {
    "name": "ipython",
    "version": 3
   },
   "file_extension": ".py",
   "mimetype": "text/x-python",
   "name": "python",
   "nbconvert_exporter": "python",
   "pygments_lexer": "ipython3",
   "version": "3.8.3"
  }
 },
 "nbformat": 4,
 "nbformat_minor": 4
}
