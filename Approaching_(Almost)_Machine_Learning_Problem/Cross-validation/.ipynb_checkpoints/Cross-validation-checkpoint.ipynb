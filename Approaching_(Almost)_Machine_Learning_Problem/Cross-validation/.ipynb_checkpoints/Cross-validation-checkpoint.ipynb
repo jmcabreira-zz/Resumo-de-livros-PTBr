{
 "cells": [
  {
   "cell_type": "markdown",
   "metadata": {},
   "source": [
    "# Resumo livro - Approaching (almost) any Machine Learning Problem\n"
   ]
  },
  {
   "cell_type": "markdown",
   "metadata": {},
   "source": [
    "## Cross-Validation"
   ]
  },
  {
   "cell_type": "markdown",
   "metadata": {},
   "source": [
    "Antes de começar a modelar qualquer algoritmo de machine learning, devemos saber o que é cross-validation e qual tipo devemos utilizar de acordo com seus dados e seus problemas de negócio."
   ]
  },
  {
   "cell_type": "markdown",
   "metadata": {},
   "source": [
    "## Definição:"
   ]
  },
  {
   "cell_type": "markdown",
   "metadata": {},
   "source": [
    "De acordo com o autor, **cross-validation** é o step no processo de modelagem de um algorítmo de machine learning que nos ajuda a garantir que nosso modelo define com acurácia os dados e também nos garante a não ter **overfitit**."
   ]
  },
  {
   "cell_type": "markdown",
   "metadata": {},
   "source": [
    "### Overfitting:\n",
    "\n"
   ]
  },
  {
   "cell_type": "markdown",
   "metadata": {},
   "source": [
    "Para explicar overfitting, vamos dar uma analisada no **red wine-quality dataset**\n",
    "\n"
   ]
  },
  {
   "cell_type": "markdown",
   "metadata": {},
   "source": [
    "> ### O dataset:\n",
    "\n",
    "[Clique aqui para download dos dados](https://www.kaggle.com/uciml/red-wine-quality-cortez-et-al-2009)\n",
    "\n",
    "- 11 atributos que definem a qualidade do vinho:\n",
    "   - 1 - fixed acidity\n",
    "   - 2 - volatile acidity\n",
    "   - 3 - citric acid\n",
    "   - 4 - residual sugar\n",
    "   - 5 - chlorides\n",
    "   - 6 - free sulfur dioxide\n",
    "   - 7 - total sulfur dioxide\n",
    "   - 8 - density\n",
    "   - 9 - pH\n",
    "   - 10 - sulphates\n",
    "   - 11 - alcohol\n",
    "- A variável target, ou seja, que queremos prever :\n",
    "    - 12 - quality (score entre 0 e 10)"
   ]
  },
  {
   "cell_type": "code",
   "execution_count": 12,
   "metadata": {},
   "outputs": [
    {
     "data": {
      "text/html": [
       "<div>\n",
       "<style scoped>\n",
       "    .dataframe tbody tr th:only-of-type {\n",
       "        vertical-align: middle;\n",
       "    }\n",
       "\n",
       "    .dataframe tbody tr th {\n",
       "        vertical-align: top;\n",
       "    }\n",
       "\n",
       "    .dataframe thead th {\n",
       "        text-align: right;\n",
       "    }\n",
       "</style>\n",
       "<table border=\"1\" class=\"dataframe\">\n",
       "  <thead>\n",
       "    <tr style=\"text-align: right;\">\n",
       "      <th></th>\n",
       "      <th>fixed acidity</th>\n",
       "      <th>volatile acidity</th>\n",
       "      <th>citric acid</th>\n",
       "      <th>residual sugar</th>\n",
       "      <th>chlorides</th>\n",
       "      <th>free sulfur dioxide</th>\n",
       "      <th>total sulfur dioxide</th>\n",
       "      <th>density</th>\n",
       "      <th>pH</th>\n",
       "      <th>sulphates</th>\n",
       "      <th>alcohol</th>\n",
       "      <th>quality</th>\n",
       "    </tr>\n",
       "  </thead>\n",
       "  <tbody>\n",
       "    <tr>\n",
       "      <th>0</th>\n",
       "      <td>7.4</td>\n",
       "      <td>0.70</td>\n",
       "      <td>0.00</td>\n",
       "      <td>1.9</td>\n",
       "      <td>0.076</td>\n",
       "      <td>11.0</td>\n",
       "      <td>34.0</td>\n",
       "      <td>0.9978</td>\n",
       "      <td>3.51</td>\n",
       "      <td>0.56</td>\n",
       "      <td>9.4</td>\n",
       "      <td>5</td>\n",
       "    </tr>\n",
       "    <tr>\n",
       "      <th>1</th>\n",
       "      <td>7.8</td>\n",
       "      <td>0.88</td>\n",
       "      <td>0.00</td>\n",
       "      <td>2.6</td>\n",
       "      <td>0.098</td>\n",
       "      <td>25.0</td>\n",
       "      <td>67.0</td>\n",
       "      <td>0.9968</td>\n",
       "      <td>3.20</td>\n",
       "      <td>0.68</td>\n",
       "      <td>9.8</td>\n",
       "      <td>5</td>\n",
       "    </tr>\n",
       "    <tr>\n",
       "      <th>2</th>\n",
       "      <td>7.8</td>\n",
       "      <td>0.76</td>\n",
       "      <td>0.04</td>\n",
       "      <td>2.3</td>\n",
       "      <td>0.092</td>\n",
       "      <td>15.0</td>\n",
       "      <td>54.0</td>\n",
       "      <td>0.9970</td>\n",
       "      <td>3.26</td>\n",
       "      <td>0.65</td>\n",
       "      <td>9.8</td>\n",
       "      <td>5</td>\n",
       "    </tr>\n",
       "    <tr>\n",
       "      <th>3</th>\n",
       "      <td>11.2</td>\n",
       "      <td>0.28</td>\n",
       "      <td>0.56</td>\n",
       "      <td>1.9</td>\n",
       "      <td>0.075</td>\n",
       "      <td>17.0</td>\n",
       "      <td>60.0</td>\n",
       "      <td>0.9980</td>\n",
       "      <td>3.16</td>\n",
       "      <td>0.58</td>\n",
       "      <td>9.8</td>\n",
       "      <td>6</td>\n",
       "    </tr>\n",
       "    <tr>\n",
       "      <th>4</th>\n",
       "      <td>7.4</td>\n",
       "      <td>0.70</td>\n",
       "      <td>0.00</td>\n",
       "      <td>1.9</td>\n",
       "      <td>0.076</td>\n",
       "      <td>11.0</td>\n",
       "      <td>34.0</td>\n",
       "      <td>0.9978</td>\n",
       "      <td>3.51</td>\n",
       "      <td>0.56</td>\n",
       "      <td>9.4</td>\n",
       "      <td>5</td>\n",
       "    </tr>\n",
       "  </tbody>\n",
       "</table>\n",
       "</div>"
      ],
      "text/plain": [
       "   fixed acidity  volatile acidity  citric acid  residual sugar  chlorides  \\\n",
       "0            7.4              0.70         0.00             1.9      0.076   \n",
       "1            7.8              0.88         0.00             2.6      0.098   \n",
       "2            7.8              0.76         0.04             2.3      0.092   \n",
       "3           11.2              0.28         0.56             1.9      0.075   \n",
       "4            7.4              0.70         0.00             1.9      0.076   \n",
       "\n",
       "   free sulfur dioxide  total sulfur dioxide  density    pH  sulphates  \\\n",
       "0                 11.0                  34.0   0.9978  3.51       0.56   \n",
       "1                 25.0                  67.0   0.9968  3.20       0.68   \n",
       "2                 15.0                  54.0   0.9970  3.26       0.65   \n",
       "3                 17.0                  60.0   0.9980  3.16       0.58   \n",
       "4                 11.0                  34.0   0.9978  3.51       0.56   \n",
       "\n",
       "   alcohol  quality  \n",
       "0      9.4        5  \n",
       "1      9.8        5  \n",
       "2      9.8        5  \n",
       "3      9.8        6  \n",
       "4      9.4        5  "
      ]
     },
     "execution_count": 12,
     "metadata": {},
     "output_type": "execute_result"
    }
   ],
   "source": [
    "import pandas as pd\n",
    "df = pd.read_csv('winequality-red.csv')\n",
    "df.head()"
   ]
  },
  {
   "cell_type": "markdown",
   "metadata": {},
   "source": [
    "Como a qualidade do vinho é um valor que varia de 0 a 10, podemos tratar esse problema como uma regressão ou classificação. No caso de classificação ( que é o que iremos fazer por simplicidade), teremos 10 classes porém podemos condensa-las em 5.\n",
    "\n",
    "Apesar das 10 classes, podemos notar que o dataset só apresenta as classes a seguir:"
   ]
  },
  {
   "cell_type": "code",
   "execution_count": 20,
   "metadata": {},
   "outputs": [
    {
     "data": {
      "text/plain": [
       "array([5, 6, 7, 4, 8, 3], dtype=int64)"
      ]
     },
     "execution_count": 20,
     "metadata": {},
     "output_type": "execute_result"
    }
   ],
   "source": [
    "# valores unicos para qualidade\n",
    "df.quality.unique()"
   ]
  },
  {
   "cell_type": "code",
   "execution_count": 22,
   "metadata": {},
   "outputs": [],
   "source": [
    "qualidade_map = {\n",
    "                    3 : 0,\n",
    "                    4 : 1,\n",
    "                    5 : 2,\n",
    "                    6 : 3,\n",
    "                    7 : 4,\n",
    "                    8 : 5,\n",
    "                }\n"
   ]
  },
  {
   "cell_type": "code",
   "execution_count": 25,
   "metadata": {},
   "outputs": [],
   "source": [
    "df.loc[:, 'quality'] = df.quality.map(qualidade_map)"
   ]
  },
  {
   "cell_type": "code",
   "execution_count": 26,
   "metadata": {},
   "outputs": [
    {
     "data": {
      "text/plain": [
       "array([2, 3, 4, 1, 5, 0], dtype=int64)"
      ]
     },
     "execution_count": 26,
     "metadata": {},
     "output_type": "execute_result"
    }
   ],
   "source": [
    "df.quality.unique()"
   ]
  },
  {
   "cell_type": "markdown",
   "metadata": {},
   "source": [
    "Vamos dividir o dataset em duas partes. Podemos ver abaixo que nosso dataframe possui 1599 linhas e 12 colunas. Vamos separar 1000 para treino e 599 para teste e modelar uma decision tree simples."
   ]
  },
  {
   "cell_type": "code",
   "execution_count": 28,
   "metadata": {},
   "outputs": [
    {
     "data": {
      "text/plain": [
       "(1599, 12)"
      ]
     },
     "execution_count": 28,
     "metadata": {},
     "output_type": "execute_result"
    }
   ],
   "source": [
    "# Número de linhas e colunas do dataframe\n",
    "df.shape"
   ]
  },
  {
   "cell_type": "markdown",
   "metadata": {},
   "source": [
    "#### Separar os dados em treino e teste"
   ]
  },
  {
   "cell_type": "code",
   "execution_count": 39,
   "metadata": {},
   "outputs": [],
   "source": [
    "# frac = 1 para embaralhar o dataframe\n",
    "# reset_index para resetar os indeces\n",
    "df = df.sample(frac = 1).reset_index(drop=True)\n",
    "\n",
    "# dataset de treinamento\n",
    "df_treino = df.head(1000)\n",
    "\n",
    "# dataset de teste/validação\n",
    "df_teste = df.tail(599)"
   ]
  },
  {
   "cell_type": "markdown",
   "metadata": {},
   "source": [
    "#### Treinando uma Decision Tree"
   ]
  },
  {
   "cell_type": "markdown",
   "metadata": {},
   "source": [
    "Agora que já separamos os datasets, podemos treinar da decision tree com os dados de treino. Vamos selecionar o max_depth = 3 e os demais parametros como valor default. Iremos também selecionar algumas colunas para usar como feature do modelo."
   ]
  },
  {
   "cell_type": "code",
   "execution_count": 40,
   "metadata": {},
   "outputs": [
    {
     "data": {
      "text/plain": [
       "Index(['fixed acidity', 'volatile acidity', 'citric acid', 'residual sugar',\n",
       "       'chlorides', 'free sulfur dioxide', 'total sulfur dioxide', 'density',\n",
       "       'pH', 'sulphates', 'alcohol', 'quality'],\n",
       "      dtype='object')"
      ]
     },
     "execution_count": 40,
     "metadata": {},
     "output_type": "execute_result"
    }
   ],
   "source": [
    "df.columns"
   ]
  },
  {
   "cell_type": "markdown",
   "metadata": {},
   "source": [
    "#### max_depth = 3"
   ]
  },
  {
   "cell_type": "code",
   "execution_count": 41,
   "metadata": {},
   "outputs": [
    {
     "data": {
      "text/plain": [
       "DecisionTreeClassifier(max_depth=3)"
      ]
     },
     "execution_count": 41,
     "metadata": {},
     "output_type": "execute_result"
    }
   ],
   "source": [
    "# Importando decision tree e metrics do scikit learn\n",
    "from sklearn import tree\n",
    "from sklearn import metrics\n",
    "\n",
    "clf = tree.DecisionTreeClassifier(max_depth = 3)\n",
    "\n",
    "# Separando algumas colunas para treinar o dataset\n",
    "cols = ['fixed acidity', 'volatile acidity', 'citric acid', 'residual sugar',\n",
    "       'chlorides', 'free sulfur dioxide', 'total sulfur dioxide', 'density',\n",
    "       'pH', 'sulphates', 'alcohol']\n",
    "\n",
    "# treinando o modelo\n",
    "clf.fit(df_treino[cols], df_treino['quality'])"
   ]
  },
  {
   "cell_type": "markdown",
   "metadata": {},
   "source": [
    "#### Testando acurácia do modelo "
   ]
  },
  {
   "cell_type": "code",
   "execution_count": 43,
   "metadata": {},
   "outputs": [
    {
     "name": "stdout",
     "output_type": "stream",
     "text": [
      "Acurácia no treinamento: 0.625\n",
      "Acurácia no teste: 0.5609348914858097\n"
     ]
    }
   ],
   "source": [
    "# Realizar previsão com os dados de treino\n",
    "previsao_treino = clf.predict(df_treino[cols])\n",
    "\n",
    "# Realizar previsão com os dados de teste\n",
    "previsao_teste = clf.predict(df_teste[cols])\n",
    "\n",
    "# Calculando acurácia nos dados de treino\n",
    "acuracia_treino = metrics.accuracy_score(df_treino['quality'], previsao_treino)\n",
    "print('Acurácia no treinamento: {}'.format(acuracia_treino))\n",
    "\n",
    "# Calculando acurácia nos dados de teste\n",
    "acuracia_teste = metrics.accuracy_score(df_teste['quality'], previsao_teste)\n",
    "print('Acurácia no teste: {}'.format(acuracia_teste))\n"
   ]
  },
  {
   "cell_type": "markdown",
   "metadata": {},
   "source": [
    "Como mostrado no código acima, a acurácia com os dados de treino é de 62,5% e com os dados de teste é de cerca de 56,1%. Vamos então aumentrar a profundidade das árvores, dando uma maior complexidade ao modelo e repetir o processo."
   ]
  },
  {
   "cell_type": "markdown",
   "metadata": {},
   "source": [
    "#### max_depth = 7"
   ]
  },
  {
   "cell_type": "markdown",
   "metadata": {},
   "source": [
    "O cídogo abaixo mostra o resultado do treinamento do modelo com max_depth = 7. Podemos notar que a acurácia com dados de treino é de cerca de 74%  e com dados de teste é de 59%. "
   ]
  },
  {
   "cell_type": "code",
   "execution_count": 44,
   "metadata": {},
   "outputs": [
    {
     "name": "stdout",
     "output_type": "stream",
     "text": [
      "Acurácia no treinamento com max_depth = 7 : 0.746\n",
      "Acurácia no teste com max_depth = 7: 0.5959933222036727\n"
     ]
    }
   ],
   "source": [
    "# Importando decision tree e metrics do scikit learn\n",
    "from sklearn import tree\n",
    "from sklearn import metrics\n",
    "\n",
    "clf = tree.DecisionTreeClassifier(max_depth = 7)\n",
    "\n",
    "# Separando algumas colunas para treinar o dataset\n",
    "cols = ['fixed acidity', 'volatile acidity', 'citric acid', 'residual sugar',\n",
    "       'chlorides', 'free sulfur dioxide', 'total sulfur dioxide', 'density',\n",
    "       'pH', 'sulphates', 'alcohol']\n",
    "\n",
    "# treinando o modelo\n",
    "clf.fit(df_treino[cols], df_treino['quality'])\n",
    "\n",
    "# Realizar previsão com os dados de treino\n",
    "previsao_treino = clf.predict(df_treino[cols])\n",
    "\n",
    "# Realizar previsão com os dados de teste\n",
    "previsao_teste = clf.predict(df_teste[cols])\n",
    "\n",
    "# Calculando acurácia nos dados de treino\n",
    "acuracia_treino = metrics.accuracy_score(df_treino['quality'], previsao_treino)\n",
    "print('Acurácia no treinamento com max_depth = 7 : {}'.format(acuracia_treino))\n",
    "\n",
    "# Calculando acurácia nos dados de teste\n",
    "acuracia_teste = metrics.accuracy_score(df_teste['quality'], previsao_teste)\n",
    "print('Acurácia no teste com max_depth = 7: {}'.format(acuracia_teste))\n"
   ]
  },
  {
   "cell_type": "markdown",
   "metadata": {},
   "source": [
    "Note que estamos usando acurácia por ser a métrica com maior simplicidade de análise, porém essa pode não ser a melhor métrica para resolver esse problema.Dito isso, vamos calcular as acurácias para diferentes valores de max_depth e fazer um plot para ver o comportamento do nosso modelo."
   ]
  },
  {
   "cell_type": "code",
   "execution_count": 50,
   "metadata": {},
   "outputs": [
    {
     "data": {
      "image/png": "[encoded data removed]",
      "text/plain": [
       "<Figure size 720x360 with 1 Axes>"
      ]
     },
     "metadata": {
      "needs_background": "light"
     },
     "output_type": "display_data"
    }
   ],
   "source": [
    "from sklearn import tree, metrics\n",
    "\n",
    "import matplotlib\n",
    "import matplotlib.pyplot as plt\n",
    "import seaborn as sns\n",
    "\n",
    "# Definir tamanho do label do nosso plot\n",
    "matplotlib.rc('xtick' , labelsize = 20)\n",
    "matplotlib.rc('ytick', labelsize = 20)\n",
    "\n",
    "# Mostrar o gráfico no notebook\n",
    "%matplotlib inline\n",
    "\n",
    "# Iniciar listas de acurácia de treino e teste - começando com 50%\n",
    "acuracias_treino = [0.5]\n",
    "acuracias_teste = [0.5]\n",
    "\n",
    "# coluna com as features\n",
    "cols = ['fixed acidity', 'volatile acidity', 'citric acid', 'residual sugar',\n",
    "       'chlorides', 'free sulfur dioxide', 'total sulfur dioxide', 'density',\n",
    "       'pH', 'sulphates', 'alcohol']\n",
    "\n",
    "# loop para diferentes valores de profundidade\n",
    "for depth in range(1,25):\n",
    "    # iniciando o modelo\n",
    "    clf = tree.DecisionTreeClassifier(max_depth = depth)\n",
    "    \n",
    "    #fit no modelo\n",
    "    clf.fit(df_treino[cols], df_treino['quality'])\n",
    "    \n",
    "    # Criar previsão de treino e teste\n",
    "    previsao_treino = clf.predict(df_treino[cols])\n",
    "    previsao_teste = clf.predict(df_teste[cols])\n",
    "    \n",
    "    # Calcular acurácia de treino e teste\n",
    "    acuracia_treino = metrics.accuracy_score(df_treino['quality'], previsao_treino)\n",
    "    acuracia_teste = metrics.accuracy_score(df_teste['quality'], previsao_teste)\n",
    "    \n",
    "    # Adicionar acurácia calculada na nossa lista de acurácia\n",
    "    acuracias_treino.append(acuracia_treino)\n",
    "    acuracias_teste.append(acuracia_teste)\n",
    "\n",
    "\n",
    "# Criar o plot com matplotlib e seaborn\n",
    "plt.figure(figsize = (10,5))\n",
    "sns.set_style('whitegrid')\n",
    "plt.plot(acuracias_treino, label = ' Acurácia de Treino')\n",
    "plt.plot(acuracias_teste, label = ' Acurácia de Teste')\n",
    "\n",
    "plt.legend(loc = 'upper left', prop ={'size': 15})\n",
    "plt.xticks(range(0,26,5))\n",
    "plt.xlabel('max_depth', size = 20) \n",
    "plt.ylabel('Acurácia', size = 20)\n",
    "plt.show()"
   ]
  },
  {
   "cell_type": "markdown",
   "metadata": {},
   "source": [
    "O plot acima nos mostra que nosso modelo aprende cada vez melhor os dados de treinamento com um maior valor de max_depth até chegar ao valor que o mesmo possui 100% de acurácia. Já os valores de acurácia para o teste, apresentam o maior valor quando o max_depth igual a 14 ( desconsiderando o valor após acurácia ser 100% nos dados de treino). Isso mostra que apesar da melhora da performance do modelo com os dados de treino, quando vamos analisar o desempenho do mesmo modelo com dados desconhecido, esse modelo encontra-se com *overfitting*. Ou seja, ele aprende muito os padrões dos dados de treino porém não consegue generalizar bem quando é testado ou avaliado em dados que não viu antes."
   ]
  },
  {
   "cell_type": "markdown",
   "metadata": {},
   "source": [
    "- Modelo aprende bem os padrões dos dados de treino\n",
    "- Performance limitada com dados novos (teste ou validação)\n",
    "- Podemos dizer que modelo apresenta grande bias, pois memorizou o comportamento dos dados de treino\n",
    "- Modelo possui dificuldade de generalizar\n",
    "- Grande performance no treino e performance fraca no teste/validação\n",
    "- Devemos usar técnicas e estratégias para evitar overffiting\n",
    "    - Controlar a profundidade das árvores\n",
    "    - Cross-validation\n",
    "    - Controlar a complexidade do modelo de acordo com as escolhas dos parâmetros \n",
    "    - etc...\n",
    "    "
   ]
  },
  {
   "cell_type": "markdown",
   "metadata": {},
   "source": [
    "Importante notar que algumas pessoas podem não considerar esse caso como overfitting pelo simples fato da acurácia nos dados de teste permanecer mais ou menos a mesma. Para eses, o overfitting ocorre quando a performance de teste cai quando a perfoamnce de treino melhora."
   ]
  },
  {
   "cell_type": "markdown",
   "metadata": {},
   "source": [
    "No que diz respeito a deep learning, devemos monitorar a loss durante a fase de treinamento tanto para os dados de treinoq quanto para os dados de teste. Se tivermos uma grande complexidade no modelo, ou grande profundidade, com dados relativamente pequenos, iremos observar que o valor de loss para os dois datasets (treino e teste) irão crescer ao longo do treinamento. Porém, em algum momento ou ponto, o valor de loss para os dados de teste irá atingir seu valor mínimo e , apartir desse momento, irá começar a crescer apesar dos valores para os dados de treinamento continuem diminuindo. É nesse momento em que devemos para o treinamento para garantir que o modelo não tenha *overfitting.*"
   ]
  },
  {
   "cell_type": "markdown",
   "metadata": {},
   "source": [
    "O gráfico de complexidade do modelo abaixo nos mostra o comportamento do modelo quando vamos aumentando sua complexidade. **Underfitting** é quando o modelo não consegue desempenhar bem tanto com os dados de treino quanto com os dados de teste ( Erro grande). A região circulada mostra o momento em que o teste error atinge seu máximo e a partir desse ponto, o desempenho do modelo começar a cair e o erro a crescer - dando início a fase de overfitting da modelage. "
   ]
  },
  {
   "cell_type": "markdown",
   "metadata": {},
   "source": [
    "<img src = 'complexity_curve.png'  />"
   ]
  },
  {
   "cell_type": "markdown",
   "metadata": {},
   "source": [
    "## Cross-Validation"
   ]
  },
  {
   "cell_type": "markdown",
   "metadata": {},
   "source": [
    "Agora podemos falar de fato de cross-validation."
   ]
  },
  {
   "cell_type": "markdown",
   "metadata": {},
   "source": [
    "No exemplo anterior, nós dividimos os dados em treino e test/validação. Treinamos o modelo com a primeira parte e avaliamos o modelo na segunda. Esse é um tipo de cross-validation e é conhecido como **hold-out set**.\n",
    "- Usamos o **hold-out set** quando temos muitos dados e o a inferencia do modelo é um processo demorado.\n",
    "\n",
    "Existem diferentes maneiras de fazer *cross-validation*. Essa é uma etapada crucial para construção de algoritmos de machine learning que generalizam quando aplicados em dados novos. Escolher a melhor Cross-Validation depende do dataset em questão.\n",
    "\n",
    "Abaixo, as Cross-validation mais comumns:\n",
    "- K-fold cross-validation\n",
    "- stratified k-fold cross-validation\n",
    "- Hout-out based validation\n",
    "- Leave-one-out cross-validation\n",
    "- group k-fold cross-validation"
   ]
  },
  {
   "cell_type": "markdown",
   "metadata": {},
   "source": [
    "Cross-validation é basicamente dividir o dataset em algumas partes. Nós então treinamos o modelo em algumas dessas partes e o testamo nas partes restantes.                                                                                                                                                                                                                                                                                                                                                                                                                                                                                                                                                                                                                                                                                                                                                                                                                                                                                                                                                                                                                                                                                                                                                                                                                                                                                                                                                                                                                                                                                                                                                                                                                     "
   ]
  },
  {
   "cell_type": "markdown",
   "metadata": {},
   "source": [
    "### K-fold cross-validatio"
   ]
  },
  {
   "cell_type": "markdown",
   "metadata": {},
   "source": [
    "Os dados são separados em **k** diferentes sets que são exclusivos entre si. Na figura abaixo dividimos o dataset em 5 partes iguais. Separamos então uma parte desses 5 para teste e o restante para treinar o modelo. Avaliamos o modelo então nos dados de teste (acurácia, por exemplo). Na segunda parte, separamos para teste a mesma quantidade de dados, porém uma outra porção - diferente da que foi usado para teste na primeira iteração. Treinamos o modelo nos dados de treino e o avaliamos com os novos dados de teste. Realizamos isso durante 5 iterções e em seguida fazemos a média da métrica usada nas avaliações.\n",
    "\n",
    "Note que devemos realizar uma randomização desses dados. Caso contrário, podemos separar para teste dados de mesma classe ou similares entre sí porém com significante diferença dos dados de treino. Gerar essa aleatoriedade é importante para termos generalização.\n",
    "\n",
    "Note ainda que, podemos avaliar a média de cada iteração mas também podemos simplesmente analisar o menor e o maior valor. A escolha vai depender da métrica que irá fazer mais sentido para o seu problema de negócio."
   ]
  },
  {
   "cell_type": "markdown",
   "metadata": {},
   "source": [
    "<img src = 'k-fold.png'  />"
   ]
  },
  {
   "cell_type": "markdown",
   "metadata": {},
   "source": [
    "Podemos separar os dados em k partes iguais através do **KFold** do scikit-learn. Cada amostra recebe um valor de 0 a k-1."
   ]
  },
  {
   "cell_type": "code",
   "execution_count": 3,
   "metadata": {},
   "outputs": [
    {
     "ename": "ImportError",
     "evalue": "cannot import name 'model_selecion' from 'sklearn' (C:\\Users\\borge\\anaconda3\\lib\\site-packages\\sklearn\\__init__.py)",
     "output_type": "error",
     "traceback": [
      "\u001b[1;31m---------------------------------------------------------------------------\u001b[0m",
      "\u001b[1;31mImportError\u001b[0m                               Traceback (most recent call last)",
      "\u001b[1;32m<ipython-input-3-b1ea1932c65b>\u001b[0m in \u001b[0;36m<module>\u001b[1;34m\u001b[0m\n\u001b[0;32m      1\u001b[0m \u001b[1;32mimport\u001b[0m \u001b[0mpandas\u001b[0m \u001b[1;32mas\u001b[0m \u001b[0mpd\u001b[0m\u001b[1;33m\u001b[0m\u001b[1;33m\u001b[0m\u001b[0m\n\u001b[1;32m----> 2\u001b[1;33m \u001b[1;32mfrom\u001b[0m \u001b[0msklearn\u001b[0m \u001b[1;32mimport\u001b[0m \u001b[0mmodel_selecion\u001b[0m\u001b[1;33m\u001b[0m\u001b[1;33m\u001b[0m\u001b[0m\n\u001b[0m\u001b[0;32m      3\u001b[0m \u001b[1;33m\u001b[0m\u001b[0m\n",
      "\u001b[1;31mImportError\u001b[0m: cannot import name 'model_selecion' from 'sklearn' (C:\\Users\\borge\\anaconda3\\lib\\site-packages\\sklearn\\__init__.py)"
     ]
    }
   ],
   "source": [
    "import pandas as pd\n",
    "from sklearn import model_selecion\n",
    "\n"
   ]
  },
  {
   "cell_type": "code",
   "execution_count": null,
   "metadata": {},
   "outputs": [],
   "source": []
  }
 ],
 "metadata": {
  "kernelspec": {
   "display_name": "Python 3",
   "language": "python",
   "name": "python3"
  },
  "language_info": {
   "codemirror_mode": {
    "name": "ipython",
    "version": 3
   },
   "file_extension": ".py",
   "mimetype": "text/x-python",
   "name": "python",
   "nbconvert_exporter": "python",
   "pygments_lexer": "ipython3",
   "version": "3.8.3"
  }
 },
 "nbformat": 4,
 "nbformat_minor": 4
}
