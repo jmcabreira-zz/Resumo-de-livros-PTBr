{
 "cells": [
  {
   "cell_type": "markdown",
   "metadata": {},
   "source": [
    "<h1><center>Organizando Projetos de Machine Learning</center></h1>\n"
   ]
  },
  {
   "cell_type": "markdown",
   "metadata": {},
   "source": [
    "Finalmente já podemos construir nosso primeiro modelo de machine learning.\n",
    "\n",
    "Antes de começarmos temos que nos atentar a algumas coisas. Lembre-se de que iremos trabalhar com a IDE/ editor de texto no lugar de jupyter notebook. Caso você queira utilizar jupyter notebook, não tem problema algum. Irei utilizar o jupyter notebook somente para ilustrar os códigos e plotar os gráficos quando necessário.\n",
    "\n",
    "Iremos construir um framework de classificação de modo que os problemas se tornarão plug n'play. **Você poderá trainar um modelo sem a necessidade de muitas mudanças no código e, quando melhorar seu modelo, você saberá monitorá-lo utilizando o git.**"
   ]
  },
  {
   "cell_type": "markdown",
   "metadata": {},
   "source": [
    "Vamos olhar para a estrutura dos arquivos primeiramente. Para cada projeto que for construir, crie um folder novo. Por exemplo, estou chamando o projeto de \"project\".\n",
    "\n",
    "O interior do projeto deve parecer algo algo como a imagem abaixo:"
   ]
  },
  {
   "cell_type": "markdown",
   "metadata": {},
   "source": [
    "<center><img src=\"project-tree.png\"/></center>"
   ]
  },
  {
   "cell_type": "markdown",
   "metadata": {},
   "source": [
    "Vamos entender cada um dos folders:"
   ]
  },
  {
   "cell_type": "code",
   "execution_count": null,
   "metadata": {},
   "outputs": [],
   "source": []
  },
  {
   "cell_type": "code",
   "execution_count": null,
   "metadata": {},
   "outputs": [],
   "source": []
  },
  {
   "cell_type": "code",
   "execution_count": null,
   "metadata": {},
   "outputs": [],
   "source": []
  },
  {
   "cell_type": "code",
   "execution_count": null,
   "metadata": {},
   "outputs": [],
   "source": []
  },
  {
   "cell_type": "code",
   "execution_count": null,
   "metadata": {},
   "outputs": [],
   "source": []
  }
 ],
 "metadata": {
  "kernelspec": {
   "display_name": "Python 3",
   "language": "python",
   "name": "python3"
  },
  "language_info": {
   "codemirror_mode": {
    "name": "ipython",
    "version": 3
   },
   "file_extension": ".py",
   "mimetype": "text/x-python",
   "name": "python",
   "nbconvert_exporter": "python",
   "pygments_lexer": "ipython3",
   "version": "3.8.3"
  }
 },
 "nbformat": 4,
 "nbformat_minor": 4
}
