{
 "cells": [
  {
   "cell_type": "markdown",
   "metadata": {},
   "source": [
    "<h1><center>Organizando Projetos de Machine Learning</center></h1>\n"
   ]
  },
  {
   "cell_type": "markdown",
   "metadata": {},
   "source": [
    "Finalmente já podemos construir nosso primeiro modelo de machine learning.\n",
    "\n",
    "Antes de começarmos temos que nos atentar a algumas coisas. Lembre-se de que iremos trabalhar com a IDE/ editor de texto no lugar de jupyter notebook. Caso você queira utilizar jupyter notebook, não tem problema algum. Irei utilizar o jupyter notebook somente para ilustrar os códigos e plotar os gráficos quando necessário.\n",
    "\n",
    "Iremos construir um framework de classificação de modo que os problemas se tornarão plug n'play. **Você poderá trainar um modelo sem a necessidade de muitas mudanças no código e, quando melhorar seu modelo, você saberá monitorá-lo utilizando o git.**"
   ]
  },
  {
   "cell_type": "markdown",
   "metadata": {},
   "source": [
    "Vamos olhar para a estrutura dos arquivos primeiramente. Para cada projeto que for construir, crie um folder novo. Por exemplo, estou chamando o projeto de \"project\".\n",
    "\n",
    "O interior do projeto deve parecer algo algo como a imagem abaixo:"
   ]
  },
  {
   "cell_type": "markdown",
   "metadata": {},
   "source": [
    "<br>"
   ]
  },
  {
   "cell_type": "markdown",
   "metadata": {},
   "source": [
    "<center><img src=\"project-tree.png\"/></center>"
   ]
  },
  {
   "cell_type": "markdown",
   "metadata": {},
   "source": [
    "<br>"
   ]
  },
  {
   "cell_type": "markdown",
   "metadata": {},
   "source": [
    "Muitas pessoas ficam em dúvida de como estruturar seus projetos de Machine Learning. A estrutura que mostro aqui apresenta um framework de classificação de modo que os problemas se tornarão plug n'play. **Você poderá trainar um modelo sem a necessidade de muitas mudanças no código e, quando melhorar seu modelo, você saberá monitorá-lo utilizando o git.** Vale a pena ter domínio não só dos códigos mas também do gerenciamento, engenharia de todo o projeto para que a gente consiga dar uma escalabilidade cada vez melhor e de maneira mais efetiva.\n",
    "\n",
    "Vamos entender cada um dos folders:\n",
    "\n",
    "* **input/** : Esse folder contém todos os arquivos de input e os dados do projeto de machine learning. Se você estiver trabalhando com projeto de NLP, você pode deixar suas word embeddings aqui. Se estiver trabalhando com projeto de imagens, todas as imagens podem estar dentro de subfolders dentro do folder input.\n",
    "\n",
    "* **src/** : Aqui nós deixaremos todos os scripts python associados ao projeto. Se eu me referir a script python , exemplo qualquer arquivo *.py estarei me referindo a arquivos nesse folder.\n",
    "\n",
    "* **models/** : Esse folder contém os modelos treinados.\n",
    "\n",
    "* **notebooks/** : Todos os jupyter notebooks estarão nesse folder.\n",
    "\n",
    "* **README.md**: Esse será o arquivo markdownonde nós podemos descrever seu projeto e escrever instruções de como treinar o modelo ou como coloca-lo em um ambiente de produção.\n",
    "\n",
    "* **LICENSE:**: Esse é um text file que consiste da licença do projeto, como por exemplo o MIT, Apache, etc."
   ]
  },
  {
   "cell_type": "markdown",
   "metadata": {},
   "source": [
    "Vamos supor que você queira desenvolver um modelo de classificação com dataset MNIST ( Um dataset que é utilizado em quase todo livro de machine learning ). Se você se lembrar, usamos esse mesmo dataset no capítulo de cross-validation.Então, não vou explicar sobre esse dataset. Existem muitos formatos do MNIST dataset disponíveis online, mas iremos utilizar o formato CSV.\n",
    "\n",
    "Nesse formato do dataset, cada row (linha) do CSV file consiste dos labels das imagens e 784 valores de pixels que variam de 0 a 255. O dataset contém 60000 imagens nesse formato.\n",
    "\n",
    "Podemos usar o pandas para ler os dados facilmente.\n",
    "\n",
    "**O plot abaixo deixa claro que a distribuição dos labels é aproximadamente uniforme. Podemos então usar *accuracy/F1* como métricas. Esse é o primeiro passo quanto estiver desenvolvendo qualquer projeto de machine learning: decida a métrica!**"
   ]
  },
  {
   "cell_type": "code",
   "execution_count": 6,
   "metadata": {},
   "outputs": [
    {
     "data": {
      "text/html": [
       "<div>\n",
       "<style scoped>\n",
       "    .dataframe tbody tr th:only-of-type {\n",
       "        vertical-align: middle;\n",
       "    }\n",
       "\n",
       "    .dataframe tbody tr th {\n",
       "        vertical-align: top;\n",
       "    }\n",
       "\n",
       "    .dataframe thead th {\n",
       "        text-align: right;\n",
       "    }\n",
       "</style>\n",
       "<table border=\"1\" class=\"dataframe\">\n",
       "  <thead>\n",
       "    <tr style=\"text-align: right;\">\n",
       "      <th></th>\n",
       "      <th>label</th>\n",
       "      <th>1x1</th>\n",
       "      <th>1x2</th>\n",
       "      <th>1x3</th>\n",
       "      <th>1x4</th>\n",
       "      <th>1x5</th>\n",
       "      <th>1x6</th>\n",
       "      <th>1x7</th>\n",
       "      <th>1x8</th>\n",
       "      <th>1x9</th>\n",
       "      <th>...</th>\n",
       "      <th>28x19</th>\n",
       "      <th>28x20</th>\n",
       "      <th>28x21</th>\n",
       "      <th>28x22</th>\n",
       "      <th>28x23</th>\n",
       "      <th>28x24</th>\n",
       "      <th>28x25</th>\n",
       "      <th>28x26</th>\n",
       "      <th>28x27</th>\n",
       "      <th>28x28</th>\n",
       "    </tr>\n",
       "  </thead>\n",
       "  <tbody>\n",
       "    <tr>\n",
       "      <th>0</th>\n",
       "      <td>5</td>\n",
       "      <td>0</td>\n",
       "      <td>0</td>\n",
       "      <td>0</td>\n",
       "      <td>0</td>\n",
       "      <td>0</td>\n",
       "      <td>0</td>\n",
       "      <td>0</td>\n",
       "      <td>0</td>\n",
       "      <td>0</td>\n",
       "      <td>...</td>\n",
       "      <td>0</td>\n",
       "      <td>0</td>\n",
       "      <td>0</td>\n",
       "      <td>0</td>\n",
       "      <td>0</td>\n",
       "      <td>0</td>\n",
       "      <td>0</td>\n",
       "      <td>0</td>\n",
       "      <td>0</td>\n",
       "      <td>0</td>\n",
       "    </tr>\n",
       "    <tr>\n",
       "      <th>1</th>\n",
       "      <td>0</td>\n",
       "      <td>0</td>\n",
       "      <td>0</td>\n",
       "      <td>0</td>\n",
       "      <td>0</td>\n",
       "      <td>0</td>\n",
       "      <td>0</td>\n",
       "      <td>0</td>\n",
       "      <td>0</td>\n",
       "      <td>0</td>\n",
       "      <td>...</td>\n",
       "      <td>0</td>\n",
       "      <td>0</td>\n",
       "      <td>0</td>\n",
       "      <td>0</td>\n",
       "      <td>0</td>\n",
       "      <td>0</td>\n",
       "      <td>0</td>\n",
       "      <td>0</td>\n",
       "      <td>0</td>\n",
       "      <td>0</td>\n",
       "    </tr>\n",
       "    <tr>\n",
       "      <th>2</th>\n",
       "      <td>4</td>\n",
       "      <td>0</td>\n",
       "      <td>0</td>\n",
       "      <td>0</td>\n",
       "      <td>0</td>\n",
       "      <td>0</td>\n",
       "      <td>0</td>\n",
       "      <td>0</td>\n",
       "      <td>0</td>\n",
       "      <td>0</td>\n",
       "      <td>...</td>\n",
       "      <td>0</td>\n",
       "      <td>0</td>\n",
       "      <td>0</td>\n",
       "      <td>0</td>\n",
       "      <td>0</td>\n",
       "      <td>0</td>\n",
       "      <td>0</td>\n",
       "      <td>0</td>\n",
       "      <td>0</td>\n",
       "      <td>0</td>\n",
       "    </tr>\n",
       "    <tr>\n",
       "      <th>3</th>\n",
       "      <td>1</td>\n",
       "      <td>0</td>\n",
       "      <td>0</td>\n",
       "      <td>0</td>\n",
       "      <td>0</td>\n",
       "      <td>0</td>\n",
       "      <td>0</td>\n",
       "      <td>0</td>\n",
       "      <td>0</td>\n",
       "      <td>0</td>\n",
       "      <td>...</td>\n",
       "      <td>0</td>\n",
       "      <td>0</td>\n",
       "      <td>0</td>\n",
       "      <td>0</td>\n",
       "      <td>0</td>\n",
       "      <td>0</td>\n",
       "      <td>0</td>\n",
       "      <td>0</td>\n",
       "      <td>0</td>\n",
       "      <td>0</td>\n",
       "    </tr>\n",
       "    <tr>\n",
       "      <th>4</th>\n",
       "      <td>9</td>\n",
       "      <td>0</td>\n",
       "      <td>0</td>\n",
       "      <td>0</td>\n",
       "      <td>0</td>\n",
       "      <td>0</td>\n",
       "      <td>0</td>\n",
       "      <td>0</td>\n",
       "      <td>0</td>\n",
       "      <td>0</td>\n",
       "      <td>...</td>\n",
       "      <td>0</td>\n",
       "      <td>0</td>\n",
       "      <td>0</td>\n",
       "      <td>0</td>\n",
       "      <td>0</td>\n",
       "      <td>0</td>\n",
       "      <td>0</td>\n",
       "      <td>0</td>\n",
       "      <td>0</td>\n",
       "      <td>0</td>\n",
       "    </tr>\n",
       "  </tbody>\n",
       "</table>\n",
       "<p>5 rows × 785 columns</p>\n",
       "</div>"
      ],
      "text/plain": [
       "   label  1x1  1x2  1x3  1x4  1x5  1x6  1x7  1x8  1x9  ...  28x19  28x20  \\\n",
       "0      5    0    0    0    0    0    0    0    0    0  ...      0      0   \n",
       "1      0    0    0    0    0    0    0    0    0    0  ...      0      0   \n",
       "2      4    0    0    0    0    0    0    0    0    0  ...      0      0   \n",
       "3      1    0    0    0    0    0    0    0    0    0  ...      0      0   \n",
       "4      9    0    0    0    0    0    0    0    0    0  ...      0      0   \n",
       "\n",
       "   28x21  28x22  28x23  28x24  28x25  28x26  28x27  28x28  \n",
       "0      0      0      0      0      0      0      0      0  \n",
       "1      0      0      0      0      0      0      0      0  \n",
       "2      0      0      0      0      0      0      0      0  \n",
       "3      0      0      0      0      0      0      0      0  \n",
       "4      0      0      0      0      0      0      0      0  \n",
       "\n",
       "[5 rows x 785 columns]"
      ]
     },
     "execution_count": 6,
     "metadata": {},
     "output_type": "execute_result"
    }
   ],
   "source": [
    "import pandas as pd\n",
    "import os\n",
    "input_file_path = os.path.join(\"project\",\"input\",\"mnist_train.csv\")\n",
    "df = pd.read_csv(input_file_path)\n",
    "df.head()"
   ]
  },
  {
   "cell_type": "code",
   "execution_count": 11,
   "metadata": {},
   "outputs": [
    {
     "data": {
      "text/plain": [
       "<AxesSubplot:>"
      ]
     },
     "execution_count": 11,
     "metadata": {},
     "output_type": "execute_result"
    },
    {
     "data": {
      "image/png": "[encoded data removed]",
      "text/plain": [
       "<Figure size 432x288 with 1 Axes>"
      ]
     },
     "metadata": {
      "needs_background": "light"
     },
     "output_type": "display_data"
    }
   ],
   "source": [
    "df.label.value_counts().plot.bar()"
   ]
  },
  {
   "cell_type": "markdown",
   "metadata": {},
   "source": [
    "<br>"
   ]
  },
  {
   "cell_type": "markdown",
   "metadata": {},
   "source": [
    "Agora podemos codar um pouco. Precisamos criar um folder (pasta) *src/* e alguns scripts python.\n",
    "\n",
    "Favor notar que o csv de treino está dentro do folder *input* com o nome *mnist_train.csv*.]\n",
    "\n",
    "O primeiro script que deve ser criado é o **create_folds.py**. Esse irá criar um novo arquivo no folder *input/* chamado mnist_train_folds.csv como o mesmo nome do arquivo de treino *mnist_train.csv*. A única diferença é que esse arquivo CSV estará embaralhado e com uma nova coluna chamada kfold.\n",
    "\n",
    "Uma fez que decidimoso qual métrica de avaliação utilizar e tivermos criado os folds, estaremos pronto para criar nosso primeiro modelo. Isso é feito no script **train.py**."
   ]
  },
  {
   "cell_type": "markdown",
   "metadata": {},
   "source": [
    "Abaixo temos parte do código que criar os folds ( *project/scr/create_folds.py* ). Lembrando que aqui no notebook estamos apresentando somente a parte do código que executa o processo. O código todo estruturado encontra-se em *./project/csr/create_folds.py*"
   ]
  },
  {
   "cell_type": "code",
   "execution_count": 23,
   "metadata": {},
   "outputs": [],
   "source": [
    "#src/create_folds\n",
    "\n",
    "from sklearn import model_selection\n",
    "import pandas as pd\n",
    "\n",
    "train_path = \"./project/input/mnist_train.csv\"\n",
    "df = pd.read_csv(train_path)\n",
    "\n",
    "df[\"kfold\"] = -1\n",
    "\n",
    "df = df.sample(frac=1).reset_index(drop=True)\n",
    "y = df.label.values\n",
    "\n",
    "kf = model_selection.StratifiedKFold(n_splits=5)\n",
    "\n",
    "for f, (t_, v_) in enumerate(kf.split(X=df, y=y)):\n",
    "    df.loc[v_, 'kfold'] = f\n",
    "\n",
    "path = './project/input/mnist_train_folds.csv'\n",
    "\n",
    "df.to_csv(path, index=False)"
   ]
  },
  {
   "cell_type": "markdown",
   "metadata": {},
   "source": [
    "<br>"
   ]
  },
  {
   "cell_type": "markdown",
   "metadata": {},
   "source": [
    "Agora que os folds foram criados, podemos então criar o train.py."
   ]
  },
  {
   "cell_type": "code",
   "execution_count": 26,
   "metadata": {},
   "outputs": [],
   "source": [
    "#scr/train.py\n",
    "import joblib\n",
    "import pandas as pd\n",
    "from sklearn import metrics\n",
    "from sklearn import tree\n",
    "\n",
    "def run(fold):\n",
    "    # ler os dados de treino com folds\n",
    "    df = pd.read_csv(\"../input/mnist_train_folds.csv\")\n",
    "    \n",
    "    # Dados de treino são os que apresentam folds diferentes dos folds em questão\n",
    "    # note que deletamos os index\n",
    "    df_train =df[df.fold != fold].reset_index(drop = True)\n",
    "    "
   ]
  },
  {
   "cell_type": "code",
   "execution_count": null,
   "metadata": {},
   "outputs": [],
   "source": []
  }
 ],
 "metadata": {
  "kernelspec": {
   "display_name": "Python 3",
   "language": "python",
   "name": "python3"
  },
  "language_info": {
   "codemirror_mode": {
    "name": "ipython",
    "version": 3
   },
   "file_extension": ".py",
   "mimetype": "text/x-python",
   "name": "python",
   "nbconvert_exporter": "python",
   "pygments_lexer": "ipython3",
   "version": "3.8.8"
  }
 },
 "nbformat": 4,
 "nbformat_minor": 4
}
