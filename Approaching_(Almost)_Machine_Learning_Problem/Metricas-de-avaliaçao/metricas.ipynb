{
 "cells": [
  {
   "cell_type": "markdown",
   "metadata": {},
   "source": [
    "### Resumo livro - Approaching (almost) any Machine Learning Problem\n"
   ]
  },
  {
   "cell_type": "markdown",
   "metadata": {},
   "source": [
    "# Métricas de Avaliação"
   ]
  },
  {
   "cell_type": "markdown",
   "metadata": {},
   "source": [
    "Quando vamos desenvolver algoritmos de machine learning, podemos utilizar diversas métricas de avaliação. Algumas vezes, criamos métricas novas para atender uma necessidade de compreensão para o negócio. Nesse notebook, vamos avaliar as métricas mais comums que podem ser usadas nos mais variados tipos de problemas."
   ]
  },
  {
   "cell_type": "markdown",
   "metadata": {},
   "source": [
    "Importante notar que trataremos apensa de métricas de avaliaçao para algotirmos supervisionados devido a grande abundancia desse tipo de problema na indústria e o fato das métricas de avaliação de problemas não supervisionados são um pouco subjetivas."
   ]
  },
  {
   "cell_type": "markdown",
   "metadata": {},
   "source": [
    "### As métricas mais usadas para problemas de Classificação são:\n",
    "* Accuracy \n",
    "* Precision (P)\n",
    "* Recall (R)\n",
    "* F1 score (F1)\n",
    "* Area under the ROC (Roceiver Operating Characteristic) curve ou AUC \n",
    "* Log Loss\n",
    "* Precision at k (P@k)\n",
    "* Average Precision at k (AP@k)\n",
    "* Mean Average Precision at k (MAP@k)"
   ]
  },
  {
   "cell_type": "markdown",
   "metadata": {},
   "source": [
    "### As métricas mais usadas para problemas de Regressão são:\n",
    "* Mean Absolute Error (MAE) \n",
    "* Mean Squared Error (MSE)\n",
    "* Root Mean Squared Error (RMSE)\n",
    "* Root Mean Squared Logarithmic error (RMSLE)\n",
    "* Mean Percentage Error (MPE) \n",
    "* Mean Absolute Percentage Error (MAPE)\n",
    "* R²\n"
   ]
  },
  {
   "cell_type": "markdown",
   "metadata": {},
   "source": [
    "Saber trabalhar com as métricas mensionadas acima não a única coisa que nós devemos saber. Além disso, devemos saber quando usar quando usar cada uma delas, e isso depende do tipo de dados que temos e do target em questão. \n",
    "\n",
    "*Nota: O autor mensiona que se \"preocupa\" mais com os targets e menos com os tipos de data para saber qual métrica escolher*"
   ]
  },
  {
   "cell_type": "markdown",
   "metadata": {},
   "source": [
    "Para entender um pouco sobre as métricas, vamos começar com um problema simples de classificação. Vamos supoer que temos um problema de classificação binária ( apenas dois targets) e tal problema consiste em classificar imagens de raio-X toráxica. Temos imagens de raio-x sem problema algum e outras com pneumatorax. Nossa tarefa é montar um algoritmo de classificação que dada uma imagem de raio-x, consiga detectar a presença de pneumatorax. "
   ]
  },
  {
   "cell_type": "markdown",
   "metadata": {},
   "source": [
    "."
   ]
  },
  {
   "cell_type": "markdown",
   "metadata": {},
   "source": [
    "<img src = 'imagens/pneumotorax.jpg'/>\n"
   ]
  },
  {
   "cell_type": "markdown",
   "metadata": {},
   "source": [
    "..."
   ]
  },
  {
   "cell_type": "markdown",
   "metadata": {},
   "source": [
    "Vamos assumir que temos dados balanceados, ou seja, o número de casos com pneumatorax é igual ao número de casos sem o problema. Se tivermos 100 casos positivos, então teremos 100 casos negativos também.\n",
    " "
   ]
  },
  {
   "cell_type": "markdown",
   "metadata": {},
   "source": [
    "Primeira coisa a se fazer é separar os dados em dois sets iguais de 100 imagens ( set de treino e de validação). Em cada um dos sets, teremos 50 casos positivos e 50 casos negativos para garantir o balanceamento das classes."
   ]
  },
  {
   "cell_type": "markdown",
   "metadata": {},
   "source": [
    "> ### Quando temos o mesmo número de classes positivas e negativas num problema de classificação binário,nós usamos as seguintes métricas:\n",
    "> * Accuracy\n",
    "> * Precision\n",
    "> * Recall\n",
    "> * F1\n"
   ]
  },
  {
   "cell_type": "markdown",
   "metadata": {},
   "source": [
    "## Accuracy ou Acurácia"
   ]
  },
  {
   "cell_type": "markdown",
   "metadata": {},
   "source": [
    "**Accuracy** ou acurácia é a métrica mais simples usada em machine learning. É definido como o quão preciso o modelo é em geral. Para o problema anterior, se a gente constroi um modelo que classifica **90 imagens corretamente**, nossa **accuracy (ou acurácia) é de 90% ou 0.9**. Se somente 83 imagens são classificadas corretamente, a accuracy é de 83% ou 0.83."
   ]
  },
  {
   "cell_type": "markdown",
   "metadata": {},
   "source": [
    "### Vamos calcular accuracy com Python:"
   ]
  },
  {
   "cell_type": "code",
   "execution_count": 1,
   "metadata": {},
   "outputs": [],
   "source": [
    "def accuracy(y_true, y_pred):\n",
    "    # Inicializa o contador para previsões corretas\n",
    "    correct = 0\n",
    "\n",
    "    # loop sobre todos elementos de y_true e y_pred \n",
    "    for yt, yp in zip(y_true, y_pred):\n",
    "        if yt == yp:\n",
    "            correct += 1\n",
    "\n",
    "    # retorna o avalor da accuracy que é a quantidade de previsões corretas sobre o total\n",
    "    return (correct/ len(y_true))\n"
   ]
  },
  {
   "cell_type": "code",
   "execution_count": 2,
   "metadata": {},
   "outputs": [
    {
     "name": "stdout",
     "output_type": "stream",
     "text": [
      "Accuracy : 0.625\n"
     ]
    }
   ],
   "source": [
    "y_true = [0,1,1,1,0,0,0,1]\n",
    "y_pred = [0,1,0,1,0,1,0,0]\n",
    "\n",
    "accuracy_ = accuracy(y_true, y_pred)\n",
    "print(f\"Accuracy : {accuracy_}\")"
   ]
  },
  {
   "cell_type": "markdown",
   "metadata": {},
   "source": [
    "* Povemos também realizar o cálculo da acurácia com o scikit-learn:"
   ]
  },
  {
   "cell_type": "code",
   "execution_count": 3,
   "metadata": {},
   "outputs": [
    {
     "name": "stdout",
     "output_type": "stream",
     "text": [
      "Accuracy : 0.625\n"
     ]
    }
   ],
   "source": [
    "from sklearn import metrics\n",
    "y_true = [0,1,1,1,0,0,0,1]\n",
    "y_pred = [0,1,0,1,0,1,0,0]\n",
    "\n",
    "accuracy_sklearn = metrics.accuracy_score(y_true,y_pred)\n",
    "\n",
    "print(f\"Accuracy : {accuracy_sklearn}\")"
   ]
  },
  {
   "cell_type": "markdown",
   "metadata": {},
   "source": [
    "---"
   ]
  },
  {
   "cell_type": "markdown",
   "metadata": {},
   "source": [
    "### Dataset Desbalanceado"
   ]
  },
  {
   "cell_type": "markdown",
   "metadata": {},
   "source": [
    "Agora vamos considerar que temos um dataset desbalanceado com 180 imagens de pacientes que não possuem pneumatórax e apenas 20 que possuem.Mesmo para esse caso, nós iremos criar os datasets de treinamento e validação com as mesmas proporções de targets positivos e negativos. Em cada set, teremos 90 imagems sem pneumatórax e 10 imagens com pneumatórax. *Para a situação em questão, se você disser que todas as imagens do set de validação são de pacientes que não possuem pneumatórax, a acurácia seria de 90%!*\n",
    "\n",
    "É notório que temos classes desbalanceadas com uma delas significativamente maior que a outra.**Nesse caso, não é recomendado usar a acurácia como métrica de avaliação pois ela não é representativa para os dados em questão**. Mesmo que tenhamos uma acurácia grande, o modelo provavelmente terá uma performance pobre quando for aplicado para dados de produção e você terá sérios problemas para explicar para o seu gerente o motivo.\n",
    "\n",
    "**Em casos como esse, é melhor olhar para outras métricas como por exemplo a precision.**"
   ]
  },
  {
   "cell_type": "markdown",
   "metadata": {},
   "source": [
    "Antes de falar em precision, vamos entender outros termos importantes. Vamos assumir que imagem com pneumatórax são da classe positiva (1) e imagens sem são da classe negativa (0).\n",
    "\n",
    "**True Positive (TP) ou Verdadeiro Positivo (VP)**: Dada uma imagem, se o modelo prever que tal imagem possui pneumatórax e o valor de target da imagem mostra que o paciente realmente possui pneumatórax, é considerado true positive ou verdadeiro positivo.\n",
    "\n",
    "**True Negative (TN) ou Verdadeiro Negativo (VN)**: Dada uma imagem, se o modelo prever que essa imagem não possui pneumatórax e a imagem é de um paciente que realmente não possui pneumatórax, é considerado True Negative.\n",
    "\n",
    "Resumindo:\n",
    "* *Se o modelo prever corretamente classe positiva, é* **True Positive**\n",
    "* *Se o modelo prever corretamente classe negativa, é* **True Negative**\n",
    "\n",
    "**False Positive (FP) ou Falso Positivo**: Dada uma imagem, se o modelo prever pneumatórax porém a imagem é de um paciente sem pneumatórax, é um False Positive.\n",
    "\n",
    "**False Negative (FN) ou Falso Negativo**: Dada uma imagem, se o modelo prever que a imagem não é de paciente com pneumatórax, porém o paciente possui pneumatórax, é um False Negative.\n",
    "\n",
    "Resumindo:\n",
    "* *Se o modelo prever incorretamente classe positiva, é* **False Positive**\n",
    "* *Se o modelo prever incorretamente classe negativa, é* **False Negative**\n"
   ]
  },
  {
   "cell_type": "markdown",
   "metadata": {},
   "source": [
    "### Vamos olhar a implementação em python dos conceitos apresentados acima"
   ]
  },
  {
   "cell_type": "code",
   "execution_count": 4,
   "metadata": {},
   "outputs": [],
   "source": [
    "def true_positive(y_true, y_pred):\n",
    "    true_pos = 0\n",
    "    for yt,yp in zip(y_true, y_pred):\n",
    "        if yt == 1 and yp == 1:\n",
    "            true_pos += 1\n",
    "    \n",
    "    return true_pos"
   ]
  },
  {
   "cell_type": "code",
   "execution_count": 5,
   "metadata": {},
   "outputs": [],
   "source": [
    "def true_negative(y_true,y_pred):\n",
    "    true_neg = 0\n",
    "    for yt,yp in zip(y_true,y_pred):\n",
    "        if yt == 0 and yp ==0:\n",
    "            true_neg += 1\n",
    "            \n",
    "    return true_neg"
   ]
  },
  {
   "cell_type": "code",
   "execution_count": 6,
   "metadata": {},
   "outputs": [],
   "source": [
    "def false_positive(y_true, y_pred):\n",
    "    false_pos = 0\n",
    "    for yt,yp in zip(y_true, y_pred):\n",
    "        if yt == 0 and yp ==1:\n",
    "            false_pos += 1\n",
    "            \n",
    "    return false_pos"
   ]
  },
  {
   "cell_type": "code",
   "execution_count": 7,
   "metadata": {},
   "outputs": [],
   "source": [
    "def false_negative(y_true, y_pred):\n",
    "    false_neg = 0\n",
    "    for yt, yp in zip(y_true, y_pred):\n",
    "        if yt == 1 and yp == 0:\n",
    "            false_neg += 1\n",
    "            \n",
    "    return false_neg"
   ]
  },
  {
   "cell_type": "markdown",
   "metadata": {},
   "source": [
    "*Nota: As funções aplicadas acima funcionam apenas para classificação binária.*"
   ]
  },
  {
   "cell_type": "code",
   "execution_count": 8,
   "metadata": {},
   "outputs": [],
   "source": [
    "true_Y = [0,1,1,1,0,0,0,1]\n",
    "y_Pred = [0,1,0,1,0,1,0,0]"
   ]
  },
  {
   "cell_type": "code",
   "execution_count": 9,
   "metadata": {},
   "outputs": [
    {
     "data": {
      "text/plain": [
       "2"
      ]
     },
     "execution_count": 9,
     "metadata": {},
     "output_type": "execute_result"
    }
   ],
   "source": [
    "true_positive(true_Y, y_Pred)"
   ]
  },
  {
   "cell_type": "code",
   "execution_count": 10,
   "metadata": {},
   "outputs": [
    {
     "data": {
      "text/plain": [
       "1"
      ]
     },
     "execution_count": 10,
     "metadata": {},
     "output_type": "execute_result"
    }
   ],
   "source": [
    "false_positive(true_Y, y_Pred)"
   ]
  },
  {
   "cell_type": "code",
   "execution_count": 11,
   "metadata": {},
   "outputs": [
    {
     "data": {
      "text/plain": [
       "2"
      ]
     },
     "execution_count": 11,
     "metadata": {},
     "output_type": "execute_result"
    }
   ],
   "source": [
    "false_negative(true_Y, y_Pred)"
   ]
  },
  {
   "cell_type": "code",
   "execution_count": 12,
   "metadata": {},
   "outputs": [
    {
     "data": {
      "text/plain": [
       "3"
      ]
     },
     "execution_count": 12,
     "metadata": {},
     "output_type": "execute_result"
    }
   ],
   "source": [
    "true_negative(true_Y, y_Pred)"
   ]
  },
  {
   "cell_type": "markdown",
   "metadata": {},
   "source": [
    "Se formos definir **Accuracy** com os termos apresentados acima, nós teríamos:"
   ]
  },
  {
   "cell_type": "markdown",
   "metadata": {},
   "source": [
    "\\begin{equation*}\n",
    "Accuracy Score = \\frac{ (TP + TN)}{(TP + TN+FP + FN)}\\\\\n",
    "\\end{equation*}"
   ]
  },
  {
   "cell_type": "markdown",
   "metadata": {},
   "source": [
    "Agora que conhecemos todos esses conceito, podemos calcular a acurácia usingo TP, TM, FP, e FN em python."
   ]
  },
  {
   "cell_type": "code",
   "execution_count": 13,
   "metadata": {},
   "outputs": [],
   "source": [
    "def accuracy_v2(y_true, y_pred):\n",
    "    tp = true_positive(y_true, y_pred)\n",
    "    fp = false_positive(y_true, y_pred)\n",
    "    fn = false_negative(y_true, y_pred)\n",
    "    tn = true_negative(y_true, y_pred)\n",
    "    \n",
    "    accuracy = (tp + tn)/(tp + tn + fp + fn)\n",
    "    return accuracy    "
   ]
  },
  {
   "cell_type": "markdown",
   "metadata": {},
   "source": [
    "> Agora vamos comparar os resultados com a versao do *scikit-learn*"
   ]
  },
  {
   "cell_type": "code",
   "execution_count": 14,
   "metadata": {},
   "outputs": [
    {
     "name": "stdout",
     "output_type": "stream",
     "text": [
      "Accuracy Versão 1:  0.625\n",
      "Accuracy Versão 2:  0.625\n",
      "Accuracy Versão sklearn:  0.625\n"
     ]
    }
   ],
   "source": [
    "y_true = [0,1,1,1,0,0,0,1]\n",
    "y_pred = [0,1,0,1,0,1,0,0]\n",
    "\n",
    "accuracy_1 = accuracy(y_true, y_pred)\n",
    "print('Accuracy Versão 1: ', accuracy_1)\n",
    "\n",
    "accuracy_2 = accuracy_v2(y_true, y_pred)\n",
    "print('Accuracy Versão 2: ', accuracy_2)\n",
    "\n",
    "from sklearn import metrics\n",
    "accuracy_scikit_learn = metrics.accuracy_score(y_true, y_pred)\n",
    "print('Accuracy Versão sklearn: ', accuracy_scikit_learn )"
   ]
  },
  {
   "cell_type": "markdown",
   "metadata": {},
   "source": [
    "Ótimos, agora vimos três maneiras de calcular acurácia e estão todas dando o mesmo resultado.\n",
    "\n",
    "Agora vamos conhecer melhor e avaliar outras métricas.\n",
    "\n"
   ]
  },
  {
   "cell_type": "markdown",
   "metadata": {},
   "source": [
    "A primeira será **Precision**."
   ]
  },
  {
   "cell_type": "markdown",
   "metadata": {},
   "source": [
    "---"
   ]
  },
  {
   "cell_type": "markdown",
   "metadata": {},
   "source": [
    "## Precision"
   ]
  },
  {
   "cell_type": "markdown",
   "metadata": {},
   "source": [
    "\\begin{equation*}\n",
    "Precision = \\frac{ TP }{(TP +FP)}\\\\\n",
    "\\end{equation*}"
   ]
  },
  {
   "cell_type": "markdown",
   "metadata": {},
   "source": [
    "Vamos supor que construímos um novo modelo em dados que também são desbalanceados. Diante dessas condições, nosso modelo identificou corretamente 80 casos de não pneumatórax num total de 90 e 8 casos de pneumatórax num total de 10. Consequentemente, o modelo identificou corretamente 88 imagens num total de 100. A **acurácia** nesse caso é de 0,88 ou 88%.\n",
    "\n",
    "Porém do total de 100 imagens, 10 images sem pneumatórax são classificadas incorretamente como casos com pneumatórax. Além disso, 2 casos de pneumatórax foram  classificados incorretamente como sem pneumatórax.\n",
    "\n",
    "Diante disso, temos:\n",
    ">  - TP: 8\n",
    ">  - TN: 80\n",
    ">  - FP: 10\n",
    ">  - FN: 2"
   ]
  },
  {
   "cell_type": "markdown",
   "metadata": {},
   "source": [
    "Nossa **Precision** será:\n",
    "    \n",
    "\\begin{equation*}\n",
    "Precision = \\frac{ 8 }{(8 +10)}= 0,444\\\\ \n",
    "\\end{equation*} "
   ]
  },
  {
   "cell_type": "markdown",
   "metadata": {},
   "source": [
    "> **Isso significa que nosso modelo está correto 44% das vezes quando tenta identificar casos de pneumatórax.**"
   ]
  },
  {
   "cell_type": "markdown",
   "metadata": {},
   "source": [
    "Agora podemos aplicar precision em python:\n",
    "    "
   ]
  },
  {
   "cell_type": "code",
   "execution_count": 15,
   "metadata": {},
   "outputs": [],
   "source": [
    "def precision(y_true, y_pred):\n",
    "    tp = true_positive(y_true, y_pred)\n",
    "    fp = false_positive(y_true, y_pred)\n",
    "    precision = tp / (tp + fp)\n",
    "    \n",
    "    return precision"
   ]
  },
  {
   "cell_type": "code",
   "execution_count": 16,
   "metadata": {},
   "outputs": [
    {
     "name": "stdout",
     "output_type": "stream",
     "text": [
      "precision: 0.6666666666666666\n"
     ]
    }
   ],
   "source": [
    "y_true = [0,1,1,1,0,0,0,1]\n",
    "y_pred = [0,1,0,1,0,1,0,0]\n",
    "\n",
    "precision_ = precision(y_true, y_pred)\n",
    "print('precision:', precision_)"
   ]
  },
  {
   "cell_type": "markdown",
   "metadata": {},
   "source": [
    "Agora podemos analisar **Recall**"
   ]
  },
  {
   "cell_type": "markdown",
   "metadata": {},
   "source": [
    "---"
   ]
  },
  {
   "cell_type": "markdown",
   "metadata": {},
   "source": [
    "## Recall"
   ]
  },
  {
   "cell_type": "markdown",
   "metadata": {},
   "source": [
    "**Recall** é definido como:\n",
    "    \n",
    "\\begin{equation*}\n",
    "Recall = \\frac{ TP }{(TP + FN)}\\\\ \n",
    "\\end{equation*}"
   ]
  },
  {
   "cell_type": "markdown",
   "metadata": {},
   "source": [
    "Nossa **Recall** será:\n",
    "    \n",
    "\\begin{equation*}\n",
    "Precision = \\frac{ 8 }{(8 + 2)}= 0,80\\\\ \n",
    "\\end{equation*}"
   ]
  },
  {
   "cell_type": "markdown",
   "metadata": {},
   "source": [
    "> **Isso significa que nosso modelo identificou 80% dos casos positivos de pneumatórax corretamente**"
   ]
  },
  {
   "cell_type": "markdown",
   "metadata": {},
   "source": [
    " Vamos aplicar o cálculo em python."
   ]
  },
  {
   "cell_type": "code",
   "execution_count": 17,
   "metadata": {},
   "outputs": [],
   "source": [
    "def recall(y_true, y_pred):\n",
    "    tp = true_positive(y_true, y_pred)\n",
    "    fn = false_negative(y_true, y_pred)\n",
    "    \n",
    "    recall = tp/ (tp + fn)\n",
    "    \n",
    "    return recall"
   ]
  },
  {
   "cell_type": "code",
   "execution_count": 18,
   "metadata": {},
   "outputs": [
    {
     "name": "stdout",
     "output_type": "stream",
     "text": [
      "recall: 0.5\n"
     ]
    }
   ],
   "source": [
    "y_true = [0,1,1,1,0,0,0,1]\n",
    "y_pred = [0,1,0,1,0,1,0,0]\n",
    "\n",
    "recall_ = recall(y_true, y_pred)\n",
    "print('recall:', recall_)"
   ]
  },
  {
   "cell_type": "markdown",
   "metadata": {},
   "source": [
    "Para um bom modelo de machine learning, os valores de precision e recall precisam ser altos. Podemos observar isso no caso anterior, o valor de recall é 'um pouco' alto. Em contrapartida o valor de precision é muito baixo!\n",
    "\n",
    "Nosso modelo reproduz bastante falso positivos porém menos faso negativos. Poucos casos de falso negativos é bom nesse tipo de problema pois não queremos dizer que um paciente não possui pneumatórax quando na verdade ele possui. Isso pode proporcionar sérios problemas ! Porém ainda temos bastante falso positivos e isso também pode ser um problema."
   ]
  },
  {
   "cell_type": "markdown",
   "metadata": {},
   "source": [
    "grande parte dos modelos prevê probabilidade. Nessas predições nós geralmente escolhemos um threshold de 0,5. Esse limite (threshold) nao é sempre ideal e dependendo do valor escolhido para esse limite, os valores de precision e recall podem mudar drasticamente. Se para cada threshold que a gente escolher, calcularmos os valores de precision e recall, nos criamos uma"
   ]
  },
  {
   "cell_type": "markdown",
   "metadata": {},
   "source": [
    "## Curva de Precision e Recall"
   ]
  },
  {
   "cell_type": "markdown",
   "metadata": {},
   "source": [
    "Vamos assumir que temos duas listas:\n",
    "* y_true: os valores de targets\n",
    "* y_pred: Valores de probabilidade da amostra em questão ser da classe 1\n",
    "\n",
    "Agora vamos olhar as probabilidades de predições ao invés do valor que foi predito ( o que é calculado na grande maioria das vezes considerando um limite de 0.5)"
   ]
  },
  {
   "cell_type": "code",
   "execution_count": 19,
   "metadata": {},
   "outputs": [],
   "source": [
    "y_true = [0,0,0,1,0,0,0,0,0,0,\n",
    "          1,0,0,0,0,0,0,0,1,0]\n",
    "\n",
    "\n",
    "y_pred = [.02638412, 0.11114267, 0.31620708, \n",
    "            0.0490937, 0.0191491, 0.17554844, \n",
    "            0.15952202, 0.03819563, 0.11639273, \n",
    "            0.079377, 0.08584789, 0.39095342, \n",
    "            0.27259048, 0.03447096, 0.04644807, \n",
    "            0.03543574, 0.18521942, 0.05934905, \n",
    "            0.61977213, 0.33056815]"
   ]
  },
  {
   "cell_type": "code",
   "execution_count": 20,
   "metadata": {},
   "outputs": [
    {
     "name": "stdout",
     "output_type": "stream",
     "text": [
      "20\n",
      "20\n"
     ]
    }
   ],
   "source": [
    "print(len(y_true))\n",
    "\n",
    "print(len(y_pred))"
   ]
  },
  {
   "cell_type": "markdown",
   "metadata": {},
   "source": []
  },
  {
   "cell_type": "code",
   "execution_count": 21,
   "metadata": {},
   "outputs": [],
   "source": [
    "precisions = []\n",
    "recalls = []\n",
    "\n",
    "# limites ou thresholds\n",
    "thresholds = [0.0490937, 0.05934905, 0.079377,\n",
    "              0.08584789, 0.11114267, 0.11639273, \n",
    "              0.15952202, 0.17554844, 0.18521942, \n",
    "              0.27259048, 0.31620708, 0.33056815, \n",
    "              0.39095342, 0.61977213] \n",
    "\n",
    "# Para cada threshold, vamos calcular a predição em binário\n",
    "# e guardar os valores de precision e recall em duas listas distintas\n",
    "\n",
    "# Para cada valor dentro da lista y_pred, vamos verificar se esse valor é maior \n",
    "# ou igual a cada valor da lista de threshold. Se for, temp+prediction\n",
    "# adiciona 1 a lista, caso contrário adiciona 0\n",
    "for i in thresholds:\n",
    "    temp_prediction = [1 if x >= i else 0 for x in y_pred]\n",
    "\n",
    "    p = precision(y_true, temp_prediction)\n",
    "    r = recall( y_true, temp_prediction)\n",
    "    precisions.append(p)\n",
    "    recalls.append(r)\n",
    "\n",
    "                        "
   ]
  },
  {
   "cell_type": "markdown",
   "metadata": {},
   "source": [
    "Vamos agora plota os valores de precision e recall.\n",
    "\n",
    "### A curva"
   ]
  },
  {
   "cell_type": "code",
   "execution_count": 22,
   "metadata": {},
   "outputs": [
    {
     "data": {
      "image/png": "[encoded data removed]",
      "text/plain": [
       "<Figure size 432x432 with 1 Axes>"
      ]
     },
     "metadata": {
      "needs_background": "light"
     },
     "output_type": "display_data"
    }
   ],
   "source": [
    "import matplotlib.pyplot as plt\n",
    "plt.figure(figsize = (6,6))\n",
    "plt.plot(recalls, precisions)\n",
    "plt.xlabel('Recall', fontsize = 15)\n",
    "plt.ylabel('Precision', fontsize = 15)\n",
    "plt.show()"
   ]
  },
  {
   "cell_type": "markdown",
   "metadata": {},
   "source": [
    "A cuva acima de precision e recall pode parecer diferente do que você está familiarizado a ver. Essa diferença ocorre devido ao fato de termos somente 20 dados com apensas 3 valores positivos. Porém não se preocupe, ela é a mesma curva de precision e recall que você está acostumado a ver pela internet."
   ]
  },
  {
   "cell_type": "markdown",
   "metadata": {},
   "source": [
    "**A figura acima mostra que é difícil escolher um valor de threshold que nos de um bom valor de precision e recall.**\n",
    "\n",
    "Se o limite (threshold) é muito alto, teremos um pequeno número de dados **True Positive** e um **grande valor de falso negativo**. Isso diminui o valor de **Recall**, apensar disso o score de precision será mais alto.\n",
    "\n",
    "Por outro lado, se escolhermos um valor muito pequeno de threshold, o número de **false positives** irá crescer siginificativamente e a **precision** será menor.\n",
    "\n",
    "Esses valores de precision e recall variam entre 0 a 1 e quanto mais o score for próximo de 1, melhor !\n",
    "\n",
    "**F1 Score é a métrica que combina precision e recall.** É definida como uma média ponderada simples ou média harmônica da precision e do recall. Se considerarmos precision como P e recall como R, Podemos representar a **F1 Score** como:\n",
    "\n",
    "\n"
   ]
  },
  {
   "cell_type": "markdown",
   "metadata": {},
   "source": [
    "**F1 Score** \n",
    "    \n",
    "\\begin{equation*}\n",
    "F1 = \\frac{ 2PR }{(P+ R)}\\\\ \n",
    "\\end{equation*}\n",
    "\n",
    "Com um pouco de matemática chegamos a:\n",
    "\n",
    "\\begin{equation*}\n",
    "F1 = \\frac{ 2TP }{(2TP + FP + FN)}\\\\ \n",
    "\\end{equation*}"
   ]
  },
  {
   "cell_type": "markdown",
   "metadata": {},
   "source": [
    "Em python temos:\n",
    "    "
   ]
  },
  {
   "cell_type": "code",
   "execution_count": 23,
   "metadata": {},
   "outputs": [],
   "source": [
    "def f1(y_true, y_pred):\n",
    "    p = precision(y_true, y_pred)\n",
    "    r = recall(y_true, y_pred)\n",
    "    \n",
    "    f1_score = 2*p*r/ (p + r )\n",
    "    return f1_score"
   ]
  },
  {
   "cell_type": "code",
   "execution_count": 24,
   "metadata": {},
   "outputs": [
    {
     "data": {
      "text/plain": [
       "0.5714285714285715"
      ]
     },
     "execution_count": 24,
     "metadata": {},
     "output_type": "execute_result"
    }
   ],
   "source": [
    "y_true = [0,0,0,1,0,0,0,0,0,0,\n",
    "         1,0,0,0,0,0,0,0,1,0]\n",
    "\n",
    "\n",
    "y_pred = [0,0,1,0,0,0,1,0,0,0,\n",
    "         1,0,0,0,0,0,0,0,1,0]\n",
    "\n",
    "f1(y_true,y_pred)"
   ]
  },
  {
   "cell_type": "markdown",
   "metadata": {},
   "source": [
    "> Comparando com scikit-learn:"
   ]
  },
  {
   "cell_type": "code",
   "execution_count": 25,
   "metadata": {},
   "outputs": [
    {
     "data": {
      "text/plain": [
       "0.5714285714285715"
      ]
     },
     "execution_count": 25,
     "metadata": {},
     "output_type": "execute_result"
    }
   ],
   "source": [
    "from sklearn import metrics\n",
    "metrics.f1_score(y_true, y_pred)"
   ]
  },
  {
   "cell_type": "markdown",
   "metadata": {},
   "source": [
    "Ao invés de olhar para precision e recall individualmente, nós podemos apenas olhar para o F1 score. Assim como precision, recall e accuracy, o F1 score varia de 0 a 1 e um modelo perfeito teria F1 igual a 1. **Quando lidamos com datasets com classes desbalanceadas, nós devemos olhar para F1 (ou recision e recall) ao invés de olhar a acurácia."
   ]
  },
  {
   "cell_type": "markdown",
   "metadata": {},
   "source": [
    "---\n",
    "\n"
   ]
  },
  {
   "cell_type": "markdown",
   "metadata": {},
   "source": [
    "### True Positive Rate (TPR) e False Positive Rate (FPR)"
   ]
  },
  {
   "cell_type": "markdown",
   "metadata": {},
   "source": [
    "Existem outros termos importantes que precisamos saber que são **TPR ou True Positive Rate** e **FPR ou False Positive Rate**. Estes serão apresentados agora."
   ]
  },
  {
   "cell_type": "markdown",
   "metadata": {},
   "source": [
    "### True Positive Rate (TPR)"
   ]
  },
  {
   "cell_type": "markdown",
   "metadata": {},
   "source": [
    " **TPR** \n",
    "    \n",
    "\\begin{equation*}\n",
    "TPR = \\frac{TP}{(TP+ FN)}\\\\ \n",
    "\\end{equation*}"
   ]
  },
  {
   "cell_type": "markdown",
   "metadata": {},
   "source": [
    "Apesar da TPR ser a mesma coisa que Recall, vamos fazer uma função python para ela.\n",
    "\n",
    "* TPR ou Recall também é conhecido como **Sensitivity**"
   ]
  },
  {
   "cell_type": "code",
   "execution_count": 26,
   "metadata": {},
   "outputs": [],
   "source": [
    "def tpr(y_true, y_pred):\n",
    "    return recall(y_true, y_pred)"
   ]
  },
  {
   "cell_type": "markdown",
   "metadata": {},
   "source": [
    "### False Positive Rate (FPR)"
   ]
  },
  {
   "cell_type": "markdown",
   "metadata": {},
   "source": [
    " **FPR** \n",
    "    \n",
    "\\begin{equation*}\n",
    "FPR = \\frac{FP}{(TN + FP)}\\\\ \n",
    "\\end{equation*}"
   ]
  },
  {
   "cell_type": "code",
   "execution_count": 27,
   "metadata": {},
   "outputs": [],
   "source": [
    "def fpr(y_true,y_pred):\n",
    "    fp = false_positive(y_true, y_pred)\n",
    "    tn = true_negative(y_true, y_pred)\n",
    "    return fp/(tn + fp)\n"
   ]
  },
  {
   "cell_type": "markdown",
   "metadata": {},
   "source": [
    "### True Negative Rate ou Specificity "
   ]
  },
  {
   "cell_type": "markdown",
   "metadata": {},
   "source": [
    " **True Negative Rate ou Specificity** \n",
    "    \n",
    "\\begin{equation*}\n",
    "FPR = 1- \\frac{FP}{(TN + FP)}\\\\ \n",
    "\\end{equation*}"
   ]
  },
  {
   "cell_type": "markdown",
   "metadata": {},
   "source": [
    "São realmente muitos termos porém **os mais importantes são apenas TNR e FPR**"
   ]
  },
  {
   "cell_type": "markdown",
   "metadata": {},
   "source": [
    "## Curva ROC "
   ]
  },
  {
   "cell_type": "markdown",
   "metadata": {},
   "source": [
    "Vamos considerar que temos 15 dados e que os valores de targets são binários.\n"
   ]
  },
  {
   "cell_type": "markdown",
   "metadata": {},
   "source": [
    "\n",
    "y_true = [ 0,0,0,0,1,0,1,0,0,1,0,1,0,0,1 ]\n",
    "\n",
    "Vamos assumir que treinamos um modelo random forest, e temos a probabilidade de um determinado dado ser da classe positiva.\n",
    "\n",
    "prababilidade de ser 1 : [ 0.1, 0.3, 0.2, 0.6, 0.8, 0.05, 0.9, 0.5, 0.3, 0.66, 0.3, 0.2, 0.85, 0.15, 0.99 ] \n",
    "\n",
    "Para um valor de threshold  maior igual 0.5, nós podemos avaliar todos os valores de precision, recall/TPR, F1 score e FPR. Porém, Podemos fazer a mesma avaliação para diferentes valores de threshold. De fato, podemos escolher qualquer valor de 0 a 1 para calcular todas as métricas mensionadas."
   ]
  },
  {
   "cell_type": "markdown",
   "metadata": {},
   "source": [
    "Vamos fazer essa avaliação levando em consideração somente duas métricas: TPR e FPR"
   ]
  },
  {
   "cell_type": "code",
   "execution_count": 28,
   "metadata": {},
   "outputs": [],
   "source": [
    "tpr_list = []\n",
    "fpr_list = []\n",
    "\n",
    "# Valor de target real\n",
    "y_true = [0,0,0,0,1,0,1,0,0,1,0,1,0,0,1]\n",
    "\n",
    "\n",
    "# Probabilidade do ser da classe positiva (1)\n",
    "y_pred = [0.1, 0.3, 0.2, 0.6, 0.8, 0.05, 0.9, 0.5, 0.3, 0.66, 0.3, 0.2, 0.85, 0.15, 0.99] \n",
    "\n",
    "# Threshold \n",
    "thresholds = [0, 0.1, 0.2, 0.3, 0.4, 0.5, 0.6, 0.7, 0.8, 0.85, 0.9, 0.99, 1.0] \n",
    " \n",
    "for thresh in thresholds:\n",
    "    # Calcula a previsão para cada threshold\n",
    "    temp_pred = [1 if x >= thresh else 0 for x in y_pred]\n",
    "    # True Positive Rate\n",
    "    temp_tpr = tpr(y_true, temp_pred)\n",
    "    # False Positive Rate \n",
    "    temp_fpr = fpr(y_true, temp_pred) \n",
    "    # Inclui na lista \n",
    "    tpr_list.append(temp_tpr) \n",
    "    fpr_list.append(temp_fpr)\n",
    "    "
   ]
  },
  {
   "cell_type": "code",
   "execution_count": 29,
   "metadata": {},
   "outputs": [
    {
     "data": {
      "text/html": [
       "<div>\n",
       "<style scoped>\n",
       "    .dataframe tbody tr th:only-of-type {\n",
       "        vertical-align: middle;\n",
       "    }\n",
       "\n",
       "    .dataframe tbody tr th {\n",
       "        vertical-align: top;\n",
       "    }\n",
       "\n",
       "    .dataframe thead th {\n",
       "        text-align: right;\n",
       "    }\n",
       "</style>\n",
       "<table border=\"1\" class=\"dataframe\">\n",
       "  <thead>\n",
       "    <tr style=\"text-align: right;\">\n",
       "      <th></th>\n",
       "      <th>threshold</th>\n",
       "      <th>tpr</th>\n",
       "      <th>fpr</th>\n",
       "    </tr>\n",
       "  </thead>\n",
       "  <tbody>\n",
       "    <tr>\n",
       "      <th>0</th>\n",
       "      <td>0.00</td>\n",
       "      <td>1.0</td>\n",
       "      <td>1.0</td>\n",
       "    </tr>\n",
       "    <tr>\n",
       "      <th>1</th>\n",
       "      <td>0.10</td>\n",
       "      <td>1.0</td>\n",
       "      <td>0.9</td>\n",
       "    </tr>\n",
       "    <tr>\n",
       "      <th>2</th>\n",
       "      <td>0.20</td>\n",
       "      <td>1.0</td>\n",
       "      <td>0.7</td>\n",
       "    </tr>\n",
       "    <tr>\n",
       "      <th>3</th>\n",
       "      <td>0.30</td>\n",
       "      <td>0.8</td>\n",
       "      <td>0.6</td>\n",
       "    </tr>\n",
       "    <tr>\n",
       "      <th>4</th>\n",
       "      <td>0.40</td>\n",
       "      <td>0.8</td>\n",
       "      <td>0.3</td>\n",
       "    </tr>\n",
       "    <tr>\n",
       "      <th>5</th>\n",
       "      <td>0.50</td>\n",
       "      <td>0.8</td>\n",
       "      <td>0.3</td>\n",
       "    </tr>\n",
       "    <tr>\n",
       "      <th>6</th>\n",
       "      <td>0.60</td>\n",
       "      <td>0.8</td>\n",
       "      <td>0.2</td>\n",
       "    </tr>\n",
       "    <tr>\n",
       "      <th>7</th>\n",
       "      <td>0.70</td>\n",
       "      <td>0.6</td>\n",
       "      <td>0.1</td>\n",
       "    </tr>\n",
       "    <tr>\n",
       "      <th>8</th>\n",
       "      <td>0.80</td>\n",
       "      <td>0.6</td>\n",
       "      <td>0.1</td>\n",
       "    </tr>\n",
       "    <tr>\n",
       "      <th>9</th>\n",
       "      <td>0.85</td>\n",
       "      <td>0.4</td>\n",
       "      <td>0.1</td>\n",
       "    </tr>\n",
       "    <tr>\n",
       "      <th>10</th>\n",
       "      <td>0.90</td>\n",
       "      <td>0.4</td>\n",
       "      <td>0.0</td>\n",
       "    </tr>\n",
       "    <tr>\n",
       "      <th>11</th>\n",
       "      <td>0.99</td>\n",
       "      <td>0.2</td>\n",
       "      <td>0.0</td>\n",
       "    </tr>\n",
       "    <tr>\n",
       "      <th>12</th>\n",
       "      <td>1.00</td>\n",
       "      <td>0.0</td>\n",
       "      <td>0.0</td>\n",
       "    </tr>\n",
       "  </tbody>\n",
       "</table>\n",
       "</div>"
      ],
      "text/plain": [
       "    threshold  tpr  fpr\n",
       "0        0.00  1.0  1.0\n",
       "1        0.10  1.0  0.9\n",
       "2        0.20  1.0  0.7\n",
       "3        0.30  0.8  0.6\n",
       "4        0.40  0.8  0.3\n",
       "5        0.50  0.8  0.3\n",
       "6        0.60  0.8  0.2\n",
       "7        0.70  0.6  0.1\n",
       "8        0.80  0.6  0.1\n",
       "9        0.85  0.4  0.1\n",
       "10       0.90  0.4  0.0\n",
       "11       0.99  0.2  0.0\n",
       "12       1.00  0.0  0.0"
      ]
     },
     "execution_count": 29,
     "metadata": {},
     "output_type": "execute_result"
    }
   ],
   "source": [
    "import pandas as pd\n",
    "values = {\"threshold\":thresholds,\"tpr\":tpr_list,\"fpr\":fpr_list}\n",
    "tpr_fpr_df  = pd.DataFrame(values)\n",
    "tpr_fpr_df"
   ]
  },
  {
   "cell_type": "markdown",
   "metadata": {},
   "source": [
    "Se usarmos os valores da tabela acima para fazer um plot com TPR no eixo Y e FPR no eixo X, teremos a seguinte curva."
   ]
  },
  {
   "cell_type": "code",
   "execution_count": 30,
   "metadata": {},
   "outputs": [
    {
     "data": {
      "text/plain": [
       "Text(0, 0.5, 'TPR')"
      ]
     },
     "execution_count": 30,
     "metadata": {},
     "output_type": "execute_result"
    },
    {
     "data": {
      "image/png": "[encoded data removed]",
      "text/plain": [
       "<Figure size 504x504 with 1 Axes>"
      ]
     },
     "metadata": {
      "needs_background": "light"
     },
     "output_type": "display_data"
    }
   ],
   "source": [
    "plt.figure(figsize=(7,7))\n",
    "plt.fill_between(fpr_list, tpr_list, alpha = 0.4)\n",
    "plt.plot(fpr_list, tpr_list, lw = 3)\n",
    "plt.xlim(0, 1.0)\n",
    "plt.ylim(0, 1.0)\n",
    "plt.xlabel(\"FPR\", fontsize = 15)\n",
    "plt.ylabel(\"TPR\", fontsize = 15)"
   ]
  },
  {
   "cell_type": "markdown",
   "metadata": {},
   "source": [
    "Essa curva é conhecida como **Receiver Operating Characteristic (ROC)**. Se calcularmos a área dentro da curva, nós então estaremos calculando uma nova métrica que é muito usada quando temos um dataset com classes binárias desbalanceados.\n",
    "\n",
    "Essa métrica é conhecida como Area Under ROC curve ou Area Under the Curve ou AUC. Existem muitas maneiras de calcular essa área. Nós iremos usar o scikit learn."
   ]
  },
  {
   "cell_type": "markdown",
   "metadata": {},
   "source": [
    "**Os valores de AUC variam de 0  a 1.**\n",
    "* **AUC = 1** significa que temos um modelo perfeito. Na maioria das vezes, isso significa que tivemos algum erro com a validação e devemo analisar nosso preprocessamento e nossa pipeline de validaçao novamente.\n",
    "\n",
    "* **AUC = 0** significa que nosso modelo é muito ruim. Tente investigar as probabilidades para cada casse, por exemplo, se a probabilidade para uma classe positiva é p, tente substituir esse valor por 1-p. Esse tipo de AUC pode também signigicar que existem alguns problemas com o validation ou data processing.\n",
    "\n",
    "* **AUC = 0.5** significa que as predições estão sendo feitas de forma randomica ou aleatória.\n",
    "\n",
    "Se o valor de AUC cai dentro do intervalo [0 , 0.5], significa que o modelo está pior do que aleatório. Muitas vezes, esses valores são encontrados quando invertemos as classes dos nossos dados. Nesse caso, se a gente tentar inverter as predições, os valores de AUC provavelmente ficarão maiores que 0.5. **Quanto maior o valor da AUC, ou seja, quanto mais perto do 1, melhor!**"
   ]
  },
  {
   "cell_type": "markdown",
   "metadata": {},
   "source": [
    "Vamos relembrar daquele nosso problema do pneumatórax. Imagine que ao criar um modeo que detecta pneumatórax em um paciente, o mesmo apresente um AUC de 0.80. O que isso significa? \n",
    "Um AUC de 0.80 significa que se a gente selecionar aleatoriamente uma imagem com pneumatórax - classe positiva - do nosso dataset e outra imagem aleatóia sem pneumatórax - classe negativa -, então a imagem com pneumatórax terá um rank maior do que a imagem sem pneumatórax com a probabilidade de 0.85.\n",
    "\n",
    "Depois que a gente calcular as probabilidades das classes e o AUC, nós iremos fazer as previsões com os dados de teste. Nós podemos usar tanto probabilidades quanto a classe para avaliar. A escolha da saída gerada vai depender do caso e do problema em questão. No caso de usar somente probabilidades, sem problemas pois a saida do modelo já pode nos dar isso sem problemas. Caso a gente queira ter a classe de saída, nós devemos especificar um **threshold**. Para o caso de classificação binária, podemos fazer o seguinte:\n",
    "\n",
    "\n"
   ]
  },
  {
   "cell_type": "markdown",
   "metadata": {},
   "source": [
    "  \n",
    "\\begin{equation*}\n",
    "classe-predita = Probabilidade >= Threshold \\\\ \n",
    "\\end{equation*}"
   ]
  },
  {
   "cell_type": "markdown",
   "metadata": {},
   "source": [
    "Isso nos dará uma lista que contém apenas valores binários - 1 se probabilidade maior igual ao threshold e 0 caso contrário.\n",
    "\n",
    "> **A pergunta que fica é: Como podemos calcular esse valor de threshold ?**"
   ]
  },
  {
   "cell_type": "markdown",
   "metadata": {},
   "source": [
    "E como você já deve ter imaginado, nós podemos usar a curva ROC para avaliar como o valor de threshold impácta o FPT e o TPR e consequentemente os valores de FP(False Positive) e TP(True Positive). Tal análise depende tanto do tipo de negócio quanto do dataset, e , tendo isso em mente, devemos escolher o melhor valor de threshold que satisfaça as condicões de negócio e dos dados em questão.\n",
    "\n",
    "Por exemplo, se você não quer ter muitos false positives (FP), você deve escolher um threshold mais alto. Por outro lado, isso também fará com que tenha muito mais false netatives (FN). Fique atendo a esse trade-off e escolha com sabedoria.\n",
    "\n",
    "Agora vamos analisar como os valores de threshold impactam os valores de TP e FP.\n",
    "\n",
    "\n"
   ]
  },
  {
   "cell_type": "code",
   "execution_count": 31,
   "metadata": {},
   "outputs": [],
   "source": [
    "# listas vazias para guardar valores de TP e FP\n",
    "tp_list = []\n",
    "fp_list = []\n",
    "\n",
    "# Valores de target\n",
    "y_true = [0,0,0,0,1,0,1,0,0,1,0,1,0,0,1]\n",
    "\n",
    "\n",
    "# Probabilidades preditas da observação ser da classe 1\n",
    "y_pred = [0.1, 0.3, 0.2, 0.6, 0.8, 0.05, 0.9, 0.5, 0.3, 0.66, 0.3, 0.2, 0.85, 0.15, 0.99] \n",
    "\n",
    "# threshold escolhido a mão\n",
    "thresholds = [0, 0.1, 0.2, 0.3, 0.4, 0.5, 0.6, 0.7, 0.8, 0.85, 0.9, 0.99, 1.0]\n",
    "\n",
    "\n",
    "for thresh in thresholds:\n",
    "    # Calcula previsão para um dado valor de threshold\n",
    "    temp_pred = [1 if x >= thresh else 0 for x in y_pred]\n",
    "    # tp e fp\n",
    "    temp_tp = true_positive(y_true, temp_pred)\n",
    "    temp_fp = false_positive(y_true, temp_pred)\n",
    "    \n",
    "    # add to list\n",
    "    tp_list.append(temp_tp)\n",
    "    fp_list.append(temp_fp)"
   ]
  },
  {
   "cell_type": "code",
   "execution_count": 32,
   "metadata": {},
   "outputs": [
    {
     "data": {
      "text/html": [
       "<div>\n",
       "<style scoped>\n",
       "    .dataframe tbody tr th:only-of-type {\n",
       "        vertical-align: middle;\n",
       "    }\n",
       "\n",
       "    .dataframe tbody tr th {\n",
       "        vertical-align: top;\n",
       "    }\n",
       "\n",
       "    .dataframe thead th {\n",
       "        text-align: right;\n",
       "    }\n",
       "</style>\n",
       "<table border=\"1\" class=\"dataframe\">\n",
       "  <thead>\n",
       "    <tr style=\"text-align: right;\">\n",
       "      <th></th>\n",
       "      <th>threshold</th>\n",
       "      <th>tp</th>\n",
       "      <th>fp</th>\n",
       "    </tr>\n",
       "  </thead>\n",
       "  <tbody>\n",
       "    <tr>\n",
       "      <th>0</th>\n",
       "      <td>0.00</td>\n",
       "      <td>1.0</td>\n",
       "      <td>1.0</td>\n",
       "    </tr>\n",
       "    <tr>\n",
       "      <th>1</th>\n",
       "      <td>0.10</td>\n",
       "      <td>1.0</td>\n",
       "      <td>0.9</td>\n",
       "    </tr>\n",
       "    <tr>\n",
       "      <th>2</th>\n",
       "      <td>0.20</td>\n",
       "      <td>1.0</td>\n",
       "      <td>0.7</td>\n",
       "    </tr>\n",
       "    <tr>\n",
       "      <th>3</th>\n",
       "      <td>0.30</td>\n",
       "      <td>0.8</td>\n",
       "      <td>0.6</td>\n",
       "    </tr>\n",
       "    <tr>\n",
       "      <th>4</th>\n",
       "      <td>0.40</td>\n",
       "      <td>0.8</td>\n",
       "      <td>0.3</td>\n",
       "    </tr>\n",
       "    <tr>\n",
       "      <th>5</th>\n",
       "      <td>0.50</td>\n",
       "      <td>0.8</td>\n",
       "      <td>0.3</td>\n",
       "    </tr>\n",
       "    <tr>\n",
       "      <th>6</th>\n",
       "      <td>0.60</td>\n",
       "      <td>0.8</td>\n",
       "      <td>0.2</td>\n",
       "    </tr>\n",
       "    <tr>\n",
       "      <th>7</th>\n",
       "      <td>0.70</td>\n",
       "      <td>0.6</td>\n",
       "      <td>0.1</td>\n",
       "    </tr>\n",
       "    <tr>\n",
       "      <th>8</th>\n",
       "      <td>0.80</td>\n",
       "      <td>0.6</td>\n",
       "      <td>0.1</td>\n",
       "    </tr>\n",
       "    <tr>\n",
       "      <th>9</th>\n",
       "      <td>0.85</td>\n",
       "      <td>0.4</td>\n",
       "      <td>0.1</td>\n",
       "    </tr>\n",
       "    <tr>\n",
       "      <th>10</th>\n",
       "      <td>0.90</td>\n",
       "      <td>0.4</td>\n",
       "      <td>0.0</td>\n",
       "    </tr>\n",
       "    <tr>\n",
       "      <th>11</th>\n",
       "      <td>0.99</td>\n",
       "      <td>0.2</td>\n",
       "      <td>0.0</td>\n",
       "    </tr>\n",
       "    <tr>\n",
       "      <th>12</th>\n",
       "      <td>1.00</td>\n",
       "      <td>0.0</td>\n",
       "      <td>0.0</td>\n",
       "    </tr>\n",
       "  </tbody>\n",
       "</table>\n",
       "</div>"
      ],
      "text/plain": [
       "    threshold   tp   fp\n",
       "0        0.00  1.0  1.0\n",
       "1        0.10  1.0  0.9\n",
       "2        0.20  1.0  0.7\n",
       "3        0.30  0.8  0.6\n",
       "4        0.40  0.8  0.3\n",
       "5        0.50  0.8  0.3\n",
       "6        0.60  0.8  0.2\n",
       "7        0.70  0.6  0.1\n",
       "8        0.80  0.6  0.1\n",
       "9        0.85  0.4  0.1\n",
       "10       0.90  0.4  0.0\n",
       "11       0.99  0.2  0.0\n",
       "12       1.00  0.0  0.0"
      ]
     },
     "execution_count": 32,
     "metadata": {},
     "output_type": "execute_result"
    }
   ],
   "source": [
    "import pandas as pd \n",
    "data = {'threshold':thresholds, \"tp\":tpr_list, \"fp\": fpr_list}\n",
    "\n",
    "threshold_tp_fp_df = pd.DataFrame(data) \n",
    "threshold_tp_fp_df"
   ]
  },
  {
   "cell_type": "markdown",
   "metadata": {},
   "source": [
    "Em muitos casos, o valor de ROC que fica na parte superior esquerda nos dá um threshold muito bom, como mostrado na figura abaixo. Como mostrado na imagem abaixo.\n"
   ]
  },
  {
   "cell_type": "code",
   "execution_count": 33,
   "metadata": {},
   "outputs": [
    {
     "data": {
      "text/plain": [
       "Text(0.6, 0.5, ' Possível melhor Threshold')"
      ]
     },
     "execution_count": 33,
     "metadata": {},
     "output_type": "execute_result"
    },
    {
     "data": {
      "image/png": "[encoded data removed]",
      "text/plain": [
       "<Figure size 504x504 with 1 Axes>"
      ]
     },
     "metadata": {
      "needs_background": "light"
     },
     "output_type": "display_data"
    }
   ],
   "source": [
    "\n",
    "plt.figure(figsize=(7,7))\n",
    "plt.fill_between(fpr_list, tpr_list, alpha = 0.4)\n",
    "plt.plot(fpr_list, tpr_list, lw = 3)\n",
    "plt.xlim(0, 1.0)\n",
    "plt.ylim(0, 1.0)\n",
    "plt.xlabel(\"FPR\", fontsize = 15)\n",
    "plt.ylabel(\"TPR\", fontsize = 15)\n",
    "plt.annotate(' Possível melhor Threshold',\n",
    "            xy= ( 0.2, 0.8),\n",
    "            arrowprops=dict(arrowstyle='fancy', facecolor='red'\n",
    "                           ),\n",
    "            xytext = (0.6,0.5),\n",
    "            ha='center',\n",
    "            va='center')\n",
    "\n",
    "\n"
   ]
  },
  {
   "cell_type": "markdown",
   "metadata": {},
   "source": [
    "Analisando a tabela e a Curva ROC, podemos notar que o threshold de cerca de 0.6 é um bom valor a ser escolhido. Nesse caso, nós não perdemos muitos true positives nem temos muitos casos de falsos negativos."
   ]
  },
  {
   "cell_type": "markdown",
   "metadata": {},
   "source": [
    "AUC é muito utilizado quando temos dados binários com classes desbalanceadas e é uma métrica que definitivamente todos deveriam saber. Uma vez que você entende o conceito por trás do AUC - apresentados anteriormente - se torna relativamente facil de explicar o conceito para pessoas não técnicas que irão utilizar o seu modelo na indústria.\n"
   ]
  },
  {
   "cell_type": "markdown",
   "metadata": {},
   "source": [
    "## Log-Loss"
   ]
  },
  {
   "cell_type": "markdown",
   "metadata": {},
   "source": [
    "Agora que entendemos sobre a AUC, podemos analisar a **log loss**. No caso de problema de classificação binária, a formlua é :\n"
   ]
  },
  {
   "cell_type": "markdown",
   "metadata": {},
   "source": [
    "  \n",
    "\\begin{equation*}\n",
    "Log Loss = -1.0*(target * log(prediction) + (1-target) * log(1-prediction))\\\\ \n",
    "\\end{equation*}\n",
    "\n",
    "Onde:\n",
    "* target é 1 ou 0\n",
    "* prediction é a prababilidade da amostra ser da classe 1"
   ]
  },
  {
   "cell_type": "markdown",
   "metadata": {},
   "source": [
    "Importante notar que log loss penaliza bem por predição errada ou muito longe do valor real. Isso signigica que a **Log Loss nos pune por ter muita certeza e muito errado**"
   ]
  },
  {
   "cell_type": "code",
   "execution_count": 34,
   "metadata": {},
   "outputs": [],
   "source": [
    "import numpy as np\n",
    "\n",
    "def log_loss(y_true, y_proba):\n",
    "    epsilon = 1e-15\n",
    "    loss = []\n",
    "    \n",
    "    for yt, yp in zip(y_true, y_proba):\n",
    "        # ajuste de probabilidade\n",
    "        # 0 é convertido em 1e-15\n",
    "        # 1 é convertido em 1 - 1e-15\n",
    "        yp = np.clip(yp, epsilon, 1 - epsilon)\n",
    "        \n",
    "        temp_loss = - 1.0 * ( yt * np.log(yp) + (1 - yt) * np.log(1 - yp ))\n",
    "        loss.append(temp_loss)\n",
    "        \n",
    "    return np.mean(loss)"
   ]
  },
  {
   "cell_type": "code",
   "execution_count": 35,
   "metadata": {},
   "outputs": [
    {
     "data": {
      "text/plain": [
       "0.49882711861432294"
      ]
     },
     "execution_count": 35,
     "metadata": {},
     "output_type": "execute_result"
    }
   ],
   "source": [
    "y_true = [0, 0, 0, 0, 1, 0, 1,0, 0, 1, 0, 1, 0, 0, 1]\n",
    "y_proba = [0.1, 0.3, 0.2, 0.6, 0.8, 0.05,0.9, 0.5, 0.3, 0.66, 0.3, 0.2, 0.85, 0.15, 0.99]\n",
    "\n",
    "log_loss(y_true,y_proba)\n",
    "\n"
   ]
  },
  {
   "cell_type": "markdown",
   "metadata": {},
   "source": [
    "Utilizando scikit learn:"
   ]
  },
  {
   "cell_type": "code",
   "execution_count": 36,
   "metadata": {},
   "outputs": [
    {
     "data": {
      "text/plain": [
       "0.49882711861432294"
      ]
     },
     "execution_count": 36,
     "metadata": {},
     "output_type": "execute_result"
    }
   ],
   "source": [
    "from sklearn import metrics\n",
    "\n",
    "metrics.log_loss(y_true,y_proba)"
   ]
  },
  {
   "cell_type": "markdown",
   "metadata": {},
   "source": [
    "Como podemos ver, nossa aplicação de log loss bate com o valor gerado com scikit learn. Um dos problemas do log loss é sua dificuldade de interpretar os resultados. Além disso, outro fato relevante é que nós precisamos lembrar que essa métrica gera mais penalidade que as outras métricas"
   ]
  },
  {
   "cell_type": "markdown",
   "metadata": {},
   "source": [
    "Por exemplo, se você tem 51% de certeza com relação a uma amostra pertencer da classe positiva, a log loss será :\n",
    "\n",
    "  \n",
    "\\begin{equation*}\n",
    "Log Loss = -1.0*(1 * log(0.51) + (1-1) * log(1-0.51)) = 0.67\\\\ \n",
    "\\end{equation*}\n",
    "\n",
    "E se você tiver 49% de certeza de que uma amostra pertence a classe 0, a log loss será:\n",
    "\n",
    "\\begin{equation*}\n",
    "Log Loss = -1.0*(1 * log(0.49) + (1-0) * log(1-0.49)) = 0.67\\\\ \n",
    "\\end{equation*}\n",
    "\n",
    "Mesmo considerando um cut-off de 0.5 e tendo uma previsão perfeita, nós ainda teremos uma log loss muito alta. Então, quando estiver trabalhando com essa métrica, devemos ter bastante atenção."
   ]
  },
  {
   "cell_type": "markdown",
   "metadata": {},
   "source": [
    "## Classificação multiclasse "
   ]
  },
  {
   "cell_type": "markdown",
   "metadata": {},
   "source": [
    "Muitas das métricas mencionadas previamente podem ser convertidas para problemas com várias classes. Vamos analisar precision e recall. Para problemas multi classes, nós podemos calcular essas métricas para cada classe em questão. \n",
    "\n",
    "> ### Precision para Classificação multiclasse\n",
    "Existem diferentes maneiras de calcular essas métricas. Primeiramente, vamos tralhar com precision. Como sabemos, precision depende de True positive e false positive.\n",
    "\n",
    "* **Macro averaged precision: Calcula a precision para todas as classes individualmente e depois faz a média**\n",
    "\n",
    "* **Micro avaraged precision: Calcula true positives e false positives das classes e depois usa esse cálculo para calcular a precision total**\n",
    "\n",
    "* **Weighted precision: Similar a Macro precision considera média ponterada das classes, dependendo do número de itens em cada class.**"
   ]
  },
  {
   "cell_type": "markdown",
   "metadata": {},
   "source": [
    "> Vamos começar implementando em python o macro-average precision."
   ]
  },
  {
   "cell_type": "code",
   "execution_count": 37,
   "metadata": {},
   "outputs": [],
   "source": [
    "import numpy as np\n",
    "def macro_precision(y_true, y_pred):\n",
    "    \n",
    "    # Number of classes\n",
    "    num_classes = len(np.unique(y_true))\n",
    "    \n",
    "    precision = 0\n",
    "    \n",
    "    for class_ in range(num_classes):\n",
    "        # Todas as classes exceto a atual é considerada negativa\n",
    "        temp_true = [1 if p == class_ else 0 for p in y_true]\n",
    "        temp_pred = [1 if p == class_ else 0 for p in y_pred]\n",
    "        \n",
    "        tp = true_positive(temp_true, temp_pred)\n",
    "        fp = false_positive(temp_true, temp_pred)\n",
    "        \n",
    "        # precision para a classe em questao\n",
    "        temp_precision = tp/(tp +fp )\n",
    "        \n",
    "        precision += temp_precision\n",
    "        \n",
    "    # the ogeral precision\n",
    "    precision /= num_classes\n",
    "    return precision\n"
   ]
  },
  {
   "cell_type": "markdown",
   "metadata": {},
   "source": [
    "> Vamos agora implementar a micro-precision"
   ]
  },
  {
   "cell_type": "code",
   "execution_count": 38,
   "metadata": {},
   "outputs": [],
   "source": [
    "def micro_precision(y_true, y_pred):\n",
    "    # número de classes\n",
    "    num_classes = len(np.unique(y_true))\n",
    "    \n",
    "    # Inicializando tp e fp\n",
    "    tp = 0\n",
    "    fp = 0\n",
    "    \n",
    "    for class_ in range(num_classes):\n",
    "        temp_true = [1 if p == class_ else 0 for p in y_true]\n",
    "        temp_pred = [1 if p == class_ else 0 for p in y_pred]\n",
    "        \n",
    "        # Calcula true positive para a classe em questão \n",
    "        # Faz update do tp total\n",
    "        tp += true_positive(temp_true, temp_pred)\n",
    "    \n",
    "        # Calcula false positive para a classe em questão\n",
    "        # Faz update do fp total\n",
    "        fp += false_positive(temp_true, temp_pred)\n",
    "\n",
    "    # Calcula a precision total\n",
    "    precision = tp / (tp + fp )\n",
    "    \n",
    "    return precision"
   ]
  },
  {
   "cell_type": "markdown",
   "metadata": {},
   "source": [
    "> Vamos Calcular agora a weighted_precision"
   ]
  },
  {
   "cell_type": "code",
   "execution_count": 39,
   "metadata": {},
   "outputs": [],
   "source": [
    "from collections import Counter\n",
    "def weighted_precision(y_true, y_pred):\n",
    "    # número de classes\n",
    "    num_classes = len(np.unique(y_true))\n",
    "    # criar um dicionario contando as classes\n",
    "    #{1 : 20, 2:15, 3:20}\n",
    "    class_counter = Counter(y_true)\n",
    "    \n",
    "    precision = 0\n",
    "    \n",
    "    for class_ in range(num_classes):\n",
    "        temp_true = [1 if p == class_ else 0 for p in y_true]\n",
    "        temp_pred = [1 if p == class_ else 0 for p in y_pred]\n",
    "        \n",
    "        tp = true_positive(temp_true, temp_pred)\n",
    "        fp = false_positive(temp_true, temp_pred)\n",
    "        \n",
    "        temp_precision = tp / (tp + fp)\n",
    "        \n",
    "        weighted_precision = class_counter[class_]*temp_precision\n",
    "        \n",
    "        precision += weighted_precision\n",
    "        \n",
    "    overall_precision = precision/ len(y_true)\n",
    "    return overall_precision"
   ]
  },
  {
   "cell_type": "markdown",
   "metadata": {},
   "source": [
    "Agora vamos comparar cada uma das métricas multiclass apresentadas com scikit-learn e verificar se o que fizemos está cert.\n"
   ]
  },
  {
   "cell_type": "code",
   "execution_count": 40,
   "metadata": {},
   "outputs": [],
   "source": [
    "from sklearn import metrics \n",
    "y_true = [0, 1, 2, 0, 1, 2, 0, 2, 2]\n",
    "y_pred = [0, 2, 1, 0, 2, 1, 0, 0, 2] \n"
   ]
  },
  {
   "cell_type": "code",
   "execution_count": 41,
   "metadata": {},
   "outputs": [
    {
     "name": "stdout",
     "output_type": "stream",
     "text": [
      "Nossa Função - macro precision:  0.3611111111111111\n",
      "scikit-learn - macro_precision  0.3611111111111111\n"
     ]
    }
   ],
   "source": [
    "print(\"Nossa Função - macro precision: \", macro_precision(y_true, y_pred))\n",
    "print(\"scikit-learn - macro_precision \", metrics.precision_score(y_true, y_pred, average = \"macro\" ))"
   ]
  },
  {
   "cell_type": "code",
   "execution_count": 42,
   "metadata": {},
   "outputs": [
    {
     "name": "stdout",
     "output_type": "stream",
     "text": [
      "Nossa Função - micro precision:  0.4444444444444444\n",
      "scikit-learn - micro_precision  0.4444444444444444\n"
     ]
    }
   ],
   "source": [
    "print(\"Nossa Função - micro precision: \", micro_precision(y_true, y_pred))\n",
    "print(\"scikit-learn - micro_precision \", metrics.precision_score(y_true, y_pred, average = \"micro\" ))"
   ]
  },
  {
   "cell_type": "code",
   "execution_count": 43,
   "metadata": {},
   "outputs": [
    {
     "name": "stdout",
     "output_type": "stream",
     "text": [
      "Nossa Função - weighted precision:  0.39814814814814814\n",
      "scikit-learn - weighted_precision  0.39814814814814814\n"
     ]
    }
   ],
   "source": [
    "print(\"Nossa Função - weighted precision: \", weighted_precision(y_true, y_pred))\n",
    "print(\"scikit-learn - weighted_precision \", metrics.precision_score(y_true, y_pred, average = \"weighted\" ))"
   ]
  },
  {
   "cell_type": "markdown",
   "metadata": {},
   "source": [
    "Podemos notar que nossas funções estão certas. Todas apresentam resultados iguais aos encontrados quando usamos as métricas do scikit-learn."
   ]
  },
  {
   "cell_type": "markdown",
   "metadata": {},
   "source": [
    "Assim como fizemos com a precisiom, nós poderíamos fazer o mesmo com **Recall** para nosso problema multiclass.Precision e Recall dependem de true positive, false positive e false negative. Já F1 score depende somente dos valores de precision e recall."
   ]
  },
  {
   "cell_type": "markdown",
   "metadata": {},
   "source": [
    "> ### Recall para Classificação multiclasse\n",
    "Agora vamos trabalhar com recall."
   ]
  },
  {
   "cell_type": "code",
   "execution_count": 44,
   "metadata": {},
   "outputs": [],
   "source": [
    "import numpy as np\n",
    "def macro_recall(y_true, y_pred):\n",
    "    \n",
    "    # Number of classes\n",
    "    num_classes = len(np.unique(y_true))\n",
    "    \n",
    "    recall = 0\n",
    "    \n",
    "    for class_ in range(num_classes):\n",
    "        # Todas as classes exceto a atual é considerada negativa\n",
    "        temp_true = [1 if p == class_ else 0 for p in y_true]\n",
    "        temp_pred = [1 if p == class_ else 0 for p in y_pred]\n",
    "        \n",
    "        tp = true_positive(temp_true, temp_pred)\n",
    "        fn = false_negative(temp_true, temp_pred)\n",
    "        \n",
    "        # recall para a classe em questao\n",
    "        temp_recall = tp/(tp +fn )\n",
    "        \n",
    "        recall += temp_recall\n",
    "        \n",
    "    #  recall geral\n",
    "    recall /= num_classes\n",
    "    return recall"
   ]
  },
  {
   "cell_type": "code",
   "execution_count": 45,
   "metadata": {},
   "outputs": [],
   "source": [
    "def micro_recall(y_true, y_pred):\n",
    "    # número de classes\n",
    "    num_classes = len(np.unique(y_true))\n",
    "    \n",
    "    # Inicializando tp e fn\n",
    "    tp = 0\n",
    "    fn = 0\n",
    "    \n",
    "    for class_ in range(num_classes):\n",
    "        temp_true = [1 if p == class_ else 0 for p in y_true]\n",
    "        temp_pred = [1 if p == class_ else 0 for p in y_pred]\n",
    "        \n",
    "        # Calcula true positive para a classe em questão \n",
    "        # Faz update do tp total\n",
    "        tp += true_positive(temp_true, temp_pred)\n",
    "    \n",
    "        # Calcula false negative para a classe em questão\n",
    "        # Faz update do fp total\n",
    "        fn += false_negative(temp_true, temp_pred)\n",
    "\n",
    "    # Calcula a recall total\n",
    "    recall = tp / (tp + fn )\n",
    "    \n",
    "    return recall"
   ]
  },
  {
   "cell_type": "code",
   "execution_count": 46,
   "metadata": {},
   "outputs": [],
   "source": [
    "from collections import Counter\n",
    "def weighted_recall(y_true, y_pred):\n",
    "    # número de classes\n",
    "    num_classes = len(np.unique(y_true))\n",
    "    # criar um dicionario contando as classes\n",
    "    #{1 : 20, 2:15, 3:20}\n",
    "    class_counter = Counter(y_true)\n",
    "    \n",
    "    recall = 0\n",
    "    \n",
    "    for class_ in range(num_classes):\n",
    "        temp_true = [1 if p == class_ else 0 for p in y_true]\n",
    "        temp_pred = [1 if p == class_ else 0 for p in y_pred]\n",
    "        \n",
    "        tp = true_positive(temp_true, temp_pred)\n",
    "        fn = false_negative(temp_true, temp_pred)\n",
    "        \n",
    "        temp_recall = tp / (tp + fn)\n",
    "        \n",
    "        weighted_recall = class_counter[class_]*temp_recall\n",
    "        \n",
    "        recall += weighted_recall\n",
    "        \n",
    "    overall_recall = recall/ len(y_true)\n",
    "    return overall_recall"
   ]
  },
  {
   "cell_type": "markdown",
   "metadata": {},
   "source": [
    "Vamos agora fazer a comparação com as métricas do scikit-learn."
   ]
  },
  {
   "cell_type": "code",
   "execution_count": 47,
   "metadata": {},
   "outputs": [
    {
     "name": "stdout",
     "output_type": "stream",
     "text": [
      "Nossa Função - macro recall:  0.4166666666666667\n",
      "scikit-learn - macro_recall  0.4166666666666667\n",
      "\n",
      "Nossa Função - micro recall:  0.4444444444444444\n",
      "scikit-learn - micro_recall 0.4444444444444444\n",
      "\n",
      "Nossa Função - weighted recall:  0.4444444444444444\n",
      "scikit-learn - weighted_recall  0.4444444444444444\n"
     ]
    }
   ],
   "source": [
    "from sklearn import metrics \n",
    "y_true = [0, 1, 2, 0, 1, 2, 0, 2, 2]\n",
    "y_pred = [0, 2, 1, 0, 2, 1, 0, 0, 2] \n",
    "\n",
    "print(\"Nossa Função - macro recall: \", macro_recall(y_true, y_pred))\n",
    "print(\"scikit-learn - macro_recall \", metrics.recall_score(y_true, y_pred, average = \"macro\" ))\n",
    "\n",
    "\n",
    "print()\n",
    "\n",
    "print(\"Nossa Função - micro recall: \", micro_recall(y_true, y_pred))\n",
    "print(\"scikit-learn - micro_recall\", metrics.recall_score(y_true, y_pred, average = \"micro\" ))\n",
    "\n",
    "\n",
    "print()\n",
    "\n",
    "print(\"Nossa Função - weighted recall: \", weighted_recall(y_true, y_pred))\n",
    "print(\"scikit-learn - weighted_recall \", metrics.recall_score(y_true, y_pred, average = \"weighted\" ))\n"
   ]
  },
  {
   "cell_type": "markdown",
   "metadata": {},
   "source": [
    "> ### F1 para Classificação multiclasse\n",
    "Nós poderíamos fazer os mesmos cálculos para F1 score. A seguir Vamos calcular somente a F1 weighted score."
   ]
  },
  {
   "cell_type": "code",
   "execution_count": 48,
   "metadata": {},
   "outputs": [],
   "source": [
    "from collections import Counter\n",
    "import numpy as np\n",
    "def weighted_f1(y_true, y_pred):\n",
    "    # Número de classes\n",
    "    n_classes = len(np.unique(y_true))\n",
    "    # dicionario com contador\n",
    "    class_counts = Counter(y_true)\n",
    "    \n",
    "    f1 = 0\n",
    "    \n",
    "    for class_ in range(n_classes):\n",
    "        temp_true = [1 if p == class_ else 0 for p in y_true]\n",
    "        temp_pred = [1 if p == class_ else 0 for p in y_pred]\n",
    "        \n",
    "        p = precision(temp_true, temp_pred)\n",
    "        r = recall(temp_true, temp_pred)\n",
    "        \n",
    "        # calculando f1 da classe\n",
    "        if p + r != 0:\n",
    "            temp_f1 = 2 * p * r / (p + r)\n",
    "        else:\n",
    "            temp_f1 = 0\n",
    "            \n",
    "        # multiplica f1 pelo contador da classe\n",
    "        weighted_f1 = class_counts[class_] * temp_f1\n",
    "        \n",
    "        # Add no f1 score\n",
    "        f1 += weighted_f1\n",
    "        \n",
    "    # Calcula overall F1 - divide pelo total de amostras\n",
    "    overall_f1 = f1 / len(y_true)\n",
    "\n",
    "    return overall_f1"
   ]
  },
  {
   "cell_type": "code",
   "execution_count": 49,
   "metadata": {},
   "outputs": [
    {
     "name": "stdout",
     "output_type": "stream",
     "text": [
      "Nossa Função - weighted f1:  0.41269841269841273\n",
      "scikit-learn -          f1:  0.41269841269841273\n"
     ]
    }
   ],
   "source": [
    "from sklearn import metrics \n",
    "y_true = [0, 1, 2, 0, 1, 2, 0, 2, 2]\n",
    "y_pred = [0, 2, 1, 0, 2, 1, 0, 0, 2] \n",
    "\n",
    "print(\"Nossa Função - weighted f1: \", weighted_f1(y_true, y_pred))\n",
    "print(\"scikit-learn -          f1: \", metrics.f1_score(y_true, y_pred, average = \"weighted\" ))"
   ]
  },
  {
   "cell_type": "markdown",
   "metadata": {},
   "source": [
    "## Confusion Matrix"
   ]
  },
  {
   "cell_type": "markdown",
   "metadata": {},
   "source": [
    "Apresentamos aqui precision, recall e F1 score para problemas multiclasses. Podemos ainda converter AUC e log loss para o formato multiclass também. A implementação é similar ao que vimos até então.\n",
    "\n",
    "Em problemas de classificação binários ou multiclass, é comum analisar a **confusion matrix**. Utilizando a confusion matrix, nós podemos, de forma simples, analisar o número de amostras classificadas corretamente ou não pelo nosso modelo. Se nós entendemos  TP, TN, FP e FN então entender confusion matrix se torna uma questão fácil. \n",
    "\n",
    "A imagem abaixo mostra o exemplo de uma confusion matrix para um problema de classificação binário."
   ]
  },
  {
   "cell_type": "markdown",
   "metadata": {},
   "source": [
    "."
   ]
  },
  {
   "cell_type": "markdown",
   "metadata": {},
   "source": [
    "<img src=\"confusion-matrix.png\"/>"
   ]
  },
  {
   "cell_type": "markdown",
   "metadata": {},
   "source": [
    "\n",
    "\n",
    "Onde:\n",
    "* Positivo verdadeiro (TP): classe positiva classificada corretamente\n",
    "* Falso positivo (FP): classe positiva classificada incorretamente\n",
    "* Falso negativo (FN): classe negativa classificada incorretamente\n",
    "* Verdadeiro negativo (TN): Classe negativa corretamente classificada\n",
    "\n",
    "Eu acho que olhando para a imagem abaixo você pode ter um melhor entendimento da matriz de confusão. "
   ]
  },
  {
   "cell_type": "markdown",
   "metadata": {},
   "source": [
    "<img src=\"errors.png\"/>\n"
   ]
  },
  {
   "cell_type": "markdown",
   "metadata": {},
   "source": [
    "> ## Multiclass Confusion Matrix"
   ]
  },
  {
   "cell_type": "markdown",
   "metadata": {},
   "source": [
    "Podemos ainda expandir a confusion matrix para problemas de classificação multiclass. Sew tivermos N classes, teremos uma matriz de tamanho NxN.\n",
    "endit\n",
    "A confusion matrix abaixo nos mostra que :\n",
    "\n",
    "* Três instâncias da classe 0  que foram identificadas corretamente.\n",
    "* Uma amostra da classe 2 foi classifica como classe 0\n",
    "* Duas amostras da classe dois foram classificadas como classe 1\n",
    "* Uma amostra da classe 2 foi classificada como 2\n",
    "* Duas amostras da classe 1 foram classificadas como classe 2"
   ]
  },
  {
   "cell_type": "code",
   "execution_count": 50,
   "metadata": {},
   "outputs": [
    {
     "data": {
      "text/plain": [
       "Text(14.5, 0.5, 'Predicted labels')"
      ]
     },
     "execution_count": 50,
     "metadata": {},
     "output_type": "execute_result"
    },
    {
     "data": {
      "image/png": "[encoded data removed]",
      "text/plain": [
       "<Figure size 432x432 with 1 Axes>"
      ]
     },
     "metadata": {
      "needs_background": "light"
     },
     "output_type": "display_data"
    }
   ],
   "source": [
    "import matplotlib.pyplot as plt\n",
    "import seaborn as sns\n",
    "from sklearn import metrics\n",
    "\n",
    "\n",
    "y_true = [0, 1, 2, 0, 1, 2, 0, 2, 2]\n",
    "y_pred = [0, 2, 1, 0, 2, 1, 0, 0, 2]\n",
    "\n",
    "confusion_mat = metrics.confusion_matrix(y_true, y_pred)\n",
    "\n",
    "plt.figure(figsize = (6,6))\n",
    "cmap = sns.cubehelix_palette(50, hue = 0.05, rot = 0, light = 0.9, dark =0, as_cmap= True)\n",
    "sns.set(font_scale = 2.5)\n",
    "sns.heatmap(confusion_mat, annot = True, cmap = cmap, cbar = False)\n",
    "plt.xlabel(\"Actural Labels\", fontsize = 20)\n",
    "plt.ylabel(\"Predicted labels\", fontsize = 20)\n"
   ]
  },
  {
   "cell_type": "markdown",
   "metadata": {},
   "source": [
    "# Multi-label Classification"
   ]
  },
  {
   "cell_type": "markdown",
   "metadata": {},
   "source": [
    "Até o momento nós trabalhamos com métricas binárias e com múltiplas classes. Agora vamos analisar outro tipo de problema de clasificação conhecido como **multi-label classification**.  Nesse tipo de problema de classificação, cada amostra pode ter uma ou mais classes associadas a ela. Um exemplo simples é quando queremos fazer previsão de diferentes objetos em uma determinada imagem.\n",
    "\n",
    "Vamos supor que nossa tarefa é avaliar ou prever se um determinado \"objeto\" ou elemento está presenta na imagem ou não. Para a figura abaixo - Final da libertadores 2019 - a figura possui um jogador com a blusa do Flamengo, três com a blusa do river plate, a bola, chuteiras etc.. porém não possui o Juiz, a trave, o goleiro e etc...Logo, cada imagem que a gente analisar de uma partida de futebol, pode ter multiplos targets associados a ela. Esse é um tipo de problema que chamamos de multi-label classification."
   ]
  },
  {
   "cell_type": "markdown",
   "metadata": {},
   "source": [
    "<img src=\"flamengo.jpeg\"/>\n"
   ]
  },
  {
   "cell_type": "markdown",
   "metadata": {},
   "source": [
    "As métricas utilizadas para avaliar esse tipo de problema são um pouco diferentes. Algumas das mais comuns são: \n",
    "\n",
    "* Precision at k (P@k)\n",
    "* Average precision at k (AP@k)\n",
    "* Mean average precision at k (MAP@k)\n",
    "* Log Loss\n",
    "\n",
    "Vamos iniciar falando de **Precision at k (P@k)**. Favor não confundir essa precision com a que foi apresentada anteriormente. Se tivermos uma lista com as classes originais para uma determinada amostra e uma lista de classes preditas pelo nosso modelo, então podemos considerar precision como o número de acertos da lista de predições ( com relação a lista de classes original ) considerando somente as previsões top-k, dividido por k. \n",
    "\n"
   ]
  },
  {
   "cell_type": "code",
   "execution_count": 51,
   "metadata": {},
   "outputs": [],
   "source": [
    "def pk(y_true, y_pred, k ):\n",
    "    \n",
    "    # k precisa ser > 0\n",
    "    if k == 0:\n",
    "        return 0\n",
    "    \n",
    "    # Estamos interessados somente nos top-k\n",
    "    y_pred = y_pred[:k]\n",
    "    \n",
    "    # Converter predições em sets\n",
    "    pred_set = set(y_pred)\n",
    "    # Converter os valores corretos em sets\n",
    "    true_set = set(y_true)\n",
    "    # Achar valores em comum\n",
    "    common_values = pred_set.intersection(true_set)\n",
    "    \n",
    "    # Retorna o \"tamanho\" dos valores em comum dividido por k\n",
    "    return len(common_values) / len(y_pred[:k])\n",
    "    \n",
    "    "
   ]
  },
  {
   "cell_type": "markdown",
   "metadata": {},
   "source": [
    "Agora que mostramos em código, fica mais fácil de compreender, certo ? \n",
    "\n",
    "A próxima métrica da nossa lista é **average precision at k or AP@k**. AP@k é calculada utilizando P@k ( que acabamos de apresentar ). Por exemplo, se tivermos que calcular AP@3, nós calculamos P@1, P@2 e P@3 e dividimos a soma por 3.\n",
    "\n",
    "Vamos implementar em código."
   ]
  },
  {
   "cell_type": "code",
   "execution_count": 52,
   "metadata": {},
   "outputs": [],
   "source": [
    "def apk(y_true, y_pred, k):\n",
    "    \n",
    "    pk_values = []\n",
    "    \n",
    "    # loop sobre os valores de k. De 1 até k+ 1\n",
    "    for i in range(1, k + 1):\n",
    "        # Calcula p@i e add a lista\n",
    "        pk_values.append(pk(y_true, y_pred, i))\n",
    "        \n",
    "    # Se não tivermos valores na lista, retorna 0\n",
    "    if len(pk_values) == 0:\n",
    "        return 0\n",
    "\n",
    "    return sum(pk_values) / len(pk_values)"
   ]
  },
  {
   "cell_type": "code",
   "execution_count": 53,
   "metadata": {},
   "outputs": [
    {
     "name": "stdout",
     "output_type": "stream",
     "text": [
      "\n",
      "                y_true =[1, 2, 3],\n",
      "                y_pred= [0, 1, 2],\n",
      "                AP@1 = 0.0\n",
      "              \n",
      "\n",
      "                y_true =[1, 2, 3],\n",
      "                y_pred= [0, 1, 2],\n",
      "                AP@2 = 0.25\n",
      "              \n",
      "\n",
      "                y_true =[1, 2, 3],\n",
      "                y_pred= [0, 1, 2],\n",
      "                AP@3 = 0.38888888888888884\n",
      "              \n",
      "\n",
      "                y_true =[0, 2],\n",
      "                y_pred= [1],\n",
      "                AP@1 = 0.0\n",
      "              \n",
      "\n",
      "                y_true =[0, 2],\n",
      "                y_pred= [1],\n",
      "                AP@2 = 0.0\n",
      "              \n",
      "\n",
      "                y_true =[0, 2],\n",
      "                y_pred= [1],\n",
      "                AP@3 = 0.0\n",
      "              \n",
      "\n",
      "                y_true =[1],\n",
      "                y_pred= [0, 2, 3],\n",
      "                AP@1 = 0.0\n",
      "              \n",
      "\n",
      "                y_true =[1],\n",
      "                y_pred= [0, 2, 3],\n",
      "                AP@2 = 0.0\n",
      "              \n",
      "\n",
      "                y_true =[1],\n",
      "                y_pred= [0, 2, 3],\n",
      "                AP@3 = 0.0\n",
      "              \n",
      "\n",
      "                y_true =[2, 3],\n",
      "                y_pred= [2, 3, 4, 0],\n",
      "                AP@1 = 1.0\n",
      "              \n",
      "\n",
      "                y_true =[2, 3],\n",
      "                y_pred= [2, 3, 4, 0],\n",
      "                AP@2 = 1.0\n",
      "              \n",
      "\n",
      "                y_true =[2, 3],\n",
      "                y_pred= [2, 3, 4, 0],\n",
      "                AP@3 = 0.8888888888888888\n",
      "              \n",
      "\n",
      "                y_true =[1, 0],\n",
      "                y_pred= [0, 1, 2],\n",
      "                AP@1 = 1.0\n",
      "              \n",
      "\n",
      "                y_true =[1, 0],\n",
      "                y_pred= [0, 1, 2],\n",
      "                AP@2 = 1.0\n",
      "              \n",
      "\n",
      "                y_true =[1, 0],\n",
      "                y_pred= [0, 1, 2],\n",
      "                AP@3 = 0.8888888888888888\n",
      "              \n",
      "\n",
      "                y_true =[],\n",
      "                y_pred= [0],\n",
      "                AP@1 = 0.0\n",
      "              \n",
      "\n",
      "                y_true =[],\n",
      "                y_pred= [0],\n",
      "                AP@2 = 0.0\n",
      "              \n",
      "\n",
      "                y_true =[],\n",
      "                y_pred= [0],\n",
      "                AP@3 = 0.0\n",
      "              \n"
     ]
    }
   ],
   "source": [
    "# Calculate the MAP@k for k = 1,2,3,4 values\n",
    "\n",
    "y_true = [[1, 2, 3], [0, 2],[1],[2, 3],[1, 0], []] \n",
    "\n",
    "y_pred = [[0, 1, 2],[1],[0, 2, 3], [2, 3, 4, 0], [0, 1, 2],[0]] \n",
    "\n",
    "for i in range(len(y_true)):\n",
    "    for j in range(1,4):\n",
    "        print(f\"\"\"\n",
    "                y_true ={y_true[i]},\n",
    "                y_pred= {y_pred[i]},\n",
    "                AP@{j} = {apk(y_true[i], y_pred[i], k = j)}\n",
    "              \"\"\"           \n",
    "            )"
   ]
  },
  {
   "cell_type": "markdown",
   "metadata": {},
   "source": [
    "Quando estamos falando de machine learning, nós geralmente estamos interessados em avaliar todas as amostras. Por isso nós usamos a **Mean Average Precision at k or MAP@k**, que é a média da **AP@k** e pode ser calculada facilmente com o código abaixo"
   ]
  },
  {
   "cell_type": "code",
   "execution_count": 54,
   "metadata": {},
   "outputs": [],
   "source": [
    "def mapk(y_true, y_pred,k):\n",
    "    \n",
    "    apk_values = []\n",
    "    \n",
    "    apk_values = []\n",
    "    for i in range(len(y_true)):\n",
    "        apk_values.append(apk(y_true[i], y_pred[i], k))\n",
    "    return sum(apk_values) / len(apk_values)"
   ]
  },
  {
   "cell_type": "markdown",
   "metadata": {},
   "source": [
    "Agora vamos calcular MAP@k para k = 1,2,3 e 4."
   ]
  },
  {
   "cell_type": "code",
   "execution_count": 55,
   "metadata": {},
   "outputs": [
    {
     "data": {
      "text/plain": [
       "0.3333333333333333"
      ]
     },
     "execution_count": 55,
     "metadata": {},
     "output_type": "execute_result"
    }
   ],
   "source": [
    "y_true = [[1, 2, 3], [0, 2],[1],[2, 3],[1, 0], []] \n",
    "\n",
    "y_pred = [[0, 1, 2],[1],[0, 2, 3], [2, 3, 4, 0], [0, 1, 2],[0]] \n",
    "\n",
    "mapk(y_true, y_pred, k=1)"
   ]
  },
  {
   "cell_type": "code",
   "execution_count": 56,
   "metadata": {},
   "outputs": [
    {
     "data": {
      "text/plain": [
       "0.375"
      ]
     },
     "execution_count": 56,
     "metadata": {},
     "output_type": "execute_result"
    }
   ],
   "source": [
    "mapk(y_true, y_pred, k=2)"
   ]
  },
  {
   "cell_type": "code",
   "execution_count": 57,
   "metadata": {},
   "outputs": [
    {
     "data": {
      "text/plain": [
       "0.3611111111111111"
      ]
     },
     "execution_count": 57,
     "metadata": {},
     "output_type": "execute_result"
    }
   ],
   "source": [
    "mapk(y_true, y_pred, k=3)"
   ]
  },
  {
   "cell_type": "code",
   "execution_count": 58,
   "metadata": {},
   "outputs": [
    {
     "data": {
      "text/plain": [
       "0.34722222222222215"
      ]
     },
     "execution_count": 58,
     "metadata": {},
     "output_type": "execute_result"
    }
   ],
   "source": [
    "mapk(y_true, y_pred, k=4)"
   ]
  },
  {
   "cell_type": "markdown",
   "metadata": {},
   "source": [
    "P@k, AP@k e MAP@k variam de 0 a 1 com 1 sendo o melhor valor.\n",
    "\n",
    "Nota que algumas vezes você pode ver diferentes implementações de P@k e AP@k na internet. Por exemplo, vamos dar uma olhada na implementação abaixo."
   ]
  },
  {
   "cell_type": "code",
   "execution_count": 59,
   "metadata": {},
   "outputs": [],
   "source": [
    "# fonte :  https://github.com/benhammer/Metrics/blob/master/Python/m1_metrics/average_precision.py\n",
    "import numpy as np\n",
    "\n",
    "def apk(actual, predicted, k = 10):\n",
    "    \n",
    "    if len(predicted) > k:\n",
    "        predicted = predicted[:k]\n",
    "    \n",
    "    score = 0.0\n",
    "    num_hits = 0.0 \n",
    "    \n",
    "    for i, p in enumerate(predicted):\n",
    "        if p in actural and p not in predicted[:i]:\n",
    "            num_hits += 1.0\n",
    "            score += num_hits / (i + 1.0)\n",
    "    \n",
    "    if not actural:\n",
    "        return 0.0\n",
    "    \n",
    "    return score / min(len(actual), k)\n"
   ]
  },
  {
   "cell_type": "markdown",
   "metadata": {},
   "source": [
    "Essa implementação é uma versão diferente do AP@k onde a ordem importa e pesos são dados as previsões. Essa implementação apresentará resultados um pouco diferentes do que a que foi apresentada anteriormente."
   ]
  },
  {
   "cell_type": "markdown",
   "metadata": {},
   "source": [
    "# Log-loss para multi-label classification"
   ]
  },
  {
   "cell_type": "markdown",
   "metadata": {},
   "source": [
    "Para implementar essa log-loss para multilabel classification devemos converter os targets em binários e depois usar log-loss para cada coluna. No final, podemos tirar a média da log loss em cada coluna. Isso também é conhecido como média com relação as colunas. Claro que existem outras maneiras de implementar isso e devemos explora-las quando tivermos necessidade de implementa-las.\n"
   ]
  },
  {
   "cell_type": "markdown",
   "metadata": {},
   "source": [
    "# Métricas de Regressão"
   ]
  },
  {
   "cell_type": "markdown",
   "metadata": {},
   "source": [
    "A métrica de regressão mais utilizada é o erro. O **Erro** é simples e fácil de entender.\n"
   ]
  },
  {
   "cell_type": "markdown",
   "metadata": {},
   "source": [
    "\\begin{equation*}\n",
    "Erro = Valor_Real - Valor_Predito\\\\ \n",
    "\\end{equation*}"
   ]
  },
  {
   "cell_type": "markdown",
   "metadata": {},
   "source": [
    "**Erro Absoluto** é o valor absoluto do erro.\n"
   ]
  },
  {
   "cell_type": "markdown",
   "metadata": {},
   "source": [
    "\\begin{equation*}\n",
    "Absolute Error =Abs( Valor_Real - Valor_Predito )\\\\ \n",
    "\\end{equation*}"
   ]
  },
  {
   "cell_type": "markdown",
   "metadata": {},
   "source": [
    "## Mean Absolute Error (MAE)"
   ]
  },
  {
   "cell_type": "markdown",
   "metadata": {},
   "source": [
    "Temos ainda a **Mean Absolute Error (MAE)** que é a média do erro absoluto. Vamos calcular essa métrica."
   ]
  },
  {
   "cell_type": "code",
   "execution_count": 64,
   "metadata": {},
   "outputs": [],
   "source": [
    "import numpy as np\n",
    "\n",
    "def mean_absolute_error(y_true, y_pred):\n",
    "    error = 0\n",
    "    for yt, yp in zip(y_true, y_pred):\n",
    "        error += np.abs(ty - tp)\n",
    "    return error / len(y_true)"
   ]
  },
  {
   "cell_type": "markdown",
   "metadata": {},
   "source": [
    "##  Mean Squared Error (MSE)"
   ]
  },
  {
   "cell_type": "markdown",
   "metadata": {},
   "source": [
    "Temos também a **Mean Squared Error (MSE)** ou erro médio quadrado."
   ]
  },
  {
   "cell_type": "markdown",
   "metadata": {},
   "source": [
    "\\begin{equation*}\n",
    "Squared Error = ( Valor_Real - Valor_Predito )^2\\\\ \n",
    "\\end{equation*}"
   ]
  },
  {
   "cell_type": "code",
   "execution_count": 66,
   "metadata": {},
   "outputs": [],
   "source": [
    "def mean_squared_error(y_true, y_pred):\n",
    "    error = 0 \n",
    "    \n",
    "    for yt, yp in zip(y_true, y_prep):\n",
    "        error +=(yt + yp) ** 2\n",
    "    return error / len(y_true)"
   ]
  },
  {
   "cell_type": "markdown",
   "metadata": {},
   "source": [
    "## Root Mean Squared Error"
   ]
  },
  {
   "cell_type": "markdown",
   "metadata": {},
   "source": [
    "RMSE é uma das métricas mais utilizadas."
   ]
  },
  {
   "cell_type": "markdown",
   "metadata": {},
   "source": [
    "\n",
    "\\begin{equation*}\n",
    "Squared Error = SQRT( MSE)\\\\ \n",
    "\\end{equation*}\n"
   ]
  },
  {
   "cell_type": "markdown",
   "metadata": {},
   "source": [
    "## Squared Logatithmic Error (SLE)"
   ]
  },
  {
   "cell_type": "code",
   "execution_count": null,
   "metadata": {},
   "outputs": [],
   "source": []
  },
  {
   "cell_type": "code",
   "execution_count": null,
   "metadata": {},
   "outputs": [],
   "source": []
  }
 ],
 "metadata": {
  "kernelspec": {
   "display_name": "Python 3",
   "language": "python",
   "name": "python3"
  },
  "language_info": {
   "codemirror_mode": {
    "name": "ipython",
    "version": 3
   },
   "file_extension": ".py",
   "mimetype": "text/x-python",
   "name": "python",
   "nbconvert_exporter": "python",
   "pygments_lexer": "ipython3",
   "version": "3.8.3"
  }
 },
 "nbformat": 4,
 "nbformat_minor": 4
}
